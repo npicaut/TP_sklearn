{
 "cells": [
  {
   "cell_type": "markdown",
   "id": "1e800231",
   "metadata": {},
   "source": [
    "# Objectif"
   ]
  },
  {
   "cell_type": "markdown",
   "id": "8a994979",
   "metadata": {},
   "source": [
    "Le Spaceship Titanic est un paquebot interstellaire lancé il y a un mois. Avec près de 13 000 passagers à bord, le vaisseau a entamé son voyage en transportant des émigrants de notre système solaire vers trois exoplanètes nouvellement habitables en orbite autour d'étoiles proches.\n",
    "Alors qu'il contournait Alpha Centauri en route vers sa première destination, 55 Cancri E, le vaisseau spatial Titanic est entré en collision avec une anomalie spatio-temporelle cachée dans un nuage de poussière. Malheureusement, il a connu le même sort que son homonyme 1000 ans plus tôt. Bien que le navire soit resté intact, près de la moitié des passagers ont été transportés dans une autre dimension. \n",
    "Pour retrouver les passagers perdus, nous devons prédire quels passagers ont été transportés par l'anomalie à l'aide des enregistrements récupérés dans le système informatique endommagé du vaisseau spatial."
   ]
  },
  {
   "cell_type": "code",
   "execution_count": 1,
   "id": "a19cc043",
   "metadata": {},
   "outputs": [],
   "source": [
    "import pandas as pd\n",
    "import numpy as np\n",
    "import matplotlib.pyplot as plt\n",
    "\n",
    "data = pd.read_csv(\"./train.csv\", sep=',')\n",
    "realtest= pd.read_csv(\"./test.csv\", sep=',')\n"
   ]
  },
  {
   "cell_type": "markdown",
   "id": "31d5458a",
   "metadata": {},
   "source": [
    "# Observation et description des données "
   ]
  },
  {
   "cell_type": "code",
   "execution_count": 2,
   "id": "cbfdad8c",
   "metadata": {},
   "outputs": [
    {
     "name": "stdout",
     "output_type": "stream",
     "text": [
      "<class 'pandas.core.frame.DataFrame'>\n"
     ]
    },
    {
     "data": {
      "text/html": [
       "<div>\n",
       "<style scoped>\n",
       "    .dataframe tbody tr th:only-of-type {\n",
       "        vertical-align: middle;\n",
       "    }\n",
       "\n",
       "    .dataframe tbody tr th {\n",
       "        vertical-align: top;\n",
       "    }\n",
       "\n",
       "    .dataframe thead th {\n",
       "        text-align: right;\n",
       "    }\n",
       "</style>\n",
       "<table border=\"1\" class=\"dataframe\">\n",
       "  <thead>\n",
       "    <tr style=\"text-align: right;\">\n",
       "      <th></th>\n",
       "      <th>PassengerId</th>\n",
       "      <th>HomePlanet</th>\n",
       "      <th>CryoSleep</th>\n",
       "      <th>Cabin</th>\n",
       "      <th>Destination</th>\n",
       "      <th>Age</th>\n",
       "      <th>VIP</th>\n",
       "      <th>RoomService</th>\n",
       "      <th>FoodCourt</th>\n",
       "      <th>ShoppingMall</th>\n",
       "      <th>Spa</th>\n",
       "      <th>VRDeck</th>\n",
       "      <th>Name</th>\n",
       "      <th>Transported</th>\n",
       "    </tr>\n",
       "  </thead>\n",
       "  <tbody>\n",
       "    <tr>\n",
       "      <th>0</th>\n",
       "      <td>0001_01</td>\n",
       "      <td>Europa</td>\n",
       "      <td>False</td>\n",
       "      <td>B/0/P</td>\n",
       "      <td>TRAPPIST-1e</td>\n",
       "      <td>39.0</td>\n",
       "      <td>False</td>\n",
       "      <td>0.0</td>\n",
       "      <td>0.0</td>\n",
       "      <td>0.0</td>\n",
       "      <td>0.0</td>\n",
       "      <td>0.0</td>\n",
       "      <td>Maham Ofracculy</td>\n",
       "      <td>False</td>\n",
       "    </tr>\n",
       "    <tr>\n",
       "      <th>1</th>\n",
       "      <td>0002_01</td>\n",
       "      <td>Earth</td>\n",
       "      <td>False</td>\n",
       "      <td>F/0/S</td>\n",
       "      <td>TRAPPIST-1e</td>\n",
       "      <td>24.0</td>\n",
       "      <td>False</td>\n",
       "      <td>109.0</td>\n",
       "      <td>9.0</td>\n",
       "      <td>25.0</td>\n",
       "      <td>549.0</td>\n",
       "      <td>44.0</td>\n",
       "      <td>Juanna Vines</td>\n",
       "      <td>True</td>\n",
       "    </tr>\n",
       "    <tr>\n",
       "      <th>2</th>\n",
       "      <td>0003_01</td>\n",
       "      <td>Europa</td>\n",
       "      <td>False</td>\n",
       "      <td>A/0/S</td>\n",
       "      <td>TRAPPIST-1e</td>\n",
       "      <td>58.0</td>\n",
       "      <td>True</td>\n",
       "      <td>43.0</td>\n",
       "      <td>3576.0</td>\n",
       "      <td>0.0</td>\n",
       "      <td>6715.0</td>\n",
       "      <td>49.0</td>\n",
       "      <td>Altark Susent</td>\n",
       "      <td>False</td>\n",
       "    </tr>\n",
       "    <tr>\n",
       "      <th>3</th>\n",
       "      <td>0003_02</td>\n",
       "      <td>Europa</td>\n",
       "      <td>False</td>\n",
       "      <td>A/0/S</td>\n",
       "      <td>TRAPPIST-1e</td>\n",
       "      <td>33.0</td>\n",
       "      <td>False</td>\n",
       "      <td>0.0</td>\n",
       "      <td>1283.0</td>\n",
       "      <td>371.0</td>\n",
       "      <td>3329.0</td>\n",
       "      <td>193.0</td>\n",
       "      <td>Solam Susent</td>\n",
       "      <td>False</td>\n",
       "    </tr>\n",
       "    <tr>\n",
       "      <th>4</th>\n",
       "      <td>0004_01</td>\n",
       "      <td>Earth</td>\n",
       "      <td>False</td>\n",
       "      <td>F/1/S</td>\n",
       "      <td>TRAPPIST-1e</td>\n",
       "      <td>16.0</td>\n",
       "      <td>False</td>\n",
       "      <td>303.0</td>\n",
       "      <td>70.0</td>\n",
       "      <td>151.0</td>\n",
       "      <td>565.0</td>\n",
       "      <td>2.0</td>\n",
       "      <td>Willy Santantines</td>\n",
       "      <td>True</td>\n",
       "    </tr>\n",
       "  </tbody>\n",
       "</table>\n",
       "</div>"
      ],
      "text/plain": [
       "  PassengerId HomePlanet CryoSleep  Cabin  Destination   Age    VIP  \\\n",
       "0     0001_01     Europa     False  B/0/P  TRAPPIST-1e  39.0  False   \n",
       "1     0002_01      Earth     False  F/0/S  TRAPPIST-1e  24.0  False   \n",
       "2     0003_01     Europa     False  A/0/S  TRAPPIST-1e  58.0   True   \n",
       "3     0003_02     Europa     False  A/0/S  TRAPPIST-1e  33.0  False   \n",
       "4     0004_01      Earth     False  F/1/S  TRAPPIST-1e  16.0  False   \n",
       "\n",
       "   RoomService  FoodCourt  ShoppingMall     Spa  VRDeck               Name  \\\n",
       "0          0.0        0.0           0.0     0.0     0.0    Maham Ofracculy   \n",
       "1        109.0        9.0          25.0   549.0    44.0       Juanna Vines   \n",
       "2         43.0     3576.0           0.0  6715.0    49.0      Altark Susent   \n",
       "3          0.0     1283.0         371.0  3329.0   193.0       Solam Susent   \n",
       "4        303.0       70.0         151.0   565.0     2.0  Willy Santantines   \n",
       "\n",
       "   Transported  \n",
       "0        False  \n",
       "1         True  \n",
       "2        False  \n",
       "3        False  \n",
       "4         True  "
      ]
     },
     "execution_count": 2,
     "metadata": {},
     "output_type": "execute_result"
    }
   ],
   "source": [
    "print(type(data))     \n",
    "data.head()"
   ]
  },
  {
   "cell_type": "code",
   "execution_count": 3,
   "id": "92f369c2",
   "metadata": {},
   "outputs": [
    {
     "data": {
      "text/html": [
       "<div>\n",
       "<style scoped>\n",
       "    .dataframe tbody tr th:only-of-type {\n",
       "        vertical-align: middle;\n",
       "    }\n",
       "\n",
       "    .dataframe tbody tr th {\n",
       "        vertical-align: top;\n",
       "    }\n",
       "\n",
       "    .dataframe thead th {\n",
       "        text-align: right;\n",
       "    }\n",
       "</style>\n",
       "<table border=\"1\" class=\"dataframe\">\n",
       "  <thead>\n",
       "    <tr style=\"text-align: right;\">\n",
       "      <th></th>\n",
       "      <th>Age</th>\n",
       "      <th>RoomService</th>\n",
       "      <th>FoodCourt</th>\n",
       "      <th>ShoppingMall</th>\n",
       "      <th>Spa</th>\n",
       "      <th>VRDeck</th>\n",
       "    </tr>\n",
       "  </thead>\n",
       "  <tbody>\n",
       "    <tr>\n",
       "      <th>count</th>\n",
       "      <td>8514.000000</td>\n",
       "      <td>8512.000000</td>\n",
       "      <td>8510.000000</td>\n",
       "      <td>8485.000000</td>\n",
       "      <td>8510.000000</td>\n",
       "      <td>8505.000000</td>\n",
       "    </tr>\n",
       "    <tr>\n",
       "      <th>mean</th>\n",
       "      <td>28.827930</td>\n",
       "      <td>224.687617</td>\n",
       "      <td>458.077203</td>\n",
       "      <td>173.729169</td>\n",
       "      <td>311.138778</td>\n",
       "      <td>304.854791</td>\n",
       "    </tr>\n",
       "    <tr>\n",
       "      <th>std</th>\n",
       "      <td>14.489021</td>\n",
       "      <td>666.717663</td>\n",
       "      <td>1611.489240</td>\n",
       "      <td>604.696458</td>\n",
       "      <td>1136.705535</td>\n",
       "      <td>1145.717189</td>\n",
       "    </tr>\n",
       "    <tr>\n",
       "      <th>min</th>\n",
       "      <td>0.000000</td>\n",
       "      <td>0.000000</td>\n",
       "      <td>0.000000</td>\n",
       "      <td>0.000000</td>\n",
       "      <td>0.000000</td>\n",
       "      <td>0.000000</td>\n",
       "    </tr>\n",
       "    <tr>\n",
       "      <th>25%</th>\n",
       "      <td>19.000000</td>\n",
       "      <td>0.000000</td>\n",
       "      <td>0.000000</td>\n",
       "      <td>0.000000</td>\n",
       "      <td>0.000000</td>\n",
       "      <td>0.000000</td>\n",
       "    </tr>\n",
       "    <tr>\n",
       "      <th>50%</th>\n",
       "      <td>27.000000</td>\n",
       "      <td>0.000000</td>\n",
       "      <td>0.000000</td>\n",
       "      <td>0.000000</td>\n",
       "      <td>0.000000</td>\n",
       "      <td>0.000000</td>\n",
       "    </tr>\n",
       "    <tr>\n",
       "      <th>75%</th>\n",
       "      <td>38.000000</td>\n",
       "      <td>47.000000</td>\n",
       "      <td>76.000000</td>\n",
       "      <td>27.000000</td>\n",
       "      <td>59.000000</td>\n",
       "      <td>46.000000</td>\n",
       "    </tr>\n",
       "    <tr>\n",
       "      <th>max</th>\n",
       "      <td>79.000000</td>\n",
       "      <td>14327.000000</td>\n",
       "      <td>29813.000000</td>\n",
       "      <td>23492.000000</td>\n",
       "      <td>22408.000000</td>\n",
       "      <td>24133.000000</td>\n",
       "    </tr>\n",
       "  </tbody>\n",
       "</table>\n",
       "</div>"
      ],
      "text/plain": [
       "               Age   RoomService     FoodCourt  ShoppingMall           Spa  \\\n",
       "count  8514.000000   8512.000000   8510.000000   8485.000000   8510.000000   \n",
       "mean     28.827930    224.687617    458.077203    173.729169    311.138778   \n",
       "std      14.489021    666.717663   1611.489240    604.696458   1136.705535   \n",
       "min       0.000000      0.000000      0.000000      0.000000      0.000000   \n",
       "25%      19.000000      0.000000      0.000000      0.000000      0.000000   \n",
       "50%      27.000000      0.000000      0.000000      0.000000      0.000000   \n",
       "75%      38.000000     47.000000     76.000000     27.000000     59.000000   \n",
       "max      79.000000  14327.000000  29813.000000  23492.000000  22408.000000   \n",
       "\n",
       "             VRDeck  \n",
       "count   8505.000000  \n",
       "mean     304.854791  \n",
       "std     1145.717189  \n",
       "min        0.000000  \n",
       "25%        0.000000  \n",
       "50%        0.000000  \n",
       "75%       46.000000  \n",
       "max    24133.000000  "
      ]
     },
     "execution_count": 3,
     "metadata": {},
     "output_type": "execute_result"
    }
   ],
   "source": [
    "data.describe()"
   ]
  },
  {
   "cell_type": "code",
   "execution_count": 4,
   "id": "5428be48",
   "metadata": {},
   "outputs": [
    {
     "data": {
      "text/html": [
       "<div>\n",
       "<style scoped>\n",
       "    .dataframe tbody tr th:only-of-type {\n",
       "        vertical-align: middle;\n",
       "    }\n",
       "\n",
       "    .dataframe tbody tr th {\n",
       "        vertical-align: top;\n",
       "    }\n",
       "\n",
       "    .dataframe thead th {\n",
       "        text-align: right;\n",
       "    }\n",
       "</style>\n",
       "<table border=\"1\" class=\"dataframe\">\n",
       "  <thead>\n",
       "    <tr style=\"text-align: right;\">\n",
       "      <th></th>\n",
       "      <th>Age</th>\n",
       "      <th>RoomService</th>\n",
       "      <th>FoodCourt</th>\n",
       "      <th>ShoppingMall</th>\n",
       "      <th>Spa</th>\n",
       "      <th>VRDeck</th>\n",
       "    </tr>\n",
       "  </thead>\n",
       "  <tbody>\n",
       "    <tr>\n",
       "      <th>count</th>\n",
       "      <td>4186.000000</td>\n",
       "      <td>4195.000000</td>\n",
       "      <td>4171.000000</td>\n",
       "      <td>4179.000000</td>\n",
       "      <td>4176.000000</td>\n",
       "      <td>4197.000000</td>\n",
       "    </tr>\n",
       "    <tr>\n",
       "      <th>mean</th>\n",
       "      <td>28.658146</td>\n",
       "      <td>219.266269</td>\n",
       "      <td>439.484296</td>\n",
       "      <td>177.295525</td>\n",
       "      <td>303.052443</td>\n",
       "      <td>310.710031</td>\n",
       "    </tr>\n",
       "    <tr>\n",
       "      <th>std</th>\n",
       "      <td>14.179072</td>\n",
       "      <td>607.011289</td>\n",
       "      <td>1527.663045</td>\n",
       "      <td>560.821123</td>\n",
       "      <td>1117.186015</td>\n",
       "      <td>1246.994742</td>\n",
       "    </tr>\n",
       "    <tr>\n",
       "      <th>min</th>\n",
       "      <td>0.000000</td>\n",
       "      <td>0.000000</td>\n",
       "      <td>0.000000</td>\n",
       "      <td>0.000000</td>\n",
       "      <td>0.000000</td>\n",
       "      <td>0.000000</td>\n",
       "    </tr>\n",
       "    <tr>\n",
       "      <th>25%</th>\n",
       "      <td>19.000000</td>\n",
       "      <td>0.000000</td>\n",
       "      <td>0.000000</td>\n",
       "      <td>0.000000</td>\n",
       "      <td>0.000000</td>\n",
       "      <td>0.000000</td>\n",
       "    </tr>\n",
       "    <tr>\n",
       "      <th>50%</th>\n",
       "      <td>26.000000</td>\n",
       "      <td>0.000000</td>\n",
       "      <td>0.000000</td>\n",
       "      <td>0.000000</td>\n",
       "      <td>0.000000</td>\n",
       "      <td>0.000000</td>\n",
       "    </tr>\n",
       "    <tr>\n",
       "      <th>75%</th>\n",
       "      <td>37.000000</td>\n",
       "      <td>53.000000</td>\n",
       "      <td>78.000000</td>\n",
       "      <td>33.000000</td>\n",
       "      <td>50.000000</td>\n",
       "      <td>36.000000</td>\n",
       "    </tr>\n",
       "    <tr>\n",
       "      <th>max</th>\n",
       "      <td>79.000000</td>\n",
       "      <td>11567.000000</td>\n",
       "      <td>25273.000000</td>\n",
       "      <td>8292.000000</td>\n",
       "      <td>19844.000000</td>\n",
       "      <td>22272.000000</td>\n",
       "    </tr>\n",
       "  </tbody>\n",
       "</table>\n",
       "</div>"
      ],
      "text/plain": [
       "               Age   RoomService     FoodCourt  ShoppingMall           Spa  \\\n",
       "count  4186.000000   4195.000000   4171.000000   4179.000000   4176.000000   \n",
       "mean     28.658146    219.266269    439.484296    177.295525    303.052443   \n",
       "std      14.179072    607.011289   1527.663045    560.821123   1117.186015   \n",
       "min       0.000000      0.000000      0.000000      0.000000      0.000000   \n",
       "25%      19.000000      0.000000      0.000000      0.000000      0.000000   \n",
       "50%      26.000000      0.000000      0.000000      0.000000      0.000000   \n",
       "75%      37.000000     53.000000     78.000000     33.000000     50.000000   \n",
       "max      79.000000  11567.000000  25273.000000   8292.000000  19844.000000   \n",
       "\n",
       "             VRDeck  \n",
       "count   4197.000000  \n",
       "mean     310.710031  \n",
       "std     1246.994742  \n",
       "min        0.000000  \n",
       "25%        0.000000  \n",
       "50%        0.000000  \n",
       "75%       36.000000  \n",
       "max    22272.000000  "
      ]
     },
     "execution_count": 4,
     "metadata": {},
     "output_type": "execute_result"
    }
   ],
   "source": [
    "realtest.describe()"
   ]
  },
  {
   "cell_type": "code",
   "execution_count": 5,
   "id": "29b5c765",
   "metadata": {},
   "outputs": [
    {
     "name": "stdout",
     "output_type": "stream",
     "text": [
      "<class 'pandas.core.frame.DataFrame'>\n",
      "RangeIndex: 8693 entries, 0 to 8692\n",
      "Data columns (total 14 columns):\n",
      " #   Column        Non-Null Count  Dtype  \n",
      "---  ------        --------------  -----  \n",
      " 0   PassengerId   8693 non-null   object \n",
      " 1   HomePlanet    8492 non-null   object \n",
      " 2   CryoSleep     8476 non-null   object \n",
      " 3   Cabin         8494 non-null   object \n",
      " 4   Destination   8511 non-null   object \n",
      " 5   Age           8514 non-null   float64\n",
      " 6   VIP           8490 non-null   object \n",
      " 7   RoomService   8512 non-null   float64\n",
      " 8   FoodCourt     8510 non-null   float64\n",
      " 9   ShoppingMall  8485 non-null   float64\n",
      " 10  Spa           8510 non-null   float64\n",
      " 11  VRDeck        8505 non-null   float64\n",
      " 12  Name          8493 non-null   object \n",
      " 13  Transported   8693 non-null   bool   \n",
      "dtypes: bool(1), float64(6), object(7)\n",
      "memory usage: 891.5+ KB\n"
     ]
    }
   ],
   "source": [
    "data.info()"
   ]
  },
  {
   "cell_type": "code",
   "execution_count": 6,
   "id": "b96f9c3e",
   "metadata": {},
   "outputs": [
    {
     "name": "stdout",
     "output_type": "stream",
     "text": [
      "(8693, 14)\n",
      "(8693, 14)\n"
     ]
    }
   ],
   "source": [
    "#Eliminer les éventuels duplicats\n",
    "print(data.shape)\n",
    "data = data.drop_duplicates()    \n",
    "print(data.shape)"
   ]
  },
  {
   "cell_type": "code",
   "execution_count": 7,
   "id": "c2d0a03d",
   "metadata": {},
   "outputs": [
    {
     "name": "stdout",
     "output_type": "stream",
     "text": [
      "Description du set de training\n",
      "Index(['PassengerId', 'HomePlanet', 'CryoSleep', 'Cabin', 'Destination', 'VIP',\n",
      "       'Name'],\n",
      "      dtype='object')\n",
      "PassengerId : nombre de valeurs uniques: 8693\n",
      "PassengerId valeur la plus fréquente: 0001_01\n",
      "HomePlanet : nombre de valeurs uniques: 4\n",
      "HomePlanet valeur la plus fréquente: Earth\n",
      "CryoSleep : nombre de valeurs uniques: 3\n",
      "CryoSleep valeur la plus fréquente: False\n",
      "Cabin : nombre de valeurs uniques: 6561\n",
      "Cabin valeur la plus fréquente: G/734/S\n",
      "Destination : nombre de valeurs uniques: 4\n",
      "Destination valeur la plus fréquente: TRAPPIST-1e\n",
      "VIP : nombre de valeurs uniques: 3\n",
      "VIP valeur la plus fréquente: False\n",
      "Name : nombre de valeurs uniques: 8474\n",
      "Name valeur la plus fréquente: Alraium Disivering\n",
      "\n",
      " Description du set de test\n",
      "PassengerId : nombre de valeurs uniques: 4277\n",
      "PassengerId valeur la plus fréquente: 0013_01\n",
      "HomePlanet : nombre de valeurs uniques: 4\n",
      "HomePlanet valeur la plus fréquente: Earth\n",
      "CryoSleep : nombre de valeurs uniques: 3\n",
      "CryoSleep valeur la plus fréquente: False\n",
      "Cabin : nombre de valeurs uniques: 3266\n",
      "Cabin valeur la plus fréquente: G/160/P\n",
      "Destination : nombre de valeurs uniques: 4\n",
      "Destination valeur la plus fréquente: TRAPPIST-1e\n",
      "VIP : nombre de valeurs uniques: 3\n",
      "VIP valeur la plus fréquente: False\n",
      "Name : nombre de valeurs uniques: 4177\n",
      "Name valeur la plus fréquente: Berta Barnolderg\n"
     ]
    }
   ],
   "source": [
    "print(\"Description du set de training\")\n",
    "print(data.select_dtypes(object).columns)\n",
    "for i in data.select_dtypes(object).columns:\n",
    "    print(i, \": nombre de valeurs uniques:\", len(data[i].unique()))  \n",
    "    print(i, \"valeur la plus fréquente:\", data[i].mode([1]).tolist()[0])\n",
    "    \n",
    "print(\"\\n Description du set de test\")\n",
    "for i in realtest.select_dtypes(object).columns:\n",
    "    print(i, \": nombre de valeurs uniques:\", len(realtest[i].unique()))  \n",
    "    print(i, \"valeur la plus fréquente:\", realtest[i].mode([1]).tolist()[0])"
   ]
  },
  {
   "cell_type": "code",
   "execution_count": 8,
   "id": "9d9cc43d",
   "metadata": {},
   "outputs": [
    {
     "data": {
      "text/plain": [
       "Age\n",
       "(0.0, 10.0]      540\n",
       "(10.0, 20.0]    1717\n",
       "(20.0, 30.0]    2668\n",
       "(30.0, 40.0]    1680\n",
       "(40.0, 50.0]     994\n",
       "(50.0, 60.0]     517\n",
       "(60.0, 70.0]     183\n",
       "(70.0, inf]       37\n",
       "Name: Age, dtype: int64"
      ]
     },
     "execution_count": 8,
     "metadata": {},
     "output_type": "execute_result"
    }
   ],
   "source": [
    "#catégories d'age\n",
    "age_groups = pd.cut(data['Age'], bins=[0, 10, 20, 30, 40, 50, 60, 70, np.inf])\n",
    "data.groupby(age_groups)['Age'].count()"
   ]
  },
  {
   "cell_type": "code",
   "execution_count": 9,
   "id": "6124818f",
   "metadata": {},
   "outputs": [
    {
     "data": {
      "text/plain": [
       "<AxesSubplot:title={'center':'percentage of people transported in the train set'}, ylabel='Transported'>"
      ]
     },
     "execution_count": 9,
     "metadata": {},
     "output_type": "execute_result"
    },
    {
     "data": {
      "image/png": "[encoded data removed]",
      "text/plain": [
       "<Figure size 432x288 with 1 Axes>"
      ]
     },
     "metadata": {},
     "output_type": "display_data"
    }
   ],
   "source": [
    "#Répartition des étiquettes dans le set de training\n",
    "data[\"Transported\"].value_counts().plot(kind='pie', autopct='%1.1f%%', title='percentage of people transported in the train set')"
   ]
  },
  {
   "cell_type": "code",
   "execution_count": 10,
   "id": "3400c1df",
   "metadata": {},
   "outputs": [
    {
     "data": {
      "image/png": "[encoded data removed]",
      "text/plain": [
       "<Figure size 432x288 with 1 Axes>"
      ]
     },
     "metadata": {
      "needs_background": "light"
     },
     "output_type": "display_data"
    }
   ],
   "source": [
    "data_age = pd.DataFrame({\n",
    "    'Age':data['Age'],\n",
    "     })\n",
    "dhist = data_age.hist(bins=8)"
   ]
  },
  {
   "cell_type": "code",
   "execution_count": 11,
   "id": "2ba4bad7",
   "metadata": {},
   "outputs": [
    {
     "data": {
      "text/plain": [
       "[Text(0.5, 1.0, 'People transported or not by age range in train set')]"
      ]
     },
     "execution_count": 11,
     "metadata": {},
     "output_type": "execute_result"
    },
    {
     "data": {
      "image/png": "[encoded data removed]",
      "text/plain": [
       "<Figure size 432x288 with 1 Axes>"
      ]
     },
     "metadata": {
      "needs_background": "light"
     },
     "output_type": "display_data"
    }
   ],
   "source": [
    "import seaborn as sns\n",
    "sns.histplot(x=\"Age\", data=data, hue=\"Transported\", bins=8).set(title='People transported or not by age range in train set')"
   ]
  },
  {
   "cell_type": "code",
   "execution_count": 12,
   "id": "3b9b2eeb",
   "metadata": {},
   "outputs": [
    {
     "data": {
      "text/plain": [
       "[Text(0.5, 1.0, 'People transported or not by Homeplanet')]"
      ]
     },
     "execution_count": 12,
     "metadata": {},
     "output_type": "execute_result"
    },
    {
     "data": {
      "image/png": "[encoded data removed]",
      "text/plain": [
       "<Figure size 432x288 with 1 Axes>"
      ]
     },
     "metadata": {
      "needs_background": "light"
     },
     "output_type": "display_data"
    }
   ],
   "source": [
    "sns.histplot(x=\"HomePlanet\", data=data, hue=\"Transported\").set(title='People transported or not by Homeplanet')"
   ]
  },
  {
   "cell_type": "code",
   "execution_count": 13,
   "id": "610f55d8",
   "metadata": {},
   "outputs": [
    {
     "data": {
      "text/plain": [
       "[Text(0.5, 1.0, 'People transported or not by destination')]"
      ]
     },
     "execution_count": 13,
     "metadata": {},
     "output_type": "execute_result"
    },
    {
     "data": {
      "image/png": "[encoded data removed]",
      "text/plain": [
       "<Figure size 432x288 with 1 Axes>"
      ]
     },
     "metadata": {
      "needs_background": "light"
     },
     "output_type": "display_data"
    }
   ],
   "source": [
    "sns.histplot(x=\"Destination\", data=data, hue=\"Transported\").set(title='People transported or not by destination')"
   ]
  },
  {
   "cell_type": "code",
   "execution_count": 14,
   "id": "d3d3d8bd",
   "metadata": {},
   "outputs": [
    {
     "name": "stdout",
     "output_type": "stream",
     "text": [
      "  PassengerId HomePlanet CryoSleep  Cabin  Destination   Age    VIP  \\\n",
      "0     0001_01     Europa     False  B/0/P  TRAPPIST-1e  39.0  False   \n",
      "1     0002_01      Earth     False  F/0/S  TRAPPIST-1e  24.0  False   \n",
      "2     0003_01     Europa     False  A/0/S  TRAPPIST-1e  58.0   True   \n",
      "3     0003_02     Europa     False  A/0/S  TRAPPIST-1e  33.0  False   \n",
      "4     0004_01      Earth     False  F/1/S  TRAPPIST-1e  16.0  False   \n",
      "\n",
      "   RoomService  FoodCourt  ShoppingMall     Spa  VRDeck               Name  \\\n",
      "0          0.0        0.0           0.0     0.0     0.0    Maham Ofracculy   \n",
      "1        109.0        9.0          25.0   549.0    44.0       Juanna Vines   \n",
      "2         43.0     3576.0           0.0  6715.0    49.0      Altark Susent   \n",
      "3          0.0     1283.0         371.0  3329.0   193.0       Solam Susent   \n",
      "4        303.0       70.0         151.0   565.0     2.0  Willy Santantines   \n",
      "\n",
      "   Transported  Cryo_False  Cryo_True  \n",
      "0        False           1          0  \n",
      "1         True           1          0  \n",
      "2        False           1          0  \n",
      "3        False           1          0  \n",
      "4         True           1          0  \n",
      "  PassengerId HomePlanet  Cabin  Destination   Age    VIP  RoomService  \\\n",
      "0     0001_01     Europa  B/0/P  TRAPPIST-1e  39.0  False          0.0   \n",
      "1     0002_01      Earth  F/0/S  TRAPPIST-1e  24.0  False        109.0   \n",
      "2     0003_01     Europa  A/0/S  TRAPPIST-1e  58.0   True         43.0   \n",
      "3     0003_02     Europa  A/0/S  TRAPPIST-1e  33.0  False          0.0   \n",
      "4     0004_01      Earth  F/1/S  TRAPPIST-1e  16.0  False        303.0   \n",
      "\n",
      "   FoodCourt  ShoppingMall     Spa  VRDeck               Name  Transported  \\\n",
      "0        0.0           0.0     0.0     0.0    Maham Ofracculy        False   \n",
      "1        9.0          25.0   549.0    44.0       Juanna Vines         True   \n",
      "2     3576.0           0.0  6715.0    49.0      Altark Susent        False   \n",
      "3     1283.0         371.0  3329.0   193.0       Solam Susent        False   \n",
      "4       70.0         151.0   565.0     2.0  Willy Santantines         True   \n",
      "\n",
      "   Cryo_False  Cryo_True  \n",
      "0           1          0  \n",
      "1           1          0  \n",
      "2           1          0  \n",
      "3           1          0  \n",
      "4           1          0  \n"
     ]
    },
    {
     "data": {
      "text/plain": [
       "[Text(0.5, 1.0, 'People transported or not by Cryosleep status')]"
      ]
     },
     "execution_count": 14,
     "metadata": {},
     "output_type": "execute_result"
    },
    {
     "data": {
      "image/png": "[encoded data removed]",
      "text/plain": [
       "<Figure size 432x288 with 1 Axes>"
      ]
     },
     "metadata": {
      "needs_background": "light"
     },
     "output_type": "display_data"
    }
   ],
   "source": [
    "# Ici on ne fait du onehotencoding que sur une seule variable catégorielle, donc on nomme le dataframe data2, \n",
    "# on ne se servira plus de data_2 par la suite, là c'est juste pour représenter \n",
    "# sous forme graphique le lien entre la variable \"Transported\" et \"CryoSleep\"\n",
    "\n",
    "data_cryo_ohe=pd.get_dummies(data['CryoSleep'], prefix='Cryo')\n",
    "data_2=pd.concat([data, data_cryo_ohe], axis=1, join='inner')\n",
    "print(data_2.head())\n",
    "data_2 = data_2.drop('CryoSleep',axis = 1)\n",
    "print(data_2.head())\n",
    "sns.histplot(x=\"Cryo_False\", data=data_2, hue=\"Transported\").set(title='People transported or not by Cryosleep status')"
   ]
  },
  {
   "cell_type": "markdown",
   "id": "a16732bb",
   "metadata": {},
   "source": [
    "Alors que les 2 classes sont équilibrées (50.4% de transported, 49.6% de non transported), \n",
    "les individus cryogénisés tendent à etre plus \"transported\" que les non cryogénisés. "
   ]
  },
  {
   "cell_type": "code",
   "execution_count": 15,
   "id": "eacea37c",
   "metadata": {},
   "outputs": [
    {
     "name": "stdout",
     "output_type": "stream",
     "text": [
      "donnees manquantes dans le train set: PassengerId       0\n",
      "HomePlanet      201\n",
      "CryoSleep       217\n",
      "Cabin           199\n",
      "Destination     182\n",
      "Age             179\n",
      "VIP             203\n",
      "RoomService     181\n",
      "FoodCourt       183\n",
      "ShoppingMall    208\n",
      "Spa             183\n",
      "VRDeck          188\n",
      "Name            200\n",
      "Transported       0\n",
      "dtype: int64\n",
      "\n",
      " donnees manquantes dans le test set: PassengerId       0\n",
      "HomePlanet       87\n",
      "CryoSleep        93\n",
      "Cabin           100\n",
      "Destination      92\n",
      "Age              91\n",
      "VIP              93\n",
      "RoomService      82\n",
      "FoodCourt       106\n",
      "ShoppingMall     98\n",
      "Spa             101\n",
      "VRDeck           80\n",
      "Name             94\n",
      "dtype: int64\n"
     ]
    }
   ],
   "source": [
    "#Nombre de valeurs manquantes\n",
    "print(\"donnees manquantes dans le train set:\", data.isnull().sum())\n",
    "print(\"\\n donnees manquantes dans le test set:\", realtest.isnull().sum())"
   ]
  },
  {
   "cell_type": "markdown",
   "id": "cb18924b",
   "metadata": {},
   "source": [
    "# Pretraitement des données"
   ]
  },
  {
   "cell_type": "markdown",
   "id": "0be55173",
   "metadata": {},
   "source": [
    "Il y a beaucoup de valeurs manquantes dans le training et le test set\n",
    "On va les gérer différemment, comme expliqué ci-dessous : "
   ]
  },
  {
   "cell_type": "code",
   "execution_count": 16,
   "id": "106ed509",
   "metadata": {},
   "outputs": [
    {
     "name": "stdout",
     "output_type": "stream",
     "text": [
      "   PassengerId HomePlanet CryoSleep  Cabin  Destination   Age    VIP  \\\n",
      "59     0064_02        NaN      True  E/3/S  TRAPPIST-1e  33.0  False   \n",
      "\n",
      "    RoomService  FoodCourt  ShoppingMall  Spa  VRDeck         Name  \\\n",
      "59          0.0        0.0           0.0  0.0     0.0  Colatz Keen   \n",
      "\n",
      "    Transported  \n",
      "59         True  \n",
      "    PassengerId HomePlanet CryoSleep   Cabin  Destination       Age  VIP  \\\n",
      "566     0593_01       Mars     False  D/24/P  TRAPPIST-1e  28.82793  NaN   \n",
      "\n",
      "     RoomService  FoodCourt  ShoppingMall  Spa  VRDeck     Name  Transported  \n",
      "566         43.0      152.0         182.0  1.0  2005.0  Hon Kra        False  \n"
     ]
    }
   ],
   "source": [
    "#Gérer les valeurs manquantes \n",
    "# en cas de NAN sur les dépenses d'argent, on considère que les gens cryogénisés\n",
    "# n'ont pas dépensé d'argent, et que pour les non cryogénisés on attribue une dépense moyenne\n",
    "\n",
    "data_new=data.copy(deep=True)\n",
    "data_new.replace('', np.nan, inplace=True)\n",
    "att={\"RoomService\": 7, \"FoodCourt\": 8, \"ShoppingMall\": 9, \"Spa\": 10, \"VRDeck\": 11}\n",
    "for key,value in att.items():\n",
    "    i=int(value)\n",
    "    for j in range(data_new.shape[0]):\n",
    "        if ((data_new.iloc[j,2]) and (np.isnan(data_new.iloc[j,i]))):\n",
    "            data_new.iloc[j,i]=0\n",
    "        elif ((data_new.iloc[j,2]==False) and (np.isnan(data_new.iloc[j,i]))):\n",
    "            data_new.iloc[j,i]=np.round((data_new[key].sum())/(np.where(data_new[key]>-0.1, 1, 0).sum()))  \n",
    "        elif (np.isnan(data_new.iloc[j,i])):\n",
    "            data_new.iloc[j,i]=np.round((data_new[key].sum())/(np.where(data_new[key]>-0.1, 1, 0).sum()))            \n",
    "print(data_new.iloc[[59]])\n",
    "\n",
    "#quand l'age est manquant on attribue l'age moyen\n",
    "att2={\"Age\": 5}\n",
    "for key,value in att2.items():\n",
    "    i=value\n",
    "    for j in range(data_new.shape[0]):\n",
    "        if np.isnan(data_new.iloc[j,i]):\n",
    "            data_new.iloc[j,i]=data_new.iloc[:,5].mean()\n",
    "print(data_new.iloc[[566]])\n",
    "\n",
    "#Même traitement pour les données test\n",
    "realtest_new=realtest.copy(deep=True)\n",
    "realtest_new.replace('', np.nan, inplace=True)\n",
    "\n",
    "for key,value in att.items():\n",
    "    i=int(value)\n",
    "    for j in range(realtest_new.shape[0]):\n",
    "        if ((realtest_new.iloc[j,2]) and (np.isnan(realtest_new.iloc[j,i]))):\n",
    "            realtest_new.iloc[j,i]=0\n",
    "        elif ((realtest_new.iloc[j,2]==False) and (np.isnan(realtest_new.iloc[j,i]))):\n",
    "            realtest_new.iloc[j,i]=np.round((realtest_new[key].sum())/(np.where(realtest_new[key]>-0.1, 1, 0).sum()))  \n",
    "        elif (np.isnan(realtest_new.iloc[j,i])):\n",
    "            realtest_new.iloc[j,i]=np.round((realtest_new[key].sum())/(np.where(realtest_new[key]>-0.1, 1, 0).sum()))            \n",
    "\n",
    "#quand l'age est manquant on attribue l'age moyen\n",
    "att2={\"Age\": 5}\n",
    "for key,value in att2.items():\n",
    "    i=value\n",
    "    for j in range(realtest_new.shape[0]):\n",
    "        if np.isnan(realtest_new.iloc[j,i]):\n",
    "            realtest_new.iloc[j,i]=realtest_new.iloc[:,5].mean()\n"
   ]
  },
  {
   "cell_type": "code",
   "execution_count": 17,
   "id": "100af67e",
   "metadata": {},
   "outputs": [],
   "source": [
    "#pour les variables catégorielles en cas de NAN on attribue la valeur la plus fréquente\n",
    "for j in range(data_new.shape[0]):\n",
    "    if pd.isna(data_new.iloc[j,1]):\n",
    "        data_new.iloc[j,1]=data_new.iloc[:,1].mode([1]).tolist()[0]\n",
    "# print((data_new.iloc[:,1].mode([1])).tolist()[0])\n",
    "    if pd.isna(data_new.iloc[j,2]):\n",
    "        data_new.iloc[j,2]=data_new.iloc[:,2].mode([1]).tolist()[0]\n",
    "    if pd.isna(data_new.iloc[j,4]):\n",
    "        data_new.iloc[j,4]=data_new.iloc[:,4].mode([1]).tolist()[0]\n",
    "    if pd.isna(data_new.iloc[j,6]):\n",
    "        data_new.iloc[j,6]=data_new.iloc[:,6].mode([1]).tolist()[0]\n",
    "\n",
    "# print(data_new.iloc[[38, 568]])\n",
    "\n",
    "#Même traitement pour les données test\n",
    "for j in range(realtest_new.shape[0]):\n",
    "    if pd.isna(realtest_new.iloc[j,1]):\n",
    "        realtest_new.iloc[j,1]=realtest_new.iloc[:,1].mode([1]).tolist()[0]\n",
    "# print((data_new.iloc[:,1].mode([1])).tolist()[0])\n",
    "    if pd.isna(realtest_new.iloc[j,2]):\n",
    "        realtest_new.iloc[j,2]=realtest_new.iloc[:,2].mode([1]).tolist()[0]\n",
    "    if pd.isna(realtest_new.iloc[j,4]):\n",
    "        realtest_new.iloc[j,4]=realtest_new.iloc[:,4].mode([1]).tolist()[0]\n",
    "    if pd.isna(realtest_new.iloc[j,6]):\n",
    "        realtest_new.iloc[j,6]=realtest_new.iloc[:,6].mode([1]).tolist()[0]\n",
    "# print(realtest_new.iloc[[42]])\n"
   ]
  },
  {
   "cell_type": "code",
   "execution_count": 18,
   "id": "e25759ae",
   "metadata": {},
   "outputs": [
    {
     "name": "stdout",
     "output_type": "stream",
     "text": [
      "   PassengerId HomePlanet CryoSleep  Cabin  Destination   Age    VIP  \\\n",
      "10     0008_02     Europa      True  B/1/P  TRAPPIST-1e  34.0  False   \n",
      "11     0008_03     Europa     False  B/1/P  55 Cancri e  45.0  False   \n",
      "12     0009_01       Mars     False  F/1/P  TRAPPIST-1e  32.0  False   \n",
      "13     0010_01      Earth     False  G/1/S  TRAPPIST-1e  48.0  False   \n",
      "14     0011_01      Earth     False  F/2/P  TRAPPIST-1e  28.0  False   \n",
      "15     0012_01      Earth     False    NaN  TRAPPIST-1e  31.0  False   \n",
      "\n",
      "    RoomService  FoodCourt  ShoppingMall    Spa  VRDeck             Name  \\\n",
      "10          0.0        0.0           0.0    0.0     0.0   Altardr Flatic   \n",
      "11         39.0     7295.0         589.0  110.0   124.0    Wezena Flatic   \n",
      "12         73.0        0.0        1123.0    0.0   113.0     Berers Barne   \n",
      "13        719.0        1.0          65.0    0.0    24.0   Reney Baketton   \n",
      "14          8.0      974.0          12.0    2.0     7.0  Elle Bertsontry   \n",
      "15         32.0        0.0         876.0    0.0     0.0    Justie Pooles   \n",
      "\n",
      "    Transported Deck_Cabin Num_Cabin Side_Cabin  \n",
      "10         True          B         1          P  \n",
      "11         True          B         1          P  \n",
      "12         True          F         1          P  \n",
      "13        False          G         1          S  \n",
      "14         True          F         2          P  \n",
      "15        False        nan       NaN        NaN  \n",
      "check 199\n"
     ]
    },
    {
     "name": "stderr",
     "output_type": "stream",
     "text": [
      "C:\\Users\\jacqueno\\AppData\\Local\\Temp\\ipykernel_252512\\2432621323.py:17: FutureWarning: In a future version of pandas all arguments of concat except for the argument 'objs' will be keyword-only.\n",
      "  data_new2 = pd.concat([data_new, lab], 1)\n"
     ]
    },
    {
     "name": "stdout",
     "output_type": "stream",
     "text": [
      "   PassengerId HomePlanet CryoSleep Cabin  Destination   Age    VIP  \\\n",
      "15     0012_01      Earth     False   NaN  TRAPPIST-1e  31.0  False   \n",
      "\n",
      "    RoomService  FoodCourt  ShoppingMall  Spa  VRDeck           Name  \\\n",
      "15         32.0        0.0         876.0  0.0     0.0  Justie Pooles   \n",
      "\n",
      "   Deck_Cabin Num_Cabin Side_Cabin  Transported  \n",
      "15          F       NaN          S        False  \n",
      "check 100\n"
     ]
    }
   ],
   "source": [
    "#séparer en 3 l\"information cabine (deck, numero et side)\n",
    "data_new[['Deck_Cabin', 'Num_Cabin', 'Side_Cabin']] = data_new[\"Cabin\"].apply(lambda x: pd.Series(str(x).split(\"/\")))\n",
    "data_new.replace('', np.NaN, inplace=True)\n",
    "print(data_new.iloc[[10, 11, 12, 13, 14, 15]])\n",
    "#on remplace les valeurs \"nan\" dans Deck_Cabin qui sont apparues à cause du split\n",
    "print(\"check\", np.where(data_new[\"Deck_Cabin\"]==\"nan\", 1, 0).sum())\n",
    "data_new[\"Deck_Cabin\"].replace(\"nan\", np.NaN, inplace=True)\n",
    "\n",
    "for j in range(data_new.shape[0]):\n",
    "    if pd.isna(data_new.iloc[j,14]):\n",
    "        data_new.iloc[j,14]=data_new.iloc[:,14].mode([1]).tolist()[0]\n",
    "    if pd.isna(data_new.iloc[j,16]):\n",
    "        data_new.iloc[j,16]=data_new.iloc[:,16].mode([1]).tolist()[0]\n",
    "        \n",
    "#Déplacer la colonne transported pour qu'elle soit la dernière colonne\n",
    "lab = data_new.pop('Transported')\n",
    "data_new2 = pd.concat([data_new, lab], 1)\n",
    "print(data_new2.iloc[[15]])\n",
    "\n",
    "#supprimer les colonnes PassengerId, Cabin, Name, Num_Cabin\n",
    "data_new3 = data_new2.drop(data_new2.columns[[0, 3, 12, 14]], axis=1)\n",
    "\n",
    "\n",
    "#Même traitement pour les données test\n",
    "realtest_new[['Deck_Cabin', 'Num_Cabin', 'Side_Cabin']] = realtest_new[\"Cabin\"].apply(lambda x: pd.Series(str(x).split(\"/\")))\n",
    "realtest_new.replace('', np.NaN, inplace=True)\n",
    "#on remplace les valeurs \"nan\" dans Deck_Cabin qui sont apparues à cause du split\n",
    "print(\"check\", np.where(realtest_new[\"Deck_Cabin\"]==\"nan\", 1, 0).sum())\n",
    "realtest_new[\"Deck_Cabin\"].replace(\"nan\", np.NaN, inplace=True)\n",
    "\n",
    "for j in range(realtest_new.shape[0]):\n",
    "    if pd.isna(realtest_new.iloc[j,13]):\n",
    "        realtest_new.iloc[j,13]=realtest_new.iloc[:,13].mode([1]).tolist()[0]\n",
    "    if pd.isna(realtest_new.iloc[j,15]):\n",
    "        realtest_new.iloc[j,15]=realtest_new.iloc[:,15].mode([1]).tolist()[0]\n",
    "        \n",
    "#supprimer les colonnes PassengerId, Cabin, Name, Num_Cabin\n",
    "realtest_new2 = realtest_new.drop(realtest_new.columns[[0, 3, 12, 14]], axis=1)\n"
   ]
  },
  {
   "cell_type": "markdown",
   "id": "f24ced44",
   "metadata": {},
   "source": [
    "On vérifie qu'il n'y a plus de valeurs manquantes dans les sets de donnees après les traitements appliqués "
   ]
  },
  {
   "cell_type": "code",
   "execution_count": 19,
   "id": "715c2309",
   "metadata": {},
   "outputs": [
    {
     "name": "stdout",
     "output_type": "stream",
     "text": [
      "\n",
      " donnees manquantes dans le set de training:\n",
      "HomePlanet      0\n",
      "CryoSleep       0\n",
      "Destination     0\n",
      "Age             0\n",
      "VIP             0\n",
      "RoomService     0\n",
      "FoodCourt       0\n",
      "ShoppingMall    0\n",
      "Spa             0\n",
      "VRDeck          0\n",
      "Deck_Cabin      0\n",
      "Side_Cabin      0\n",
      "Transported     0\n",
      "dtype: int64\n",
      "\n",
      " donnees manquantes dans le set de test:\n",
      "HomePlanet      0\n",
      "CryoSleep       0\n",
      "Destination     0\n",
      "Age             0\n",
      "VIP             0\n",
      "RoomService     0\n",
      "FoodCourt       0\n",
      "ShoppingMall    0\n",
      "Spa             0\n",
      "VRDeck          0\n",
      "Deck_Cabin      0\n",
      "Side_Cabin      0\n",
      "dtype: int64\n"
     ]
    }
   ],
   "source": [
    "print(\"\\n donnees manquantes dans le set de training:\")\n",
    "print(data_new3.isnull().sum())\n",
    "\n",
    "print(\"\\n donnees manquantes dans le set de test:\")\n",
    "print(realtest_new2.isnull().sum())"
   ]
  },
  {
   "cell_type": "markdown",
   "id": "8e0bc590",
   "metadata": {},
   "source": [
    "On va faire du onehotencoding et transformer les variables catégorielles \n",
    "en variables binaires, puis supprimer les colonnes redondantes"
   ]
  },
  {
   "cell_type": "code",
   "execution_count": 20,
   "id": "1b207a8e",
   "metadata": {
    "scrolled": true
   },
   "outputs": [
    {
     "name": "stdout",
     "output_type": "stream",
     "text": [
      "<class 'numpy.ndarray'>\n",
      "    Age  RoomService  FoodCourt  ShoppingMall  Spa  VRDeck  HomePlanet_Earth  \\\n",
      "0  39.0          0.0        0.0           0.0  0.0     0.0                 0   \n",
      "\n",
      "   HomePlanet_Europa  HomePlanet_Mars  CryoSleep_False  ...  Deck_Cabin_A  \\\n",
      "0                  1                0                1  ...             0   \n",
      "\n",
      "   Deck_Cabin_B  Deck_Cabin_C  Deck_Cabin_D  Deck_Cabin_E  Deck_Cabin_F  \\\n",
      "0             1             0             0             0             0   \n",
      "\n",
      "   Deck_Cabin_G  Deck_Cabin_T  Side_Cabin_P  Side_Cabin_S  \n",
      "0             0             0             1             0  \n",
      "\n",
      "[1 rows x 26 columns]\n",
      "nombre colonnes X_train: 23 ['Age', 'RoomService', 'FoodCourt', 'ShoppingMall', 'Spa', 'VRDeck', 'HomePlanet_Earth', 'HomePlanet_Europa', 'HomePlanet_Mars', 'CryoSleep_True', 'Destination_55 Cancri e', 'Destination_PSO J318.5-22', 'Destination_TRAPPIST-1e', 'VIP_True', 'Deck_Cabin_A', 'Deck_Cabin_B', 'Deck_Cabin_C', 'Deck_Cabin_D', 'Deck_Cabin_E', 'Deck_Cabin_F', 'Deck_Cabin_G', 'Deck_Cabin_T', 'Side_Cabin_P']\n",
      "(8693, 2)\n",
      "[[1 0]\n",
      " [0 1]]\n",
      "les 3 premières étiquettes de Y train sont: [0 1 0]\n",
      "    Age  RoomService  FoodCourt  ShoppingMall  Spa  VRDeck  HomePlanet_Earth  \\\n",
      "0  27.0          0.0        0.0           0.0  0.0     0.0                 1   \n",
      "\n",
      "   HomePlanet_Europa  HomePlanet_Mars  CryoSleep_False  CryoSleep_True  \\\n",
      "0                  0                0                0               1   \n",
      "\n",
      "   Destination_55 Cancri e  Destination_PSO J318.5-22  \\\n",
      "0                        0                          0   \n",
      "\n",
      "   Destination_TRAPPIST-1e  VIP_False  VIP_True  Deck_Cabin_A  Deck_Cabin_B  \\\n",
      "0                        1          1         0             0             0   \n",
      "\n",
      "   Deck_Cabin_C  Deck_Cabin_D  Deck_Cabin_E  Deck_Cabin_F  Deck_Cabin_G  \\\n",
      "0             0             0             0             0             1   \n",
      "\n",
      "   Deck_Cabin_T  Side_Cabin_P  Side_Cabin_S  \n",
      "0             0             0             1  \n",
      "nombre colonnes X_test: 23 ['Age', 'RoomService', 'FoodCourt', 'ShoppingMall', 'Spa', 'VRDeck', 'HomePlanet_Earth', 'HomePlanet_Europa', 'HomePlanet_Mars', 'CryoSleep_True', 'Destination_55 Cancri e', 'Destination_PSO J318.5-22', 'Destination_TRAPPIST-1e', 'VIP_True', 'Deck_Cabin_A', 'Deck_Cabin_B', 'Deck_Cabin_C', 'Deck_Cabin_D', 'Deck_Cabin_E', 'Deck_Cabin_F', 'Deck_Cabin_G', 'Deck_Cabin_T', 'Side_Cabin_P']\n"
     ]
    }
   ],
   "source": [
    "y_train=data_new3.pop(\"Transported\")\n",
    "print(type(y_train.values))\n",
    "\n",
    "x_train=data_new3\n",
    "cat=[\"HomePlanet\", \"CryoSleep\", \"Destination\", \"VIP\", \"Deck_Cabin\", \"Side_Cabin\"]\n",
    "\n",
    "#Transformer les variables catégorielles en binaires 0/1 et supprimer les colonnes redondantes \n",
    "# (pour les var catégorielles qui ont seulemnt 2 valeurs possibles on ne garde qu'une colonne)\n",
    "X_train_new = pd.get_dummies(x_train, columns=cat)\n",
    "print(X_train_new[0:1])\n",
    "pd.options.display.max_columns = None\n",
    "X_train=X_train_new.drop(columns=[\"CryoSleep_False\", \"VIP_False\", \"Side_Cabin_S\"])\n",
    "print(\"nombre colonnes X_train:\", len(X_train.columns.tolist()), X_train.columns.tolist())\n",
    "\n",
    "#Transformer la variable y  (Transported) booléenne en binaire (Transported True, Transported False, égale à 0 ou 1)\n",
    "Y_train=pd.get_dummies(y_train)\n",
    "\n",
    "print(Y_train.to_numpy().shape)\n",
    "\n",
    "#afficher les 2 premières lignes de Y_train \n",
    "print(Y_train.to_numpy()[0:2,:])\n",
    "#comme il y a deux colonnes dans Y_train (Transported True/Transported False) suite à get_dummies, \n",
    "# on ne garde que la colonne Transported True (1= true, 0=false) dans Y_train\n",
    "Y_train_transported=Y_train.drop(Y_train.columns[0], axis=1)\n",
    "Y_train_transport=np.array(Y_train_transported.to_numpy())\n",
    "Y_train_tr=np.ravel(Y_train_transport)\n",
    "#afficher les 2 premières étiquettes de Y_train_tr \n",
    "print(\"les 3 premières étiquettes de Y train sont:\", Y_train_tr[0:3])\n",
    "\n",
    "#De même pour les données test\n",
    "x_test=realtest_new2\n",
    "X_test_new = pd.get_dummies(x_test, columns=cat)\n",
    "print(X_test_new[0:1])\n",
    "X_test=X_test_new.drop(columns=[\"CryoSleep_False\", \"VIP_False\", \"Side_Cabin_S\"])\n",
    "print(\"nombre colonnes X_test:\", len(X_test.columns.tolist()), X_test.columns.tolist()) \n"
   ]
  },
  {
   "cell_type": "markdown",
   "id": "6e79d452",
   "metadata": {},
   "source": [
    "On split les données de training en training set et validation set "
   ]
  },
  {
   "cell_type": "code",
   "execution_count": 21,
   "id": "8009ced2",
   "metadata": {},
   "outputs": [
    {
     "name": "stdout",
     "output_type": "stream",
     "text": [
      "taille des sets (5824, 23) (5824,) (2869, 23) (2869,)\n"
     ]
    }
   ],
   "source": [
    "#split train set en train + validation set\n",
    "from sklearn.model_selection import train_test_split\n",
    "X_train_split, X_val, Y_train_split, Y_val = train_test_split(X_train, Y_train_tr, test_size=0.33, random_state=0)\n",
    "print(\"taille des sets\", X_train_split.shape, Y_train_split.shape, X_val.shape, Y_val.shape)"
   ]
  },
  {
   "cell_type": "markdown",
   "id": "a07afa8d",
   "metadata": {},
   "source": [
    "Test du khi 2 pour évaluer si les variables catégorielles sont liées à la variable \"Transported\""
   ]
  },
  {
   "cell_type": "code",
   "execution_count": 22,
   "id": "59b6baea",
   "metadata": {
    "scrolled": true
   },
   "outputs": [
    {
     "name": "stdout",
     "output_type": "stream",
     "text": [
      "Relationship between categorical variables and categorical target (chi2):\n",
      "HomePlanet_Earth : P-value:  1.0870008818387751e-55\n",
      "HomePlanet_Europa : P-value:  6.017306168371327e-61\n",
      "CryoSleep_True : P-value:  0.0\n",
      "Destination_55 Cancri e : P-value:  4.968409944837838e-24\n",
      "Destination_TRAPPIST-1e : P-value:  3.337391197718458e-19\n",
      "VIP_True : P-value:  0.0006681023600149099\n",
      "Deck_Cabin_B : P-value:  2.8076193512853426e-41\n",
      "Deck_Cabin_C : P-value:  9.256634759964273e-24\n",
      "Deck_Cabin_D : P-value:  0.00176434796434866\n",
      "Deck_Cabin_E : P-value:  9.180471320492237e-20\n",
      "Deck_Cabin_F : P-value:  9.802255988551105e-16\n",
      "Side_Cabin_P : P-value:  4.0062612965840844e-21\n"
     ]
    }
   ],
   "source": [
    "from scipy.stats import chi2_contingency\n",
    "cat=['HomePlanet_Earth', 'HomePlanet_Europa', 'HomePlanet_Mars', 'CryoSleep_True', \n",
    "     'Destination_55 Cancri e', 'Destination_PSO J318.5-22', 'Destination_TRAPPIST-1e', \n",
    "     'VIP_True', 'Deck_Cabin_A', 'Deck_Cabin_B', 'Deck_Cabin_C', 'Deck_Cabin_D', 'Deck_Cabin_E', 'Deck_Cabin_F', \n",
    "     'Deck_Cabin_G', 'Deck_Cabin_T', 'Side_Cabin_P']\n",
    "#test du khi 2 pour évaluer si les variables catégorielles sont liées à la variable \"Transported\". \n",
    "# On n'imprime que celles pour lesquelles p<0.05\n",
    "print(\"Relationship between categorical variables and categorical target (chi2):\")\n",
    "for i in cat:\n",
    "    csq=chi2_contingency(pd.crosstab(X_train[i], Y_train_tr))\n",
    "    if csq[1]<0.05:\n",
    "        print(i, \": P-value: \", csq[1])\n"
   ]
  },
  {
   "cell_type": "markdown",
   "id": "bc9c4209",
   "metadata": {},
   "source": [
    "Comme pressenti avec les graphiques de description des données, avec le test du khi 2 on observe que le fait d'etre \"transported\" ou \"not transported\" est très lié au fait d\"etre cryogénisé. Il est également très lié à la planète d'origine \"Homeplanet\", la planète de destination à la position des cabines et au fait d'être VIP ou non. "
   ]
  },
  {
   "cell_type": "markdown",
   "id": "0b375476",
   "metadata": {},
   "source": [
    "# Selection de variables"
   ]
  },
  {
   "cell_type": "code",
   "execution_count": 23,
   "id": "0aa61448",
   "metadata": {},
   "outputs": [
    {
     "name": "stdout",
     "output_type": "stream",
     "text": [
      "[1.e+10 1.e+08 1.e+06 1.e+04 1.e+02 1.e+00 1.e-02 1.e-04 1.e-06 1.e-08\n",
      " 1.e-10]\n",
      "perf en apprentissage: accuracy: [0.695570054945055, 0.7166895604395604, 0.714114010989011, 0.7675137362637363, 0.7718063186813187, 0.7706043956043956, 0.7704326923076923, 0.7704326923076923, 0.7704326923076923, 0.7704326923076923, 0.7704326923076923]\n",
      "perf en test: accuracy: [0.695570054945055, 0.7166895604395604, 0.714114010989011, 0.7675137362637363, 0.7718063186813187, 0.7706043956043956, 0.7704326923076923, 0.7704326923076923, 0.7704326923076923, 0.7704326923076923, 0.7704326923076923]\n",
      "pour la valeur d'alpha selectionnee, perf en test: accuracy: {0.7675137362637363}\n",
      "[[0.00000000e+00 0.00000000e+00 8.42237983e-05 5.86330489e-05\n",
      "  0.00000000e+00 0.00000000e+00 0.00000000e+00 4.51079894e-02\n",
      "  8.37694432e-03 8.49824327e-02 2.19010357e-02 0.00000000e+00\n",
      "  0.00000000e+00 0.00000000e+00 4.29424171e-05 2.13903681e-02\n",
      "  2.01379829e-02 0.00000000e+00 0.00000000e+00 0.00000000e+00\n",
      "  0.00000000e+00 0.00000000e+00 0.00000000e+00]]\n",
      "variables sélectionnees par le modele: ['Age' 'Age' 'Age' 'Age' 'Age' 'Age' 'Age' 'Age' 'Age']\n",
      "variables sélectionnees par le modele: ['FoodCourt' 'ShoppingMall' 'HomePlanet_Europa' 'HomePlanet_Mars'\n",
      " 'CryoSleep_True' 'Destination_55 Cancri e' 'Deck_Cabin_A' 'Deck_Cabin_B'\n",
      " 'Deck_Cabin_C']\n"
     ]
    },
    {
     "name": "stderr",
     "output_type": "stream",
     "text": [
      "C:\\Users\\jacqueno\\anaconda3\\lib\\site-packages\\sklearn\\linear_model\\_ridge.py:157: LinAlgWarning: Ill-conditioned matrix (rcond=5.58323e-17): result may not be accurate.\n",
      "  return linalg.solve(A, Xy, sym_pos=True, overwrite_a=True).T\n",
      "C:\\Users\\jacqueno\\anaconda3\\lib\\site-packages\\sklearn\\linear_model\\_ridge.py:157: LinAlgWarning: Ill-conditioned matrix (rcond=5.5795e-19): result may not be accurate.\n",
      "  return linalg.solve(A, Xy, sym_pos=True, overwrite_a=True).T\n",
      "C:\\Users\\jacqueno\\anaconda3\\lib\\site-packages\\sklearn\\linear_model\\_ridge.py:157: LinAlgWarning: Ill-conditioned matrix (rcond=5.20979e-21): result may not be accurate.\n",
      "  return linalg.solve(A, Xy, sym_pos=True, overwrite_a=True).T\n",
      "C:\\Users\\jacqueno\\anaconda3\\lib\\site-packages\\sklearn\\linear_model\\_ridge.py:157: LinAlgWarning: Ill-conditioned matrix (rcond=5.58323e-17): result may not be accurate.\n",
      "  return linalg.solve(A, Xy, sym_pos=True, overwrite_a=True).T\n",
      "C:\\Users\\jacqueno\\anaconda3\\lib\\site-packages\\sklearn\\linear_model\\_ridge.py:157: LinAlgWarning: Ill-conditioned matrix (rcond=5.5795e-19): result may not be accurate.\n",
      "  return linalg.solve(A, Xy, sym_pos=True, overwrite_a=True).T\n",
      "C:\\Users\\jacqueno\\anaconda3\\lib\\site-packages\\sklearn\\linear_model\\_ridge.py:157: LinAlgWarning: Ill-conditioned matrix (rcond=5.20979e-21): result may not be accurate.\n",
      "  return linalg.solve(A, Xy, sym_pos=True, overwrite_a=True).T\n"
     ]
    },
    {
     "data": {
      "image/png": "[encoded data removed]",
      "text/plain": [
       "<Figure size 432x288 with 1 Axes>"
      ]
     },
     "metadata": {
      "needs_background": "light"
     },
     "output_type": "display_data"
    }
   ],
   "source": [
    "#Sélection de variables avec le classifieur RIDGE\n",
    "from sklearn.model_selection import GridSearchCV\n",
    "from sklearn.model_selection import ParameterGrid\n",
    "from sklearn.linear_model import RidgeClassifier\n",
    "from sklearn.metrics import accuracy_score\n",
    "\n",
    "\n",
    "clf = RidgeClassifier()\n",
    "all_a = 10**(np.linspace(10,-10,11))\n",
    "print(all_a)\n",
    "p_a = [] # perf en apprentissage\n",
    "p_t = [] # perf en test\n",
    "wc = []  # cardinal des coefficients non nul\n",
    "\n",
    "for a in all_a:\n",
    "    mod = RidgeClassifier(alpha=a)\n",
    "    mod.fit(X_train_split, Y_train_split)\n",
    "# Compléter l'évaluation et le comptage des coefficients non nuls \n",
    "    yhat = mod.predict(X_train_split) \n",
    "    true=Y_train_split\n",
    "    p_a_new=accuracy_score(true, yhat)\n",
    "    (p_a).append(p_a_new)\n",
    "    wc.append(np.where(np.abs(mod.coef_ >1e-5), 1 ,0).mean())\n",
    "print(f\"perf en apprentissage: accuracy: {p_a}\")\n",
    "\n",
    "\n",
    "for a in all_a:\n",
    "    mod = RidgeClassifier(alpha=a)\n",
    "    mod.fit(X_train_split, Y_train_split)\n",
    "#Compléter l'évaluation et le comptage des coefficients non nuls \n",
    "    yhat = mod.predict(X_val) \n",
    "    true=Y_val\n",
    "    p_t_new=accuracy_score(true, yhat)\n",
    "    (p_t).append(p_t_new)\n",
    "#      print(np.where(np.abs(mod.coef_ >1e-5), mod.coef_, 0))\n",
    "print(f\"perf en test: accuracy: {p_a}\")\n",
    "\n",
    "plt.figure()\n",
    "plt.plot(p_a)\n",
    "plt.plot(p_t)\n",
    "plt.plot(wc)\n",
    "plt.grid()\n",
    "plt.xlabel('Régularisation (décroissante)')\n",
    "plt.ylabel('Perf / Nombre dim')\n",
    "plt.legend(['P train', 'P test', '#w'])\n",
    "\n",
    "#on sélectionne alpha=10000 qui permet d'avoir une bonne performance avec une contrainte sur les coefficients\n",
    "mod = RidgeClassifier(alpha=10000)\n",
    "mod.fit(X_train_split, Y_train_split)\n",
    "yhat = mod.predict(X_train_split) \n",
    "true=Y_train_split\n",
    "p_a_new=accuracy_score(true, yhat)\n",
    "print(\"pour la valeur d'alpha selectionnee, perf en test: accuracy:\", {p_a_new})\n",
    "print(np.where(np.abs(mod.coef_ >1e-5), mod.coef_, 0))\n",
    "for i in (np.where(np.abs(mod.coef_ >1e-5))):\n",
    "    print(\"variables sélectionnees par le modele:\", mod.feature_names_in_[i])"
   ]
  },
  {
   "cell_type": "raw",
   "id": "4c893c66",
   "metadata": {},
   "source": [
    "On observe qu'à partir de alpha=10000 (alpha qui est la force de régularisation), on atteint les mêmes performances de prédiction qu'avec une régularisation décroissante (alpha plus faible). Considérer les variables dont les coefficients sont les moins faibles (supérieurs à 10^5) pour cette valeur d'alpha=10000 permettrait de faire de la sélection de variables. \n",
    "Cependant comme Ridge Classifier n'annule pas certains coefficients mais force des valeurs de coefficients les plus basses/ proches de zero lorqu'on augmente la contrainte de régularisation, ce n'est donc pas la méthode la plus adaptée pour sélectionner les variables (il faudrait une méthode d'annulation de certains coefficients). \n",
    "\n",
    "Mais ci dessous on décide d'appliquer plutôt la méthode SequentialFeatureSelector sur un classifieur de régression logistique pour faire de la sélection de variable. "
   ]
  },
  {
   "cell_type": "code",
   "execution_count": 24,
   "id": "b0fd78cc",
   "metadata": {},
   "outputs": [
    {
     "name": "stdout",
     "output_type": "stream",
     "text": [
      "[ True  True  True  True  True  True False  True False  True False False\n",
      " False  True  True  True  True False False  True False  True  True]\n"
     ]
    }
   ],
   "source": [
    "from sklearn.feature_selection import SequentialFeatureSelector\n",
    "from sklearn.linear_model import LogisticRegression\n",
    "\n",
    "estimator = LogisticRegression(C=0.1, max_iter=10000) \n",
    "selector = SequentialFeatureSelector(estimator, n_features_to_select=15)\n",
    "selector = selector.fit(X_train_split, Y_train_split)\n",
    "\n",
    "print(selector.get_support())\n",
    "\n",
    "# il est ensuite possible de filtrer les données:\n",
    "\n",
    "# X_train_select= selector.transform(X_train)\n",
    "# X_train_select_split = selector.transform(X_train_split)\n",
    "# X_val_select=selector.transform(X_val)\n",
    "# print(\"Ancienne dimensions : \",X_train_split.shape)\n",
    "# print(\"Nouvelles dimensions : \",X_train_select_split.shape)"
   ]
  },
  {
   "cell_type": "markdown",
   "id": "0ef58fec",
   "metadata": {},
   "source": [
    "On a obtenu une sélection de variables avec SequentialFeatureSelector, \n",
    "mais lorsqu'on a testé les variables sélectionnées dans les classifieurs présentés à la section suivante, on n'a jamais observé d'amélioration des performances (résultats non présentés ici, car alourdissant le notebook). \n",
    "On abandonne donc la sélection de variables pour la suite."
   ]
  },
  {
   "cell_type": "markdown",
   "id": "63dc5dd1",
   "metadata": {},
   "source": [
    "# Classifieurs et performances sur le set de training et le set de validation"
   ]
  },
  {
   "cell_type": "markdown",
   "id": "fd350e43",
   "metadata": {},
   "source": [
    "On teste différents classifieurs pour voir les performances: SVM, Logistic regression, Randomforest, XGBoost. "
   ]
  },
  {
   "cell_type": "code",
   "execution_count": 25,
   "id": "087cd662",
   "metadata": {},
   "outputs": [
    {
     "name": "stderr",
     "output_type": "stream",
     "text": [
      "C:\\Users\\jacqueno\\anaconda3\\lib\\site-packages\\sklearn\\svm\\_base.py:284: ConvergenceWarning: Solver terminated early (max_iter=10000).  Consider pre-processing your data with StandardScaler or MinMaxScaler.\n",
      "  warnings.warn(\n"
     ]
    },
    {
     "name": "stdout",
     "output_type": "stream",
     "text": [
      "modele SVM lineaire: accuraccy sur train set: 0.6998626373626373\n",
      "modele SVM lineaire: accuraccy sur validation set: 0.6831648658069014\n",
      "\n",
      " linear SVM: precision, recall, et f1 scores class 1: sur validation set: \n",
      " 0.6223055295220243 \n",
      " 0.9280223619846262 \n",
      " 0.7450210378681626\n",
      "\n",
      " linear SVM: precision, recall, et f1 scores class 0: sur validation set \n",
      " 0.8598639455782313 \n",
      " 0.43949930458970793 \n",
      " 0.5816843074091118\n",
      "AUC modele SVM lineaire 0.7873869290078911\n",
      "0.7873869290078911\n",
      "\n",
      " modele SVM: accuraccy sur train set: 0.9512362637362637\n",
      "modele SVM: accuraccy sur validation set: 0.6598117811084001\n",
      "\n",
      " SVM: precision, recall, et f1 scores class 1: sur validation set: \n",
      " 0.819971870604782 \n",
      " 0.4074074074074074 \n",
      " 0.5443510737628385\n",
      "\n",
      " SVM: precision, recall, et f1 scores class 0: sur validation set \n",
      " 0.6070435588507878 \n",
      " 0.9109874826147427 \n",
      " 0.728587319243604\n",
      "AUC modele SVM 0.7242309423076737\n",
      "0.7242309423076737\n"
     ]
    }
   ],
   "source": [
    "from sklearn import svm\n",
    "from sklearn.svm import SVC\n",
    "from sklearn.metrics import accuracy_score\n",
    "from sklearn.metrics import precision_score\n",
    "from sklearn.metrics import recall_score\n",
    "from sklearn.metrics import f1_score\n",
    "from sklearn.metrics import roc_auc_score\n",
    "\n",
    "\n",
    "mod = SVC(kernel=\"linear\", max_iter=10000)\n",
    "mod.fit(X_train_split,Y_train_split)\n",
    "Yhat_train=mod.predict(X_train_split)\n",
    "Yhat_val=mod.predict(X_val)\n",
    "auc=roc_auc_score(Y_val, mod.decision_function(X_val))\n",
    "print(\"modele SVM lineaire: accuraccy sur train set:\", accuracy_score(Y_train_split, Yhat_train))\n",
    "print(\"modele SVM lineaire: accuraccy sur validation set:\", accuracy_score(Y_val, Yhat_val))\n",
    "print(\"\\n linear SVM: precision, recall, et f1 scores class 1: sur validation set:\", \"\\n\", \n",
    "      precision_score(Y_val, Yhat_val), \"\\n\", recall_score(Y_val, Yhat_val), \"\\n\", f1_score(Y_val, Yhat_val))\n",
    "print(\"\\n linear SVM: precision, recall, et f1 scores class 0: sur validation set\", \"\\n\", \n",
    "       precision_score(Y_val, Yhat_val, pos_label=0), \"\\n\", recall_score(Y_val, Yhat_val, pos_label=0), \n",
    "       \"\\n\", f1_score(Y_val, Yhat_val, pos_label=0))\n",
    "print(\"AUC modele SVM lineaire\", auc)\n",
    "print(auc)\n",
    "\n",
    "mod2 = svm.SVC(gamma = 10)\n",
    "mod2.fit(X_train_split,Y_train_split)\n",
    "Yhat_train=mod2.predict(X_train_split)\n",
    "Yhat_val=mod2.predict(X_val)\n",
    "auc=roc_auc_score(Y_val, mod2.decision_function(X_val))\n",
    "print(\"\\n modele SVM: accuraccy sur train set:\", accuracy_score(Y_train_split, Yhat_train))\n",
    "print(\"modele SVM: accuraccy sur validation set:\", accuracy_score(Y_val, Yhat_val))\n",
    "print(\"\\n SVM: precision, recall, et f1 scores class 1: sur validation set:\", \"\\n\", \n",
    "      precision_score(Y_val, Yhat_val), \"\\n\", recall_score(Y_val, Yhat_val), \"\\n\", f1_score(Y_val, Yhat_val))\n",
    "print(\"\\n SVM: precision, recall, et f1 scores class 0: sur validation set\", \"\\n\", \n",
    "       precision_score(Y_val, Yhat_val, pos_label=0), \"\\n\", recall_score(Y_val, Yhat_val, pos_label=0), \n",
    "       \"\\n\", f1_score(Y_val, Yhat_val, pos_label=0))\n",
    "print(\"AUC modele SVM\", auc)\n",
    "print(auc)\n",
    "\n"
   ]
  },
  {
   "cell_type": "markdown",
   "id": "9807bef8",
   "metadata": {},
   "source": [
    "Les performances de SVM linéaire sont mauvaises sur le training set et le valdiation set, les performances de SVM avec kernel rbf sont mauvaises sur le validation set (mais pas sur le training set cette fois, heureusement). \n",
    "On ne retient donc pas le classifieur pour notre projet.  "
   ]
  },
  {
   "cell_type": "code",
   "execution_count": 26,
   "id": "de40d69f",
   "metadata": {},
   "outputs": [
    {
     "name": "stdout",
     "output_type": "stream",
     "text": [
      "modele LR: accuraccy sur train set: 0.7960164835164835\n",
      "modele LR: accuraccy sur validation set: 0.7947019867549668\n",
      "\n",
      " LR: precision, recall, et f1 scores class 1: sur validation set: \n",
      " 0.7723156532988357 \n",
      " 0.8343815513626834 \n",
      " 0.802149815250252\n",
      "\n",
      " LR: precision, recall, et f1 scores class 0: sur validation set \n",
      " 0.8208616780045351 \n",
      " 0.7552155771905424 \n",
      " 0.7866714958348424\n",
      "AUC modele LR 0.8786929396659892\n",
      "0.8786929396659892\n",
      "[ 0  1  2  3  4  5  6  7  8  9 10 11 12 13 14 15 16 17 18 19 20 21 22] [[-9.30988350e-03 -1.47095913e-03  5.24692650e-04  5.26050385e-04\n",
      "  -1.89464868e-03 -1.94009556e-03 -4.86570144e-01  1.05599345e+00\n",
      "   3.17932831e-02  1.24081556e+00  4.66624196e-01  1.15797508e-01\n",
      "   1.87948815e-02 -9.34575779e-02 -2.55292642e-01  4.74546238e-01\n",
      "   9.33479795e-01 -1.67375907e-02 -3.51219311e-01  6.91913214e-02\n",
      "  -2.42821399e-01 -9.92982467e-03 -4.84891323e-01]]\n",
      "<class 'pandas.core.frame.DataFrame'>\n",
      "Int64Index: 8693 entries, 0 to 8692\n",
      "Data columns (total 23 columns):\n",
      " #   Column                     Non-Null Count  Dtype  \n",
      "---  ------                     --------------  -----  \n",
      " 0   Age                        8693 non-null   float64\n",
      " 1   RoomService                8693 non-null   float64\n",
      " 2   FoodCourt                  8693 non-null   float64\n",
      " 3   ShoppingMall               8693 non-null   float64\n",
      " 4   Spa                        8693 non-null   float64\n",
      " 5   VRDeck                     8693 non-null   float64\n",
      " 6   HomePlanet_Earth           8693 non-null   uint8  \n",
      " 7   HomePlanet_Europa          8693 non-null   uint8  \n",
      " 8   HomePlanet_Mars            8693 non-null   uint8  \n",
      " 9   CryoSleep_True             8693 non-null   uint8  \n",
      " 10  Destination_55 Cancri e    8693 non-null   uint8  \n",
      " 11  Destination_PSO J318.5-22  8693 non-null   uint8  \n",
      " 12  Destination_TRAPPIST-1e    8693 non-null   uint8  \n",
      " 13  VIP_True                   8693 non-null   uint8  \n",
      " 14  Deck_Cabin_A               8693 non-null   uint8  \n",
      " 15  Deck_Cabin_B               8693 non-null   uint8  \n",
      " 16  Deck_Cabin_C               8693 non-null   uint8  \n",
      " 17  Deck_Cabin_D               8693 non-null   uint8  \n",
      " 18  Deck_Cabin_E               8693 non-null   uint8  \n",
      " 19  Deck_Cabin_F               8693 non-null   uint8  \n",
      " 20  Deck_Cabin_G               8693 non-null   uint8  \n",
      " 21  Deck_Cabin_T               8693 non-null   uint8  \n",
      " 22  Side_Cabin_P               8693 non-null   uint8  \n",
      "dtypes: float64(6), uint8(17)\n",
      "memory usage: 877.8 KB\n"
     ]
    },
    {
     "data": {
      "image/png": "[encoded data removed]",
      "text/plain": [
       "<Figure size 432x288 with 1 Axes>"
      ]
     },
     "metadata": {
      "needs_background": "light"
     },
     "output_type": "display_data"
    }
   ],
   "source": [
    "from sklearn.linear_model import LogisticRegression\n",
    "mod4 = LogisticRegression(C=0.1, max_iter=10000)\n",
    "mod4.fit(X_train_split,Y_train_split)\n",
    "Yhat_train=mod4.predict(X_train_split)\n",
    "Yhat_val=mod4.predict(X_val)\n",
    "auc=roc_auc_score(Y_val, mod4.decision_function(X_val))\n",
    "print(\"modele LR: accuraccy sur train set:\", accuracy_score(Y_train_split, Yhat_train))\n",
    "print(\"modele LR: accuraccy sur validation set:\", accuracy_score(Y_val, Yhat_val))\n",
    "print(\"\\n LR: precision, recall, et f1 scores class 1: sur validation set:\", \"\\n\", \n",
    "      precision_score(Y_val, Yhat_val), \"\\n\", recall_score(Y_val, Yhat_val), \"\\n\", f1_score(Y_val, Yhat_val))\n",
    "print(\"\\n LR: precision, recall, et f1 scores class 0: sur validation set\", \"\\n\", \n",
    "       precision_score(Y_val, Yhat_val, pos_label=0), \"\\n\", recall_score(Y_val, Yhat_val, pos_label=0), \n",
    "       \"\\n\", f1_score(Y_val, Yhat_val, pos_label=0))\n",
    "print(\"AUC modele LR\", auc)\n",
    "print(auc)\n",
    "\n",
    "print(np.arange(X_train.shape[1]),mod4.coef_)\n",
    "plt.figure()\n",
    "plt.bar(np.arange(X_train.shape[1]), mod4.coef_[0])\n",
    "plt.title('Poids (Intercept = '+str(mod4.intercept_)+')')\n",
    "X_train.info()"
   ]
  },
  {
   "cell_type": "code",
   "execution_count": 27,
   "id": "1021dd35",
   "metadata": {},
   "outputs": [
    {
     "name": "stdout",
     "output_type": "stream",
     "text": [
      "modele RF: accuraccy sur train set: 0.951407967032967\n",
      "modele RF: accuraccy sur validation set: 0.7915650052283025\n",
      "\n",
      " modele RF: precision, recall, et f1 scores class 1: sur validation set: \n",
      " 0.8011569052783803 \n",
      " 0.7742837176799441 \n",
      " 0.7874911158493247\n",
      "\n",
      " modele RF: precision, recall, et f1 scores class 0: sur validation set \n",
      " 0.7826379542395693 \n",
      " 0.8087621696801113 \n",
      " 0.7954856361149111\n"
     ]
    }
   ],
   "source": [
    "# Foret aléatoire sklearn\n",
    "from sklearn.ensemble import RandomForestClassifier\n",
    "\n",
    "mod3 =  RandomForestClassifier()\n",
    "mod3.fit(X_train_split,Y_train_split)\n",
    "Yhat_train=mod3.predict(X_train_split)\n",
    "Yhat_val=mod3.predict(X_val)\n",
    "print(\"modele RF: accuraccy sur train set:\", accuracy_score(Y_train_split, Yhat_train))\n",
    "print(\"modele RF: accuraccy sur validation set:\", accuracy_score(Y_val, Yhat_val))\n",
    "print(\"\\n modele RF: precision, recall, et f1 scores class 1: sur validation set:\", \"\\n\", \n",
    "      precision_score(Y_val, Yhat_val), \"\\n\", recall_score(Y_val, Yhat_val), \"\\n\", f1_score(Y_val, Yhat_val))\n",
    "print(\"\\n modele RF: precision, recall, et f1 scores class 0: sur validation set\", \"\\n\", \n",
    "       precision_score(Y_val, Yhat_val, pos_label=0), \"\\n\", recall_score(Y_val, Yhat_val, pos_label=0), \n",
    "       \"\\n\", f1_score(Y_val, Yhat_val, pos_label=0))\n"
   ]
  },
  {
   "cell_type": "code",
   "execution_count": 28,
   "id": "79b63b42",
   "metadata": {},
   "outputs": [
    {
     "name": "stdout",
     "output_type": "stream",
     "text": [
      "modele XG: accuraccy sur train set: 0.904532967032967\n",
      "modele XG: accuraccy sur validation set: 0.793307772743116\n",
      "\n",
      " modele XG: precision, recall, et f1 scores class 1: sur validation set: \n",
      " 0.7763852242744064 \n",
      " 0.822501747030049 \n",
      " 0.7987784187309128\n",
      "\n",
      " modele XG: precision, recall, et f1 scores class 0: sur validation set \n",
      " 0.8122690317812269 \n",
      " 0.7642559109874826 \n",
      " 0.7875313507703332\n"
     ]
    }
   ],
   "source": [
    "# XGboost\n",
    "import xgboost as xgb \n",
    "bst = xgb.XGBClassifier().fit(X_train_split,Y_train_split) \n",
    "Yhat_train = bst.predict(X_train_split)\n",
    "Yhat_val=bst.predict(X_val)\n",
    "print(\"modele XG: accuraccy sur train set:\", accuracy_score(Y_train_split, Yhat_train))\n",
    "print(\"modele XG: accuraccy sur validation set:\", accuracy_score(Y_val, Yhat_val))\n",
    "print(\"\\n modele XG: precision, recall, et f1 scores class 1: sur validation set:\", \"\\n\", \n",
    "      precision_score(Y_val, Yhat_val), \"\\n\", recall_score(Y_val, Yhat_val), \"\\n\", f1_score(Y_val, Yhat_val))\n",
    "print(\"\\n modele XG: precision, recall, et f1 scores class 0: sur validation set\", \"\\n\", \n",
    "       precision_score(Y_val, Yhat_val, pos_label=0), \"\\n\", recall_score(Y_val, Yhat_val, pos_label=0), \n",
    "       \"\\n\", f1_score(Y_val, Yhat_val, pos_label=0))\n"
   ]
  },
  {
   "cell_type": "markdown",
   "id": "8b16cbb8",
   "metadata": {},
   "source": [
    "Parmi les classifieurs testés, 3 classifieurs ont de bonnes performances de prédiction sur le set de validation (79-80% de F1 score sur les 2 classes \"Transported\"/\"Not transported\": logistic regression, random forest et XGBoost. On choisit de garder random forest et XGboost pour optimiser les performances et faire nos prédictions finales sur l'ensemble de test. "
   ]
  },
  {
   "cell_type": "markdown",
   "id": "d457e095",
   "metadata": {},
   "source": [
    "# Optimisation des performances "
   ]
  },
  {
   "cell_type": "markdown",
   "id": "006266a0",
   "metadata": {},
   "source": [
    "\n",
    "On cherche les hyperparamètres optimaux de nos 2 classifieurs sélectionnés, puis on les fait tourner avec les hyperparamètres optimaux pour faire la prédiction sur les données test (qui ont été prétraitées précédemment de la même manière que les données de training). "
   ]
  },
  {
   "cell_type": "code",
   "execution_count": 29,
   "id": "f5e570b8",
   "metadata": {},
   "outputs": [
    {
     "name": "stdout",
     "output_type": "stream",
     "text": [
      "dict_keys(['bootstrap', 'ccp_alpha', 'class_weight', 'criterion', 'max_depth', 'max_features', 'max_leaf_nodes', 'max_samples', 'min_impurity_decrease', 'min_samples_leaf', 'min_samples_split', 'min_weight_fraction_leaf', 'n_estimators', 'n_jobs', 'oob_score', 'random_state', 'verbose', 'warm_start'])\n",
      "Best parameter (CV score=0.801):\n",
      "{'max_depth': 10, 'min_samples_split': 5, 'n_estimators': 100}\n",
      "modele RF: accuraccy sur train set: 0.8434065934065934\n",
      "modele RF: accuraccy sur validation set: 0.7995817357964448\n",
      "\n",
      " modele RF: precision, recall, et f1 scores class 1: sur validation set: \n",
      " 0.7935528120713305 \n",
      " 0.8085255066387141 \n",
      " 0.8009691934925579\n",
      "\n",
      " modele RF: precision, recall, et f1 scores class 0: sur validation set \n",
      " 0.8058114812189936 \n",
      " 0.7906815020862309 \n",
      " 0.7981747981747983\n",
      "<class 'pandas.core.frame.DataFrame'>\n",
      "Int64Index: 8693 entries, 0 to 8692\n",
      "Data columns (total 23 columns):\n",
      " #   Column                     Non-Null Count  Dtype  \n",
      "---  ------                     --------------  -----  \n",
      " 0   Age                        8693 non-null   float64\n",
      " 1   RoomService                8693 non-null   float64\n",
      " 2   FoodCourt                  8693 non-null   float64\n",
      " 3   ShoppingMall               8693 non-null   float64\n",
      " 4   Spa                        8693 non-null   float64\n",
      " 5   VRDeck                     8693 non-null   float64\n",
      " 6   HomePlanet_Earth           8693 non-null   uint8  \n",
      " 7   HomePlanet_Europa          8693 non-null   uint8  \n",
      " 8   HomePlanet_Mars            8693 non-null   uint8  \n",
      " 9   CryoSleep_True             8693 non-null   uint8  \n",
      " 10  Destination_55 Cancri e    8693 non-null   uint8  \n",
      " 11  Destination_PSO J318.5-22  8693 non-null   uint8  \n",
      " 12  Destination_TRAPPIST-1e    8693 non-null   uint8  \n",
      " 13  VIP_True                   8693 non-null   uint8  \n",
      " 14  Deck_Cabin_A               8693 non-null   uint8  \n",
      " 15  Deck_Cabin_B               8693 non-null   uint8  \n",
      " 16  Deck_Cabin_C               8693 non-null   uint8  \n",
      " 17  Deck_Cabin_D               8693 non-null   uint8  \n",
      " 18  Deck_Cabin_E               8693 non-null   uint8  \n",
      " 19  Deck_Cabin_F               8693 non-null   uint8  \n",
      " 20  Deck_Cabin_G               8693 non-null   uint8  \n",
      " 21  Deck_Cabin_T               8693 non-null   uint8  \n",
      " 22  Side_Cabin_P               8693 non-null   uint8  \n",
      "dtypes: float64(6), uint8(17)\n",
      "memory usage: 877.8 KB\n",
      "% de transported: 0.5104044891278934\n",
      "prediction des 3 premières étiquettes de X_test [1 0 1 1 0 0 1 1 1 1]\n"
     ]
    },
    {
     "data": {
      "image/png": "[encoded data removed]",
      "text/plain": [
       "<Figure size 432x288 with 1 Axes>"
      ]
     },
     "metadata": {
      "needs_background": "light"
     },
     "output_type": "display_data"
    }
   ],
   "source": [
    "#grid search sur train set pour hyperparamètres optimaux de random forest \n",
    "from sklearn.model_selection import GridSearchCV\n",
    "from sklearn.model_selection import ParameterGrid\n",
    "\n",
    "classif = RandomForestClassifier()\n",
    "print(classif.get_params().keys())\n",
    "\n",
    "grid = {'max_depth': [3, 5, 10], \n",
    "        'min_samples_split': [2, 5, 10],\n",
    "        'n_estimators': [10, 100, 300]}\n",
    "\n",
    "search = GridSearchCV(classif, grid)\n",
    "search.fit(X_train_split, Y_train_split)\n",
    "print(\"Best parameter (CV score=%0.3f):\" % search.best_score_)\n",
    "print(search.best_params_)\n",
    "\n",
    "#classifieur avec les hyperparamètres optimaux\n",
    "rf =  RandomForestClassifier(n_estimators=300, max_depth=10,min_samples_split=10)\n",
    "rf.fit(X_train_split,Y_train_split)\n",
    "Yhat_train=rf.predict(X_train_split)\n",
    "Yhat_val=rf.predict(X_val)\n",
    "print(\"modele RF: accuraccy sur train set:\", accuracy_score(Y_train_split, Yhat_train))\n",
    "print(\"modele RF: accuraccy sur validation set:\", accuracy_score(Y_val, Yhat_val))\n",
    "print(\"\\n modele RF: precision, recall, et f1 scores class 1: sur validation set:\", \"\\n\", \n",
    "      precision_score(Y_val, Yhat_val), \"\\n\", recall_score(Y_val, Yhat_val), \"\\n\", f1_score(Y_val, Yhat_val))\n",
    "print(\"\\n modele RF: precision, recall, et f1 scores class 0: sur validation set\", \"\\n\", \n",
    "       precision_score(Y_val, Yhat_val, pos_label=0), \"\\n\", recall_score(Y_val, Yhat_val, pos_label=0), \n",
    "       \"\\n\", f1_score(Y_val, Yhat_val, pos_label=0))\n",
    "#Analyse de l'importance des features \n",
    "feature_names = [f\"feature {i}\" for i in range(X_train_split.shape[1])]\n",
    "importances = rf.feature_importances_\n",
    "rf_importances = pd.Series(importances, index=feature_names)\n",
    "std = np.std([tree.feature_importances_ for tree in rf.estimators_], axis=0)\n",
    "fig, ax = plt.subplots()\n",
    "rf_importances.plot.bar(yerr=std, ax=ax)\n",
    "ax.set_title(\"Feature importances using MDI\")\n",
    "ax.set_ylabel(\"Mean decrease in impurity\")\n",
    "fig.tight_layout()\n",
    "\n",
    "X_train.info()\n",
    "\n",
    "#Prédire l'étiquette du set de test\n",
    "Yhat_realtest=rf.predict(X_test)\n",
    "print(\"% de transported:\", (np.where(Yhat_realtest==1, 1, 0).sum())/len(Yhat_realtest))\n",
    "print(\"prediction des 3 premières étiquettes de X_test\", Yhat_realtest[0:10])"
   ]
  },
  {
   "cell_type": "code",
   "execution_count": 30,
   "id": "46fec94f",
   "metadata": {},
   "outputs": [
    {
     "name": "stdout",
     "output_type": "stream",
     "text": [
      "Requirement already satisfied: optuna in c:\\users\\jacqueno\\anaconda3\\lib\\site-packages (3.1.0)\n",
      "Requirement already satisfied: packaging>=20.0 in c:\\users\\jacqueno\\anaconda3\\lib\\site-packages (from optuna) (21.3)\n",
      "Requirement already satisfied: colorlog in c:\\users\\jacqueno\\anaconda3\\lib\\site-packages (from optuna) (6.7.0)\n",
      "Requirement already satisfied: numpy in c:\\users\\jacqueno\\anaconda3\\lib\\site-packages (from optuna) (1.21.5)\n",
      "Requirement already satisfied: alembic>=1.5.0 in c:\\users\\jacqueno\\anaconda3\\lib\\site-packages (from optuna) (1.9.2)\n",
      "Requirement already satisfied: cmaes>=0.9.1 in c:\\users\\jacqueno\\anaconda3\\lib\\site-packages (from optuna) (0.9.1)\n",
      "Requirement already satisfied: PyYAML in c:\\users\\jacqueno\\anaconda3\\lib\\site-packages (from optuna) (6.0)\n",
      "Requirement already satisfied: sqlalchemy>=1.3.0 in c:\\users\\jacqueno\\anaconda3\\lib\\site-packages (from optuna) (1.4.32)\n",
      "Requirement already satisfied: tqdm in c:\\users\\jacqueno\\anaconda3\\lib\\site-packages (from optuna) (4.64.0)\n",
      "Requirement already satisfied: Mako in c:\\users\\jacqueno\\anaconda3\\lib\\site-packages (from alembic>=1.5.0->optuna) (1.2.4)\n",
      "Requirement already satisfied: pyparsing!=3.0.5,>=2.0.2 in c:\\users\\jacqueno\\anaconda3\\lib\\site-packages (from packaging>=20.0->optuna) (3.0.4)\n",
      "Requirement already satisfied: greenlet!=0.4.17 in c:\\users\\jacqueno\\anaconda3\\lib\\site-packages (from sqlalchemy>=1.3.0->optuna) (1.1.1)\n",
      "Requirement already satisfied: colorama in c:\\users\\jacqueno\\anaconda3\\lib\\site-packages (from colorlog->optuna) (0.4.4)\n",
      "Requirement already satisfied: MarkupSafe>=0.9.2 in c:\\users\\jacqueno\\anaconda3\\lib\\site-packages (from Mako->alembic>=1.5.0->optuna) (2.0.1)\n"
     ]
    },
    {
     "name": "stderr",
     "output_type": "stream",
     "text": [
      "\u001b[32m[I 2023-01-21 18:45:02,307]\u001b[0m A new study created in memory with name: no-name-bddf903f-7822-4596-a104-9d7c611c0b0c\u001b[0m\n",
      "\u001b[32m[I 2023-01-21 18:45:02,902]\u001b[0m Trial 0 finished with value: 0.7455559428372255 and parameters: {'max_depth': 6, 'learning_rate': 0.7552190411939347, 'n_estimators': 429, 'min_child_weight': 6, 'gamma': 7.730299110183565e-07, 'subsample': 0.03395456907969134, 'colsample_bytree': 0.035697995344983906, 'reg_alpha': 0.031257185752052635, 'reg_lambda': 1.0207241829498547e-08}. Best is trial 0 with value: 0.7455559428372255.\u001b[0m\n",
      "\u001b[32m[I 2023-01-21 18:45:03,961]\u001b[0m Trial 1 finished with value: 0.7706517950505403 and parameters: {'max_depth': 3, 'learning_rate': 0.03755182954868316, 'n_estimators': 489, 'min_child_weight': 5, 'gamma': 1.6691200442663598e-06, 'subsample': 0.6121527592784757, 'colsample_bytree': 0.059665046279256326, 'reg_alpha': 0.1499649484981331, 'reg_lambda': 7.212449533435944e-06}. Best is trial 1 with value: 0.7706517950505403.\u001b[0m\n",
      "\u001b[32m[I 2023-01-21 18:45:04,526]\u001b[0m Trial 2 finished with value: 0.7723945625653538 and parameters: {'max_depth': 1, 'learning_rate': 0.2298976332215175, 'n_estimators': 327, 'min_child_weight': 2, 'gamma': 1.4831802110698537e-05, 'subsample': 0.01148708934414886, 'colsample_bytree': 0.07304024580966674, 'reg_alpha': 0.42252435407152394, 'reg_lambda': 9.876221891380842e-07}. Best is trial 2 with value: 0.7723945625653538.\u001b[0m\n",
      "\u001b[32m[I 2023-01-21 18:45:05,725]\u001b[0m Trial 3 finished with value: 0.8006273963053329 and parameters: {'max_depth': 7, 'learning_rate': 0.019051276289777153, 'n_estimators': 275, 'min_child_weight': 1, 'gamma': 0.005092002299013306, 'subsample': 0.14948435225361376, 'colsample_bytree': 0.8510815472010909, 'reg_alpha': 0.00016369584133728158, 'reg_lambda': 2.6139298984764014e-07}. Best is trial 3 with value: 0.8006273963053329.\u001b[0m\n",
      "\u001b[32m[I 2023-01-21 18:45:06,559]\u001b[0m Trial 4 finished with value: 0.7894736842105263 and parameters: {'max_depth': 2, 'learning_rate': 0.015629185144905064, 'n_estimators': 351, 'min_child_weight': 7, 'gamma': 4.980402333665454e-05, 'subsample': 0.47294142419011126, 'colsample_bytree': 0.6703376888284281, 'reg_alpha': 1.2073051172277798e-08, 'reg_lambda': 8.256229563730171e-05}. Best is trial 3 with value: 0.8006273963053329.\u001b[0m\n",
      "\u001b[32m[I 2023-01-21 18:45:07,187]\u001b[0m Trial 5 finished with value: 0.7312652492157546 and parameters: {'max_depth': 4, 'learning_rate': 0.44468532835239427, 'n_estimators': 354, 'min_child_weight': 7, 'gamma': 1.7571925177723627e-07, 'subsample': 0.022054146810060064, 'colsample_bytree': 0.7739565170916425, 'reg_alpha': 6.456951296939967e-08, 'reg_lambda': 0.1564008622848382}. Best is trial 3 with value: 0.8006273963053329.\u001b[0m\n",
      "\u001b[32m[I 2023-01-21 18:45:07,515]\u001b[0m Trial 6 finished with value: 0.7748344370860927 and parameters: {'max_depth': 9, 'learning_rate': 0.1416583501817587, 'n_estimators': 187, 'min_child_weight': 6, 'gamma': 0.0020545086664735535, 'subsample': 0.09086243998399515, 'colsample_bytree': 0.05043620869160602, 'reg_alpha': 1.6141909330694938e-08, 'reg_lambda': 1.147520180293419e-07}. Best is trial 3 with value: 0.8006273963053329.\u001b[0m\n",
      "\u001b[32m[I 2023-01-21 18:45:08,422]\u001b[0m Trial 7 finished with value: 0.7814569536423841 and parameters: {'max_depth': 9, 'learning_rate': 0.06928794089253712, 'n_estimators': 459, 'min_child_weight': 4, 'gamma': 0.04600585709950388, 'subsample': 0.0923794873466566, 'colsample_bytree': 0.01795603396166553, 'reg_alpha': 1.1792847502144406e-06, 'reg_lambda': 4.9851413197536165e-05}. Best is trial 3 with value: 0.8006273963053329.\u001b[0m\n",
      "\u001b[32m[I 2023-01-21 18:45:09,098]\u001b[0m Trial 8 finished with value: 0.7389334262809342 and parameters: {'max_depth': 8, 'learning_rate': 0.011063493447894772, 'n_estimators': 385, 'min_child_weight': 7, 'gamma': 0.12321406518844984, 'subsample': 0.02525193268183896, 'colsample_bytree': 0.07211339684422091, 'reg_alpha': 7.175485810638618e-06, 'reg_lambda': 0.06047441859922078}. Best is trial 3 with value: 0.8006273963053329.\u001b[0m\n",
      "\u001b[32m[I 2023-01-21 18:45:09,883]\u001b[0m Trial 9 finished with value: 0.7546183339142558 and parameters: {'max_depth': 4, 'learning_rate': 0.40337662388183254, 'n_estimators': 397, 'min_child_weight': 6, 'gamma': 1.1256013509867636e-06, 'subsample': 0.03472254031069836, 'colsample_bytree': 0.5688089679315361, 'reg_alpha': 8.453702098047743e-05, 'reg_lambda': 0.004982158090634975}. Best is trial 3 with value: 0.8006273963053329.\u001b[0m\n",
      "\u001b[32m[I 2023-01-21 18:45:10,130]\u001b[0m Trial 10 finished with value: 0.7601951899616591 and parameters: {'max_depth': 6, 'learning_rate': 0.030109700376530844, 'n_estimators': 51, 'min_child_weight': 10, 'gamma': 0.0019326354360980015, 'subsample': 0.21487429858298837, 'colsample_bytree': 0.24099953721474437, 'reg_alpha': 0.0020967395254239776, 'reg_lambda': 4.560629923712618e-07}. Best is trial 3 with value: 0.8006273963053329.\u001b[0m\n",
      "\u001b[32m[I 2023-01-21 18:45:10,592]\u001b[0m Trial 11 finished with value: 0.73196235622168 and parameters: {'max_depth': 1, 'learning_rate': 0.012814787455212216, 'n_estimators': 244, 'min_child_weight': 1, 'gamma': 0.00011911501949503962, 'subsample': 0.9300985769233819, 'colsample_bytree': 0.33015986612147996, 'reg_alpha': 0.00041274231232069796, 'reg_lambda': 0.0003347351081268499}. Best is trial 3 with value: 0.8006273963053329.\u001b[0m\n",
      "\u001b[32m[I 2023-01-21 18:45:11,352]\u001b[0m Trial 12 finished with value: 0.7797141861275706 and parameters: {'max_depth': 7, 'learning_rate': 0.020818851873809382, 'n_estimators': 253, 'min_child_weight': 10, 'gamma': 0.00020515728852627183, 'subsample': 0.3144513136352995, 'colsample_bytree': 0.1953034050194081, 'reg_alpha': 2.4213259654687447e-06, 'reg_lambda': 3.712758365445647e-05}. Best is trial 3 with value: 0.8006273963053329.\u001b[0m\n",
      "\u001b[32m[I 2023-01-21 18:45:11,886]\u001b[0m Trial 13 finished with value: 0.7978389682816313 and parameters: {'max_depth': 3, 'learning_rate': 0.053048335520536914, 'n_estimators': 165, 'min_child_weight': 3, 'gamma': 1.4952754155032208e-08, 'subsample': 0.2313490317150431, 'colsample_bytree': 0.7637521893758594, 'reg_alpha': 2.036004139065242e-07, 'reg_lambda': 0.0007917679362557581}. Best is trial 3 with value: 0.8006273963053329.\u001b[0m\n",
      "\u001b[32m[I 2023-01-21 18:45:12,407]\u001b[0m Trial 14 finished with value: 0.7974904147786686 and parameters: {'max_depth': 5, 'learning_rate': 0.05067833108119882, 'n_estimators': 118, 'min_child_weight': 3, 'gamma': 1.2294815850958557e-08, 'subsample': 0.1795932419058572, 'colsample_bytree': 0.9937810493483944, 'reg_alpha': 4.012988456700851e-05, 'reg_lambda': 0.0013349659726050074}. Best is trial 3 with value: 0.8006273963053329.\u001b[0m\n",
      "\u001b[32m[I 2023-01-21 18:45:12,841]\u001b[0m Trial 15 finished with value: 0.7960962007668178 and parameters: {'max_depth': 3, 'learning_rate': 0.08348205167004004, 'n_estimators': 181, 'min_child_weight': 1, 'gamma': 3.756073661666032e-08, 'subsample': 0.14576844825625582, 'colsample_bytree': 0.418928166530311, 'reg_alpha': 4.118493212115673e-07, 'reg_lambda': 0.00419268640054272}. Best is trial 3 with value: 0.8006273963053329.\u001b[0m\n",
      "\u001b[32m[I 2023-01-21 18:45:13,411]\u001b[0m Trial 16 finished with value: 0.7748344370860927 and parameters: {'max_depth': 7, 'learning_rate': 0.025283012994700496, 'n_estimators': 183, 'min_child_weight': 3, 'gamma': 7.278385951821732e-06, 'subsample': 0.32988656096612423, 'colsample_bytree': 0.15362773190417442, 'reg_alpha': 1.410008527354618e-05, 'reg_lambda': 6.264472925772444e-06}. Best is trial 3 with value: 0.8006273963053329.\u001b[0m\n",
      "\u001b[32m[I 2023-01-21 18:45:14,260]\u001b[0m Trial 17 finished with value: 0.7967933077727432 and parameters: {'max_depth': 5, 'learning_rate': 0.04318690387685264, 'n_estimators': 290, 'min_child_weight': 2, 'gamma': 6.910891568404919e-08, 'subsample': 0.06641777390369466, 'colsample_bytree': 0.42778641313396365, 'reg_alpha': 0.0003436692014840399, 'reg_lambda': 0.7828566804412928}. Best is trial 3 with value: 0.8006273963053329.\u001b[0m\n",
      "\u001b[32m[I 2023-01-21 18:45:14,602]\u001b[0m Trial 18 finished with value: 0.7640292784942488 and parameters: {'max_depth': 7, 'learning_rate': 0.020234573441196828, 'n_estimators': 126, 'min_child_weight': 4, 'gamma': 1.266226942588426e-08, 'subsample': 0.1614260020126412, 'colsample_bytree': 0.12657507825331313, 'reg_alpha': 2.943101386434792e-07, 'reg_lambda': 2.9570718067467193e-08}. Best is trial 3 with value: 0.8006273963053329.\u001b[0m\n"
     ]
    },
    {
     "name": "stderr",
     "output_type": "stream",
     "text": [
      "\u001b[32m[I 2023-01-21 18:45:15,436]\u001b[0m Trial 19 finished with value: 0.7995817357964448 and parameters: {'max_depth': 3, 'learning_rate': 0.057443685254978165, 'n_estimators': 290, 'min_child_weight': 2, 'gamma': 0.013637952326385646, 'subsample': 0.2788583779374638, 'colsample_bytree': 0.965898835604072, 'reg_alpha': 5.439855430213595e-06, 'reg_lambda': 2.900801983721751e-06}. Best is trial 3 with value: 0.8006273963053329.\u001b[0m\n",
      "\u001b[32m[I 2023-01-21 18:45:16,270]\u001b[0m Trial 20 finished with value: 0.7922621122342279 and parameters: {'max_depth': 6, 'learning_rate': 0.12797452500779338, 'n_estimators': 290, 'min_child_weight': 1, 'gamma': 0.6789115794914881, 'subsample': 0.12495873023468906, 'colsample_bytree': 0.2881654671383594, 'reg_alpha': 6.733398645027498e-06, 'reg_lambda': 3.098081589101606e-07}. Best is trial 3 with value: 0.8006273963053329.\u001b[0m\n",
      "\u001b[32m[I 2023-01-21 18:45:16,919]\u001b[0m Trial 21 finished with value: 0.8009759498082956 and parameters: {'max_depth': 3, 'learning_rate': 0.05710127613516922, 'n_estimators': 222, 'min_child_weight': 2, 'gamma': 0.006620389720793558, 'subsample': 0.25546182475222307, 'colsample_bytree': 0.9258066276740549, 'reg_alpha': 1.9538315513166752e-07, 'reg_lambda': 4.5626581781099085e-06}. Best is trial 21 with value: 0.8009759498082956.\u001b[0m\n",
      "\u001b[32m[I 2023-01-21 18:45:17,581]\u001b[0m Trial 22 finished with value: 0.7967933077727432 and parameters: {'max_depth': 2, 'learning_rate': 0.03032327695824672, 'n_estimators': 229, 'min_child_weight': 2, 'gamma': 0.008309053320030907, 'subsample': 0.2921149688613613, 'colsample_bytree': 0.9776884759573381, 'reg_alpha': 1.633068843221999e-06, 'reg_lambda': 6.3489352799206935e-06}. Best is trial 21 with value: 0.8009759498082956.\u001b[0m\n",
      "\u001b[32m[I 2023-01-21 18:45:18,885]\u001b[0m Trial 23 finished with value: 0.8006273963053329 and parameters: {'max_depth': 4, 'learning_rate': 0.06789824704492367, 'n_estimators': 309, 'min_child_weight': 2, 'gamma': 0.009009933395305626, 'subsample': 0.450099390562199, 'colsample_bytree': 0.49691881411434813, 'reg_alpha': 1.8764508426221976e-05, 'reg_lambda': 1.0896802968819095e-06}. Best is trial 21 with value: 0.8009759498082956.\u001b[0m\n",
      "\u001b[32m[I 2023-01-21 18:45:19,701]\u001b[0m Trial 24 finished with value: 0.7950505402579295 and parameters: {'max_depth': 4, 'learning_rate': 0.09207966431514285, 'n_estimators': 215, 'min_child_weight': 4, 'gamma': 0.0007908540848922645, 'subsample': 0.46560158974343835, 'colsample_bytree': 0.533303504648796, 'reg_alpha': 4.0535598325325284e-05, 'reg_lambda': 7.758043049011938e-08}. Best is trial 21 with value: 0.8009759498082956.\u001b[0m\n",
      "\u001b[32m[I 2023-01-21 18:45:21,323]\u001b[0m Trial 25 finished with value: 0.7988846287905194 and parameters: {'max_depth': 5, 'learning_rate': 0.03741832239804788, 'n_estimators': 317, 'min_child_weight': 1, 'gamma': 0.0058941290601922085, 'subsample': 0.42839075131012105, 'colsample_bytree': 0.4121787046791923, 'reg_alpha': 0.0003991535200884675, 'reg_lambda': 1.3896099936927327e-06}. Best is trial 21 with value: 0.8009759498082956.\u001b[0m\n",
      "\u001b[32m[I 2023-01-21 18:45:21,961]\u001b[0m Trial 26 finished with value: 0.7974904147786686 and parameters: {'max_depth': 2, 'learning_rate': 0.06576355649476509, 'n_estimators': 256, 'min_child_weight': 3, 'gamma': 0.0005153420446237719, 'subsample': 0.8320470295639257, 'colsample_bytree': 0.5526950534019238, 'reg_alpha': 8.228257131478645e-07, 'reg_lambda': 2.2282008814642437e-07}. Best is trial 21 with value: 0.8009759498082956.\u001b[0m\n",
      "\u001b[32m[I 2023-01-21 18:45:23,126]\u001b[0m Trial 27 finished with value: 0.7960962007668178 and parameters: {'max_depth': 8, 'learning_rate': 0.01769963350810734, 'n_estimators': 322, 'min_child_weight': 2, 'gamma': 0.011566127888298054, 'subsample': 0.22542746646341605, 'colsample_bytree': 0.2689742312582331, 'reg_alpha': 0.004688106290261715, 'reg_lambda': 1.1508973702531843e-06}. Best is trial 21 with value: 0.8009759498082956.\u001b[0m\n",
      "\u001b[32m[I 2023-01-21 18:45:23,652]\u001b[0m Trial 28 finished with value: 0.7915650052283025 and parameters: {'max_depth': 4, 'learning_rate': 0.024034229232880445, 'n_estimators': 147, 'min_child_weight': 9, 'gamma': 0.05694824679169325, 'subsample': 0.7041529710875878, 'colsample_bytree': 0.6801353071348646, 'reg_alpha': 2.5254029302053282e-05, 'reg_lambda': 1.52590135692026e-05}. Best is trial 21 with value: 0.8009759498082956.\u001b[0m\n",
      "\u001b[32m[I 2023-01-21 18:45:25,221]\u001b[0m Trial 29 finished with value: 0.7950505402579295 and parameters: {'max_depth': 6, 'learning_rate': 0.010033095586407378, 'n_estimators': 393, 'min_child_weight': 5, 'gamma': 0.0016295295827635848, 'subsample': 0.5717418438962998, 'colsample_bytree': 0.36267905744622153, 'reg_alpha': 8.998964445024278e-08, 'reg_lambda': 1.5007698076702106e-08}. Best is trial 21 with value: 0.8009759498082956.\u001b[0m\n",
      "\u001b[32m[I 2023-01-21 18:45:25,963]\u001b[0m Trial 30 finished with value: 0.7758800975949808 and parameters: {'max_depth': 8, 'learning_rate': 0.01506353823809767, 'n_estimators': 214, 'min_child_weight': 1, 'gamma': 0.2469363594073937, 'subsample': 0.3695416586860738, 'colsample_bytree': 0.19076921731478091, 'reg_alpha': 9.917509500546538e-05, 'reg_lambda': 4.5538123094078987e-08}. Best is trial 21 with value: 0.8009759498082956.\u001b[0m\n",
      "\u001b[32m[I 2023-01-21 18:45:26,768]\u001b[0m Trial 31 finished with value: 0.7988846287905194 and parameters: {'max_depth': 3, 'learning_rate': 0.05061102562173105, 'n_estimators': 258, 'min_child_weight': 2, 'gamma': 0.020363921045865038, 'subsample': 0.29800278063402585, 'colsample_bytree': 0.9624022861772346, 'reg_alpha': 2.8454881606899832e-06, 'reg_lambda': 2.271222418342591e-06}. Best is trial 21 with value: 0.8009759498082956.\u001b[0m\n",
      "\u001b[32m[I 2023-01-21 18:45:27,613]\u001b[0m Trial 32 finished with value: 0.7967933077727432 and parameters: {'max_depth': 3, 'learning_rate': 0.06514156346430891, 'n_estimators': 298, 'min_child_weight': 2, 'gamma': 0.02149881894348845, 'subsample': 0.21229360926803048, 'colsample_bytree': 0.536505148397857, 'reg_alpha': 6.7774705684273695e-06, 'reg_lambda': 3.59584785246963e-06}. Best is trial 21 with value: 0.8009759498082956.\u001b[0m\n",
      "\u001b[32m[I 2023-01-21 18:45:29,313]\u001b[0m Trial 33 finished with value: 0.7960962007668178 and parameters: {'max_depth': 5, 'learning_rate': 0.11584262883580455, 'n_estimators': 350, 'min_child_weight': 3, 'gamma': 0.0030953522348242937, 'subsample': 0.5570970597753071, 'colsample_bytree': 0.7736590320886091, 'reg_alpha': 1.4042621015358805e-05, 'reg_lambda': 1.617500687614659e-05}. Best is trial 21 with value: 0.8009759498082956.\u001b[0m\n",
      "\u001b[32m[I 2023-01-21 18:45:30,094]\u001b[0m Trial 34 finished with value: 0.7926106657371906 and parameters: {'max_depth': 2, 'learning_rate': 0.03606522688389623, 'n_estimators': 279, 'min_child_weight': 1, 'gamma': 0.006162391914928106, 'subsample': 0.40757320214303794, 'colsample_bytree': 0.7047353938057959, 'reg_alpha': 3.3391612438011075e-06, 'reg_lambda': 5.069852157119701e-07}. Best is trial 21 with value: 0.8009759498082956.\u001b[0m\n",
      "\u001b[32m[I 2023-01-21 18:45:31,339]\u001b[0m Trial 35 finished with value: 0.7940048797490414 and parameters: {'max_depth': 4, 'learning_rate': 0.16566374149595403, 'n_estimators': 365, 'min_child_weight': 2, 'gamma': 0.02657524330048987, 'subsample': 0.2692863758842579, 'colsample_bytree': 0.5221491467465419, 'reg_alpha': 9.001064132570645e-07, 'reg_lambda': 2.0596595566389498e-06}. Best is trial 21 with value: 0.8009759498082956.\u001b[0m\n",
      "\u001b[32m[I 2023-01-21 18:45:32,042]\u001b[0m Trial 36 finished with value: 0.7929592192401533 and parameters: {'max_depth': 1, 'learning_rate': 0.0900199898535542, 'n_estimators': 316, 'min_child_weight': 4, 'gamma': 0.00043214729507536445, 'subsample': 0.17290300356531352, 'colsample_bytree': 0.9314444704386279, 'reg_alpha': 0.8284713192080824, 'reg_lambda': 8.400956313715005e-07}. Best is trial 21 with value: 0.8009759498082956.\u001b[0m\n",
      "\u001b[32m[I 2023-01-21 18:45:32,665]\u001b[0m Trial 37 finished with value: 0.793307772743116 and parameters: {'max_depth': 2, 'learning_rate': 0.04015390743269701, 'n_estimators': 219, 'min_child_weight': 5, 'gamma': 0.08843188956519428, 'subsample': 0.1126810596590188, 'colsample_bytree': 0.6493193896579339, 'reg_alpha': 2.7974168381842056e-08, 'reg_lambda': 3.4454874054249296e-06}. Best is trial 21 with value: 0.8009759498082956.\u001b[0m\n"
     ]
    },
    {
     "name": "stderr",
     "output_type": "stream",
     "text": [
      "\u001b[32m[I 2023-01-21 18:45:34,461]\u001b[0m Trial 38 finished with value: 0.7971418612757059 and parameters: {'max_depth': 3, 'learning_rate': 0.0715870628141105, 'n_estimators': 445, 'min_child_weight': 8, 'gamma': 0.003716487216035163, 'subsample': 0.5212660698369641, 'colsample_bytree': 0.7840128761348956, 'reg_alpha': 9.536457728905016e-08, 'reg_lambda': 2.140656160890083e-07}. Best is trial 21 with value: 0.8009759498082956.\u001b[0m\n",
      "\u001b[32m[I 2023-01-21 18:45:35,695]\u001b[0m Trial 39 finished with value: 0.7999302892994075 and parameters: {'max_depth': 4, 'learning_rate': 0.10604458857445187, 'n_estimators': 273, 'min_child_weight': 3, 'gamma': 0.015275577050495813, 'subsample': 0.7250484805093874, 'colsample_bytree': 0.46353992845310105, 'reg_alpha': 6.33130487322888e-07, 'reg_lambda': 1.1846865769957834e-07}. Best is trial 21 with value: 0.8009759498082956.\u001b[0m\n",
      "\u001b[32m[I 2023-01-21 18:45:37,067]\u001b[0m Trial 40 finished with value: 0.7967933077727432 and parameters: {'max_depth': 4, 'learning_rate': 0.16230220605869997, 'n_estimators': 340, 'min_child_weight': 3, 'gamma': 0.0010840435270885172, 'subsample': 0.6965438695590344, 'colsample_bytree': 0.34461534882910866, 'reg_alpha': 5.418428469822448e-07, 'reg_lambda': 1.015630531361692e-07}. Best is trial 21 with value: 0.8009759498082956.\u001b[0m\n",
      "\u001b[32m[I 2023-01-21 18:45:38,109]\u001b[0m Trial 41 finished with value: 0.798187521784594 and parameters: {'max_depth': 3, 'learning_rate': 0.09219633721850602, 'n_estimators': 268, 'min_child_weight': 2, 'gamma': 0.012743654340394876, 'subsample': 0.36246597802687547, 'colsample_bytree': 0.5066505841796942, 'reg_alpha': 1.3530157322761902e-06, 'reg_lambda': 9.362536717610434e-07}. Best is trial 21 with value: 0.8009759498082956.\u001b[0m\n",
      "\u001b[32m[I 2023-01-21 18:45:39,142]\u001b[0m Trial 42 finished with value: 0.7988846287905194 and parameters: {'max_depth': 4, 'learning_rate': 0.10815854219696572, 'n_estimators': 300, 'min_child_weight': 1, 'gamma': 0.036603329612751964, 'subsample': 0.464857807442368, 'colsample_bytree': 0.6559714895231195, 'reg_alpha': 1.857269965212333e-07, 'reg_lambda': 1.920186040882876e-07}. Best is trial 21 with value: 0.8009759498082956.\u001b[0m\n",
      "\u001b[32m[I 2023-01-21 18:45:40,259]\u001b[0m Trial 43 finished with value: 0.8027187173231091 and parameters: {'max_depth': 5, 'learning_rate': 0.061273628386573555, 'n_estimators': 274, 'min_child_weight': 2, 'gamma': 0.004540281908730666, 'subsample': 0.6628905592782169, 'colsample_bytree': 0.8048919819252716, 'reg_alpha': 4.279785569081316e-08, 'reg_lambda': 4.731819551724323e-07}. Best is trial 43 with value: 0.8027187173231091.\u001b[0m\n",
      "\u001b[32m[I 2023-01-21 18:45:41,042]\u001b[0m Trial 44 finished with value: 0.8002788428023702 and parameters: {'max_depth': 5, 'learning_rate': 0.06974349426082234, 'n_estimators': 238, 'min_child_weight': 4, 'gamma': 0.002897017395827594, 'subsample': 0.9641705658453634, 'colsample_bytree': 0.4363712500699217, 'reg_alpha': 2.2216244057947344e-08, 'reg_lambda': 5.323122674930708e-07}. Best is trial 43 with value: 0.8027187173231091.\u001b[0m\n",
      "\u001b[32m[I 2023-01-21 18:45:41,923]\u001b[0m Trial 45 finished with value: 0.795747647263855 and parameters: {'max_depth': 5, 'learning_rate': 0.07446230146177885, 'n_estimators': 236, 'min_child_weight': 4, 'gamma': 0.00285666079984532, 'subsample': 0.8457328642494419, 'colsample_bytree': 0.37515153553073655, 'reg_alpha': 2.3855584576276703e-08, 'reg_lambda': 4.0287982306765433e-07}. Best is trial 43 with value: 0.8027187173231091.\u001b[0m\n",
      "\u001b[32m[I 2023-01-21 18:45:42,755]\u001b[0m Trial 46 finished with value: 0.7971418612757059 and parameters: {'max_depth': 6, 'learning_rate': 0.044793385014012664, 'n_estimators': 199, 'min_child_weight': 5, 'gamma': 0.0012111775384255335, 'subsample': 0.6300075111083031, 'colsample_bytree': 0.6418490337045208, 'reg_alpha': 4.0150762263940956e-08, 'reg_lambda': 6.45096963553792e-07}. Best is trial 43 with value: 0.8027187173231091.\u001b[0m\n",
      "\u001b[32m[I 2023-01-21 18:45:43,646]\u001b[0m Trial 47 finished with value: 0.8002788428023702 and parameters: {'max_depth': 5, 'learning_rate': 0.05855199486761223, 'n_estimators': 244, 'min_child_weight': 6, 'gamma': 0.00023506813000470276, 'subsample': 0.9562810791204776, 'colsample_bytree': 0.8088749581851002, 'reg_alpha': 2.0345853038002022e-08, 'reg_lambda': 1.4996502510283698e-05}. Best is trial 43 with value: 0.8027187173231091.\u001b[0m\n",
      "\u001b[32m[I 2023-01-21 18:45:44,404]\u001b[0m Trial 48 finished with value: 0.8030672708260718 and parameters: {'max_depth': 6, 'learning_rate': 0.07802686871572448, 'n_estimators': 197, 'min_child_weight': 1, 'gamma': 0.003687440264193633, 'subsample': 0.9573330181568536, 'colsample_bytree': 0.4421558153022417, 'reg_alpha': 1.0062229693817971e-08, 'reg_lambda': 5.050889326842637e-08}. Best is trial 48 with value: 0.8030672708260718.\u001b[0m\n",
      "\u001b[32m[I 2023-01-21 18:45:45,206]\u001b[0m Trial 49 finished with value: 0.7995817357964448 and parameters: {'max_depth': 7, 'learning_rate': 0.03140868348700524, 'n_estimators': 155, 'min_child_weight': 1, 'gamma': 7.655679160891956e-05, 'subsample': 0.6678466571468458, 'colsample_bytree': 0.6000873900605908, 'reg_alpha': 4.7954680697585874e-08, 'reg_lambda': 1.4577088380539159e-08}. Best is trial 48 with value: 0.8030672708260718.\u001b[0m\n",
      "\u001b[32m[I 2023-01-21 18:45:45,558]\u001b[0m Trial 50 finished with value: 0.7891251307075636 and parameters: {'max_depth': 6, 'learning_rate': 0.05341325327822807, 'n_estimators': 83, 'min_child_weight': 1, 'gamma': 0.005609628531855762, 'subsample': 0.5260007793050491, 'colsample_bytree': 0.31762431501633753, 'reg_alpha': 1.3288210104035699e-08, 'reg_lambda': 4.9971498268567166e-08}. Best is trial 48 with value: 0.8030672708260718.\u001b[0m\n",
      "\u001b[32m[I 2023-01-21 18:45:46,326]\u001b[0m Trial 51 finished with value: 0.7999302892994075 and parameters: {'max_depth': 6, 'learning_rate': 0.07449028495787868, 'n_estimators': 210, 'min_child_weight': 2, 'gamma': 0.0022268619233335517, 'subsample': 0.9908825998559372, 'colsample_bytree': 0.4512818776958465, 'reg_alpha': 1.07430001460157e-08, 'reg_lambda': 4.4581155382569604e-07}. Best is trial 48 with value: 0.8030672708260718.\u001b[0m\n",
      "\u001b[32m[I 2023-01-21 18:45:47,170]\u001b[0m Trial 52 finished with value: 0.8027187173231091 and parameters: {'max_depth': 5, 'learning_rate': 0.04531350856111693, 'n_estimators': 188, 'min_child_weight': 3, 'gamma': 0.004354467072232365, 'subsample': 0.8343501506639909, 'colsample_bytree': 0.8490909994881041, 'reg_alpha': 9.625191767656815e-08, 'reg_lambda': 1.4912261010485658e-07}. Best is trial 48 with value: 0.8030672708260718.\u001b[0m\n",
      "\u001b[32m[I 2023-01-21 18:45:48,183]\u001b[0m Trial 53 finished with value: 0.7999302892994075 and parameters: {'max_depth': 7, 'learning_rate': 0.04565909029898538, 'n_estimators': 178, 'min_child_weight': 2, 'gamma': 0.03876293967254602, 'subsample': 0.7849827809557106, 'colsample_bytree': 0.8620002178131045, 'reg_alpha': 1.5728679628906159e-07, 'reg_lambda': 1.4625904681810632e-07}. Best is trial 48 with value: 0.8030672708260718.\u001b[0m\n",
      "\u001b[32m[I 2023-01-21 18:45:49,198]\u001b[0m Trial 54 finished with value: 0.8069013593586616 and parameters: {'max_depth': 7, 'learning_rate': 0.05954655354143491, 'n_estimators': 199, 'min_child_weight': 3, 'gamma': 0.005204222954010683, 'subsample': 0.6422758719384897, 'colsample_bytree': 0.8137085426899849, 'reg_alpha': 5.799912547739873e-08, 'reg_lambda': 2.626533558349569e-08}. Best is trial 54 with value: 0.8069013593586616.\u001b[0m\n",
      "\u001b[32m[I 2023-01-21 18:45:50,333]\u001b[0m Trial 55 finished with value: 0.7999302892994075 and parameters: {'max_depth': 8, 'learning_rate': 0.03491626432238509, 'n_estimators': 196, 'min_child_weight': 3, 'gamma': 0.0006860074634007635, 'subsample': 0.7807492727621995, 'colsample_bytree': 0.775281537989698, 'reg_alpha': 4.958825464796548e-08, 'reg_lambda': 2.3257010941426862e-08}. Best is trial 54 with value: 0.8069013593586616.\u001b[0m\n",
      "\u001b[32m[I 2023-01-21 18:45:51,166]\u001b[0m Trial 56 finished with value: 0.8023701638201464 and parameters: {'max_depth': 7, 'learning_rate': 0.047895904126169564, 'n_estimators': 126, 'min_child_weight': 1, 'gamma': 0.0013916136919118196, 'subsample': 0.575929530416644, 'colsample_bytree': 0.8321655729686872, 'reg_alpha': 7.020356355630386e-08, 'reg_lambda': 1.0665347659659467e-08}. Best is trial 54 with value: 0.8069013593586616.\u001b[0m\n"
     ]
    },
    {
     "name": "stderr",
     "output_type": "stream",
     "text": [
      "\u001b[32m[I 2023-01-21 18:45:51,932]\u001b[0m Trial 57 finished with value: 0.8020216103171837 and parameters: {'max_depth': 7, 'learning_rate': 0.057324650200325934, 'n_estimators': 121, 'min_child_weight': 3, 'gamma': 0.001393045434900203, 'subsample': 0.5987119674553318, 'colsample_bytree': 0.825516489870249, 'reg_alpha': 7.899534384867254e-08, 'reg_lambda': 3.5514517793985245e-08}. Best is trial 54 with value: 0.8069013593586616.\u001b[0m\n",
      "\u001b[32m[I 2023-01-21 18:45:52,522]\u001b[0m Trial 58 finished with value: 0.8020216103171837 and parameters: {'max_depth': 7, 'learning_rate': 0.045373072524120324, 'n_estimators': 95, 'min_child_weight': 3, 'gamma': 0.0013079577742087629, 'subsample': 0.5622728220270311, 'colsample_bytree': 0.6038015153394217, 'reg_alpha': 9.178548644401679e-08, 'reg_lambda': 3.396452291737232e-08}. Best is trial 54 with value: 0.8069013593586616.\u001b[0m\n",
      "\u001b[32m[I 2023-01-21 18:45:53,446]\u001b[0m Trial 59 finished with value: 0.7999302892994075 and parameters: {'max_depth': 9, 'learning_rate': 0.08162028994843018, 'n_estimators': 133, 'min_child_weight': 1, 'gamma': 0.00034493775542830847, 'subsample': 0.6292591065795385, 'colsample_bytree': 0.7282749291840759, 'reg_alpha': 1.040922502258996e-08, 'reg_lambda': 1.11756306059258e-08}. Best is trial 54 with value: 0.8069013593586616.\u001b[0m\n",
      "\u001b[32m[I 2023-01-21 18:45:53,984]\u001b[0m Trial 60 finished with value: 0.8009759498082956 and parameters: {'max_depth': 6, 'learning_rate': 0.058654110359750905, 'n_estimators': 109, 'min_child_weight': 4, 'gamma': 0.0001895576359073345, 'subsample': 0.8155979334883183, 'colsample_bytree': 0.7910382785258329, 'reg_alpha': 3.8436578299709134e-07, 'reg_lambda': 6.378338030522088e-08}. Best is trial 54 with value: 0.8069013593586616.\u001b[0m\n",
      "\u001b[32m[I 2023-01-21 18:45:54,501]\u001b[0m Trial 61 finished with value: 0.7971418612757059 and parameters: {'max_depth': 7, 'learning_rate': 0.045727200315311675, 'n_estimators': 96, 'min_child_weight': 3, 'gamma': 0.0009602968547105795, 'subsample': 0.5967288043122191, 'colsample_bytree': 0.60886734573765, 'reg_alpha': 8.06027508526244e-08, 'reg_lambda': 2.817780095092395e-08}. Best is trial 54 with value: 0.8069013593586616.\u001b[0m\n",
      "\u001b[32m[I 2023-01-21 18:45:55,058]\u001b[0m Trial 62 finished with value: 0.8002788428023702 and parameters: {'max_depth': 8, 'learning_rate': 0.04168509342769779, 'n_estimators': 74, 'min_child_weight': 3, 'gamma': 0.0017794601171282958, 'subsample': 0.556000518321774, 'colsample_bytree': 0.9875380980858269, 'reg_alpha': 1.1761427170307753e-07, 'reg_lambda': 4.0326880257951466e-08}. Best is trial 54 with value: 0.8069013593586616.\u001b[0m\n",
      "\u001b[32m[I 2023-01-21 18:45:55,390]\u001b[0m Trial 63 finished with value: 0.7999302892994075 and parameters: {'max_depth': 7, 'learning_rate': 0.05083785783055951, 'n_estimators': 58, 'min_child_weight': 3, 'gamma': 0.0012207061054504826, 'subsample': 0.6813762295416116, 'colsample_bytree': 0.6000485429965355, 'reg_alpha': 5.2386192112539714e-08, 'reg_lambda': 2.09347482433302e-08}. Best is trial 54 with value: 0.8069013593586616.\u001b[0m\n",
      "\u001b[32m[I 2023-01-21 18:45:56,188]\u001b[0m Trial 64 finished with value: 0.8013245033112583 and parameters: {'max_depth': 7, 'learning_rate': 0.032288998467233654, 'n_estimators': 139, 'min_child_weight': 2, 'gamma': 0.00469014301882182, 'subsample': 0.4902324699697918, 'colsample_bytree': 0.8432236672756485, 'reg_alpha': 2.9039210952077684e-07, 'reg_lambda': 6.473262282090604e-08}. Best is trial 54 with value: 0.8069013593586616.\u001b[0m\n",
      "\u001b[32m[I 2023-01-21 18:45:56,902]\u001b[0m Trial 65 finished with value: 0.798187521784594 and parameters: {'max_depth': 6, 'learning_rate': 0.04011938126561, 'n_estimators': 165, 'min_child_weight': 4, 'gamma': 0.0005474784182651233, 'subsample': 0.4066535388444157, 'colsample_bytree': 0.7172335674079937, 'reg_alpha': 3.467342941060652e-08, 'reg_lambda': 1.1752838193216281e-08}. Best is trial 54 with value: 0.8069013593586616.\u001b[0m\n",
      "\u001b[32m[I 2023-01-21 18:45:57,665]\u001b[0m Trial 66 finished with value: 0.8006273963053329 and parameters: {'max_depth': 8, 'learning_rate': 0.028041916131314536, 'n_estimators': 113, 'min_child_weight': 3, 'gamma': 0.010525319614798264, 'subsample': 0.8494856206989049, 'colsample_bytree': 0.5979917585077779, 'reg_alpha': 7.40808958345582e-08, 'reg_lambda': 3.170343336808184e-08}. Best is trial 54 with value: 0.8069013593586616.\u001b[0m\n",
      "\u001b[32m[I 2023-01-21 18:45:58,632]\u001b[0m Trial 67 finished with value: 0.7992331822934821 and parameters: {'max_depth': 7, 'learning_rate': 0.06289226463068859, 'n_estimators': 92, 'min_child_weight': 7, 'gamma': 0.0035288685556474956, 'subsample': 0.6159068631890033, 'colsample_bytree': 0.860332244648928, 'reg_alpha': 1.3165101110711868e-07, 'reg_lambda': 7.549303496017801e-08}. Best is trial 54 with value: 0.8069013593586616.\u001b[0m\n",
      "\u001b[32m[I 2023-01-21 18:45:59,912]\u001b[0m Trial 68 finished with value: 0.8023701638201464 and parameters: {'max_depth': 6, 'learning_rate': 0.051457600812072124, 'n_estimators': 161, 'min_child_weight': 2, 'gamma': 0.0022840546170286432, 'subsample': 0.7293440868232626, 'colsample_bytree': 0.5161277043179866, 'reg_alpha': 1.672132256747811e-08, 'reg_lambda': 1.9017003462787848e-08}. Best is trial 54 with value: 0.8069013593586616.\u001b[0m\n",
      "\u001b[32m[I 2023-01-21 18:46:00,757]\u001b[0m Trial 69 finished with value: 0.7995817357964448 and parameters: {'max_depth': 6, 'learning_rate': 0.03567077542629768, 'n_estimators': 164, 'min_child_weight': 1, 'gamma': 0.002028666008623673, 'subsample': 0.9868941140551845, 'colsample_bytree': 0.40932011869897983, 'reg_alpha': 1.7364561794926027e-08, 'reg_lambda': 1.087281523152677e-08}. Best is trial 54 with value: 0.8069013593586616.\u001b[0m\n",
      "\u001b[32m[I 2023-01-21 18:46:01,431]\u001b[0m Trial 70 finished with value: 0.8037643778319972 and parameters: {'max_depth': 5, 'learning_rate': 0.08093161738407671, 'n_estimators': 172, 'min_child_weight': 2, 'gamma': 0.00858367841075987, 'subsample': 0.7317984740210425, 'colsample_bytree': 0.48588841170044106, 'reg_alpha': 2.7794530621864125e-08, 'reg_lambda': 1.0531352352258368e-07}. Best is trial 54 with value: 0.8069013593586616.\u001b[0m\n",
      "\u001b[32m[I 2023-01-21 18:46:03,014]\u001b[0m Trial 71 finished with value: 0.7978389682816313 and parameters: {'max_depth': 5, 'learning_rate': 0.08630907772799824, 'n_estimators': 497, 'min_child_weight': 2, 'gamma': 0.008380556913686131, 'subsample': 0.7482835271568263, 'colsample_bytree': 0.4652112931861361, 'reg_alpha': 3.270727293181209e-08, 'reg_lambda': 1.4514189772519603e-07}. Best is trial 54 with value: 0.8069013593586616.\u001b[0m\n",
      "\u001b[32m[I 2023-01-21 18:46:03,698]\u001b[0m Trial 72 finished with value: 0.8055071453468108 and parameters: {'max_depth': 5, 'learning_rate': 0.05902237500366439, 'n_estimators': 175, 'min_child_weight': 1, 'gamma': 0.005236644059391305, 'subsample': 0.8583413498521523, 'colsample_bytree': 0.5098411599026195, 'reg_alpha': 1.0010390679918537e-08, 'reg_lambda': 2.0619390982787327e-08}. Best is trial 54 with value: 0.8069013593586616.\u001b[0m\n",
      "\u001b[32m[I 2023-01-21 18:46:04,454]\u001b[0m Trial 73 finished with value: 0.8013245033112583 and parameters: {'max_depth': 5, 'learning_rate': 0.07781807791070817, 'n_estimators': 179, 'min_child_weight': 1, 'gamma': 0.004663668060471367, 'subsample': 0.8767149267272258, 'colsample_bytree': 0.5208046201391366, 'reg_alpha': 1.8149880883359598e-08, 'reg_lambda': 1.910598235351905e-08}. Best is trial 54 with value: 0.8069013593586616.\u001b[0m\n",
      "\u001b[32m[I 2023-01-21 18:46:05,388]\u001b[0m Trial 74 finished with value: 0.8020216103171837 and parameters: {'max_depth': 5, 'learning_rate': 0.09844389553470603, 'n_estimators': 194, 'min_child_weight': 1, 'gamma': 0.019014254700192065, 'subsample': 0.865995318500477, 'colsample_bytree': 0.7088011097627445, 'reg_alpha': 1.3895913334477812e-08, 'reg_lambda': 8.778643948854009e-08}. Best is trial 54 with value: 0.8069013593586616.\u001b[0m\n",
      "\u001b[32m[I 2023-01-21 18:46:06,640]\u001b[0m Trial 75 finished with value: 0.7967933077727432 and parameters: {'max_depth': 6, 'learning_rate': 0.06235379891536483, 'n_estimators': 146, 'min_child_weight': 2, 'gamma': 0.009019639445432496, 'subsample': 0.7523642437287114, 'colsample_bytree': 0.3708323742245391, 'reg_alpha': 2.8404380689492637e-08, 'reg_lambda': 2.1574704043639307e-08}. Best is trial 54 with value: 0.8069013593586616.\u001b[0m\n"
     ]
    },
    {
     "name": "stderr",
     "output_type": "stream",
     "text": [
      "\u001b[32m[I 2023-01-21 18:46:07,335]\u001b[0m Trial 76 finished with value: 0.7995817357964448 and parameters: {'max_depth': 5, 'learning_rate': 0.08189074633303679, 'n_estimators': 164, 'min_child_weight': 1, 'gamma': 0.004693430433022183, 'subsample': 0.699506081874361, 'colsample_bytree': 0.2904558036722622, 'reg_alpha': 1.034076993025966e-08, 'reg_lambda': 2.3821491810577905e-07}. Best is trial 54 with value: 0.8069013593586616.\u001b[0m\n",
      "\u001b[32m[I 2023-01-21 18:46:08,264]\u001b[0m Trial 77 finished with value: 0.8027187173231091 and parameters: {'max_depth': 5, 'learning_rate': 0.05274558158193164, 'n_estimators': 205, 'min_child_weight': 2, 'gamma': 0.0007192072629086895, 'subsample': 0.49825566123443016, 'colsample_bytree': 0.5463425134104075, 'reg_alpha': 4.963434374153189e-08, 'reg_lambda': 4.8714505737173734e-08}. Best is trial 54 with value: 0.8069013593586616.\u001b[0m\n",
      "\u001b[32m[I 2023-01-21 18:46:09,438]\u001b[0m Trial 78 finished with value: 0.8030672708260718 and parameters: {'max_depth': 5, 'learning_rate': 0.06660360892751477, 'n_estimators': 208, 'min_child_weight': 1, 'gamma': 0.000736824032788829, 'subsample': 0.5058891963957856, 'colsample_bytree': 0.7040190502894481, 'reg_alpha': 5.63183511422916e-08, 'reg_lambda': 5.230604980799112e-08}. Best is trial 54 with value: 0.8069013593586616.\u001b[0m\n",
      "\u001b[32m[I 2023-01-21 18:46:10,319]\u001b[0m Trial 79 finished with value: 0.807598466364587 and parameters: {'max_depth': 5, 'learning_rate': 0.06556832136713336, 'n_estimators': 205, 'min_child_weight': 2, 'gamma': 0.0008278106771512973, 'subsample': 0.49262948234295867, 'colsample_bytree': 0.6947476078875474, 'reg_alpha': 2.331422847464891e-07, 'reg_lambda': 1.1406833456728475e-07}. Best is trial 79 with value: 0.807598466364587.\u001b[0m\n",
      "\u001b[32m[I 2023-01-21 18:46:11,195]\u001b[0m Trial 80 finished with value: 0.8055071453468108 and parameters: {'max_depth': 5, 'learning_rate': 0.06655503660568039, 'n_estimators': 226, 'min_child_weight': 1, 'gamma': 0.01397039394786357, 'subsample': 0.4391969970501754, 'colsample_bytree': 0.40131466693300905, 'reg_alpha': 1.403346552286599e-07, 'reg_lambda': 1.1888844123132763e-07}. Best is trial 79 with value: 0.807598466364587.\u001b[0m\n",
      "\u001b[32m[I 2023-01-21 18:46:12,351]\u001b[0m Trial 81 finished with value: 0.8002788428023702 and parameters: {'max_depth': 5, 'learning_rate': 0.0666443604901816, 'n_estimators': 226, 'min_child_weight': 1, 'gamma': 0.030562823373951862, 'subsample': 0.39998281403910435, 'colsample_bytree': 0.6761749863706435, 'reg_alpha': 2.389757289479799e-07, 'reg_lambda': 2.815192067772014e-07}. Best is trial 79 with value: 0.807598466364587.\u001b[0m\n",
      "\u001b[32m[I 2023-01-21 18:46:13,017]\u001b[0m Trial 82 finished with value: 0.8006273963053329 and parameters: {'max_depth': 4, 'learning_rate': 0.0697631815459569, 'n_estimators': 188, 'min_child_weight': 1, 'gamma': 0.01530359483177838, 'subsample': 0.44026841532171596, 'colsample_bytree': 0.39928354031495567, 'reg_alpha': 1.5235203183751128e-07, 'reg_lambda': 1.2110010693812396e-07}. Best is trial 79 with value: 0.807598466364587.\u001b[0m\n",
      "\u001b[32m[I 2023-01-21 18:46:13,643]\u001b[0m Trial 83 finished with value: 0.8023701638201464 and parameters: {'max_depth': 5, 'learning_rate': 0.09619315253397716, 'n_estimators': 173, 'min_child_weight': 2, 'gamma': 0.007295508807844887, 'subsample': 0.3603771369281009, 'colsample_bytree': 0.46900824011892894, 'reg_alpha': 2.9815442143002675e-08, 'reg_lambda': 1.0060189534700103e-07}. Best is trial 79 with value: 0.807598466364587.\u001b[0m\n",
      "\u001b[32m[I 2023-01-21 18:46:14,764]\u001b[0m Trial 84 finished with value: 0.801673056814221 and parameters: {'max_depth': 5, 'learning_rate': 0.0852180770512223, 'n_estimators': 204, 'min_child_weight': 1, 'gamma': 0.0037712088628333415, 'subsample': 0.496435118675422, 'colsample_bytree': 0.5555090345777155, 'reg_alpha': 3.6058598009676457e-07, 'reg_lambda': 1.8615776745908767e-07}. Best is trial 79 with value: 0.807598466364587.\u001b[0m\n",
      "\u001b[32m[I 2023-01-21 18:46:15,630]\u001b[0m Trial 85 finished with value: 0.8044614848379226 and parameters: {'max_depth': 4, 'learning_rate': 0.07660721538062597, 'n_estimators': 256, 'min_child_weight': 2, 'gamma': 0.021726993019139985, 'subsample': 0.8937693567498022, 'colsample_bytree': 0.6760060894482556, 'reg_alpha': 2.061784673269122e-07, 'reg_lambda': 5.96065174474571e-08}. Best is trial 79 with value: 0.807598466364587.\u001b[0m\n",
      "\u001b[32m[I 2023-01-21 18:46:16,556]\u001b[0m Trial 86 finished with value: 0.8034158243290345 and parameters: {'max_depth': 4, 'learning_rate': 0.11803395831809217, 'n_estimators': 266, 'min_child_weight': 2, 'gamma': 0.07631256287860588, 'subsample': 0.6535246983570392, 'colsample_bytree': 0.6753172174739217, 'reg_alpha': 4.66690651250296e-08, 'reg_lambda': 5.462682654742375e-08}. Best is trial 79 with value: 0.807598466364587.\u001b[0m\n",
      "\u001b[32m[I 2023-01-21 18:46:17,495]\u001b[0m Trial 87 finished with value: 0.801673056814221 and parameters: {'max_depth': 4, 'learning_rate': 0.11671896041349618, 'n_estimators': 251, 'min_child_weight': 1, 'gamma': 0.053308468342136, 'subsample': 0.9103334808941254, 'colsample_bytree': 0.320981220924266, 'reg_alpha': 1.8188164427047188e-07, 'reg_lambda': 5.5692496661987244e-08}. Best is trial 79 with value: 0.807598466364587.\u001b[0m\n",
      "\u001b[32m[I 2023-01-21 18:46:18,244]\u001b[0m Trial 88 finished with value: 0.7988846287905194 and parameters: {'max_depth': 4, 'learning_rate': 0.07467934796980917, 'n_estimators': 229, 'min_child_weight': 2, 'gamma': 0.09119879328542835, 'subsample': 0.45505111073640947, 'colsample_bytree': 0.43411116610478595, 'reg_alpha': 2.0943808515950893e-08, 'reg_lambda': 7.675619168966466e-08}. Best is trial 79 with value: 0.807598466364587.\u001b[0m\n",
      "\u001b[32m[I 2023-01-21 18:46:19,163]\u001b[0m Trial 89 finished with value: 0.8044614848379226 and parameters: {'max_depth': 4, 'learning_rate': 0.10209487667683706, 'n_estimators': 262, 'min_child_weight': 2, 'gamma': 0.031206203358426384, 'subsample': 0.6597337899894996, 'colsample_bytree': 0.4925650548710239, 'reg_alpha': 6.055030468172951e-07, 'reg_lambda': 2.8848525573507224e-07}. Best is trial 79 with value: 0.807598466364587.\u001b[0m\n",
      "\u001b[32m[I 2023-01-21 18:46:20,366]\u001b[0m Trial 90 finished with value: 0.7967933077727432 and parameters: {'max_depth': 4, 'learning_rate': 0.13515977588266068, 'n_estimators': 283, 'min_child_weight': 2, 'gamma': 0.03076254488206303, 'subsample': 0.3270933849394175, 'colsample_bytree': 0.38295776392703734, 'reg_alpha': 7.473531033129748e-07, 'reg_lambda': 3.0060763156532077e-07}. Best is trial 79 with value: 0.807598466364587.\u001b[0m\n",
      "\u001b[32m[I 2023-01-21 18:46:21,501]\u001b[0m Trial 91 finished with value: 0.7992331822934821 and parameters: {'max_depth': 4, 'learning_rate': 0.10256701227928061, 'n_estimators': 262, 'min_child_weight': 1, 'gamma': 0.02307746660831047, 'subsample': 0.6480273134750206, 'colsample_bytree': 0.6707444953873527, 'reg_alpha': 4.455157522622698e-07, 'reg_lambda': 4.155273164195357e-08}. Best is trial 79 with value: 0.807598466364587.\u001b[0m\n",
      "\u001b[32m[I 2023-01-21 18:46:22,375]\u001b[0m Trial 92 finished with value: 0.8034158243290345 and parameters: {'max_depth': 4, 'learning_rate': 0.09084182680508983, 'n_estimators': 238, 'min_child_weight': 2, 'gamma': 0.01167730325268389, 'subsample': 0.7774974149047934, 'colsample_bytree': 0.5765399304783383, 'reg_alpha': 5.64553810405603e-08, 'reg_lambda': 1.1478595359944446e-07}. Best is trial 79 with value: 0.807598466364587.\u001b[0m\n",
      "\u001b[32m[I 2023-01-21 18:46:23,222]\u001b[0m Trial 93 finished with value: 0.8020216103171837 and parameters: {'max_depth': 4, 'learning_rate': 0.09131978934691223, 'n_estimators': 235, 'min_child_weight': 2, 'gamma': 0.015004774602914389, 'subsample': 0.7682897800087928, 'colsample_bytree': 0.47955000642367795, 'reg_alpha': 2.4430542402558867e-07, 'reg_lambda': 1.173089896682445e-07}. Best is trial 79 with value: 0.807598466364587.\u001b[0m\n",
      "\u001b[32m[I 2023-01-21 18:46:23,965]\u001b[0m Trial 94 finished with value: 0.7988846287905194 and parameters: {'max_depth': 3, 'learning_rate': 0.1206705859281984, 'n_estimators': 246, 'min_child_weight': 2, 'gamma': 0.06098849659457272, 'subsample': 0.939153466137, 'colsample_bytree': 0.5719521047950501, 'reg_alpha': 1.3344467795806825e-07, 'reg_lambda': 3.091215828708718e-08}. Best is trial 79 with value: 0.807598466364587.\u001b[0m\n"
     ]
    },
    {
     "name": "stderr",
     "output_type": "stream",
     "text": [
      "\u001b[32m[I 2023-01-21 18:46:24,684]\u001b[0m Trial 95 finished with value: 0.7985360752875567 and parameters: {'max_depth': 4, 'learning_rate': 0.108827672019563, 'n_estimators': 218, 'min_child_weight': 2, 'gamma': 0.010478447272456958, 'subsample': 0.9928487360070729, 'colsample_bytree': 0.34766423918052486, 'reg_alpha': 3.918629932230383e-08, 'reg_lambda': 1.883410718656707e-07}. Best is trial 79 with value: 0.807598466364587.\u001b[0m\n",
      "\u001b[32m[I 2023-01-21 18:46:25,516]\u001b[0m Trial 96 finished with value: 0.8041129313349599 and parameters: {'max_depth': 4, 'learning_rate': 0.07967969471756363, 'n_estimators': 260, 'min_child_weight': 2, 'gamma': 0.020372897831692233, 'subsample': 0.6520199649335193, 'colsample_bytree': 0.4977762541921177, 'reg_alpha': 2.7138786573265146e-08, 'reg_lambda': 8.392063556112807e-08}. Best is trial 79 with value: 0.807598466364587.\u001b[0m\n",
      "\u001b[32m[I 2023-01-21 18:46:26,326]\u001b[0m Trial 97 finished with value: 0.8020216103171837 and parameters: {'max_depth': 4, 'learning_rate': 0.09529920844910925, 'n_estimators': 256, 'min_child_weight': 2, 'gamma': 0.022586262245881547, 'subsample': 0.6607177930378431, 'colsample_bytree': 0.4975626089947767, 'reg_alpha': 5.558909722402258e-07, 'reg_lambda': 3.761071116094385e-07}. Best is trial 79 with value: 0.807598466364587.\u001b[0m\n",
      "\u001b[32m[I 2023-01-21 18:46:27,108]\u001b[0m Trial 98 finished with value: 0.7978389682816313 and parameters: {'max_depth': 3, 'learning_rate': 0.08030839459488906, 'n_estimators': 288, 'min_child_weight': 2, 'gamma': 0.15929696333334745, 'subsample': 0.7742322356304454, 'colsample_bytree': 0.6330588942578084, 'reg_alpha': 2.6144567277573636e-07, 'reg_lambda': 7.903351610216608e-08}. Best is trial 79 with value: 0.807598466364587.\u001b[0m\n",
      "\u001b[32m[I 2023-01-21 18:46:27,867]\u001b[0m Trial 99 finished with value: 0.8023701638201464 and parameters: {'max_depth': 4, 'learning_rate': 0.13805460840136788, 'n_estimators': 238, 'min_child_weight': 3, 'gamma': 0.04216262923515976, 'subsample': 0.5405675659383236, 'colsample_bytree': 0.5652251448300113, 'reg_alpha': 1.100281378306543e-06, 'reg_lambda': 6.225706545760291e-07}. Best is trial 79 with value: 0.807598466364587.\u001b[0m\n"
     ]
    },
    {
     "name": "stdout",
     "output_type": "stream",
     "text": [
      "Number of finished trials: 100\n",
      "Best trial:\n",
      "  Value: 0.807598466364587\n",
      "  Params: \n",
      "    max_depth: 5\n",
      "    learning_rate: 0.06556832136713336\n",
      "    n_estimators: 205\n",
      "    min_child_weight: 2\n",
      "    gamma: 0.0008278106771512973\n",
      "    subsample: 0.49262948234295867\n",
      "    colsample_bytree: 0.6947476078875474\n",
      "    reg_alpha: 2.331422847464891e-07\n",
      "    reg_lambda: 1.1406833456728475e-07\n"
     ]
    }
   ],
   "source": [
    "#OPTUNA pour XGBoost\n",
    "!pip install optuna\n",
    "import optuna\n",
    "import warnings\n",
    "warnings.filterwarnings('ignore')\n",
    "\n",
    "\n",
    "\n",
    "def objective(trial):\n",
    "    \n",
    "    params = {\n",
    "        'max_depth': trial.suggest_int('max_depth', 1, 9),\n",
    "        'learning_rate': trial.suggest_loguniform('learning_rate', 0.01, 1.0),\n",
    "        'n_estimators': trial.suggest_int('n_estimators', 50, 500),\n",
    "        'min_child_weight': trial.suggest_int('min_child_weight', 1, 10),\n",
    "        'gamma': trial.suggest_loguniform('gamma', 1e-8, 1.0),\n",
    "        'subsample': trial.suggest_loguniform('subsample', 0.01, 1.0),\n",
    "        'colsample_bytree': trial.suggest_loguniform('colsample_bytree', 0.01, 1.0),\n",
    "        'reg_alpha': trial.suggest_loguniform('reg_alpha', 1e-8, 1.0),\n",
    "        'reg_lambda': trial.suggest_loguniform('reg_lambda', 1e-8, 1.0),\n",
    "        'eval_metric': 'mlogloss',\n",
    "        'use_label_encoder': False\n",
    "    }\n",
    "\n",
    "    # Fit the model\n",
    "    optuna_model = xgb.XGBClassifier(**params)\n",
    "    optuna_model.fit(X_train_split, Y_train_split)\n",
    "\n",
    "    # Make predictions\n",
    "    y_pred = optuna_model.predict(X_val)\n",
    "\n",
    "    # Evaluate predictions\n",
    "    accuracy = accuracy_score(Y_val, y_pred)\n",
    "    return accuracy\n",
    "\n",
    "study = optuna.create_study(direction='maximize')\n",
    "study.optimize(objective, n_trials=100)\n",
    "\n",
    "print('Number of finished trials: {}'.format(len(study.trials)))\n",
    "print('Best trial:')\n",
    "trial = study.best_trial\n",
    "\n",
    "print('  Value: {}'.format(trial.value))\n",
    "print('  Params: ')\n",
    "\n",
    "for key, value in trial.params.items():\n",
    "    print('    {}: {}'.format(key, value))\n",
    "    \n",
    "\n"
   ]
  },
  {
   "cell_type": "code",
   "execution_count": 31,
   "id": "8c7f1442",
   "metadata": {},
   "outputs": [
    {
     "name": "stdout",
     "output_type": "stream",
     "text": [
      "modele XG: accuraccy sur train set: 0.8495879120879121\n",
      "modele XG: accuraccy sur validation set: 0.807598466364587\n",
      "\n",
      " modele XG: precision, recall, et f1 scores class 1: sur validation set: \n",
      " 0.7900990099009901 \n",
      " 0.8364779874213837 \n",
      " 0.8126272912423625\n",
      "\n",
      " modele XG: precision, recall, et f1 scores class 0: sur validation set \n",
      " 0.827178729689808 \n",
      " 0.7788595271210014 \n",
      " 0.8022922636103152\n"
     ]
    },
    {
     "data": {
      "image/png": "[encoded data removed]",
      "text/plain": [
       "<Figure size 720x720 with 1 Axes>"
      ]
     },
     "metadata": {
      "needs_background": "light"
     },
     "output_type": "display_data"
    },
    {
     "name": "stdout",
     "output_type": "stream",
     "text": [
      "% de transported: 0.5274725274725275\n",
      "prediction des 10 premières étiquettes de X_test [1 0 1 1 1 0 1 1 1 1]\n"
     ]
    }
   ],
   "source": [
    "    \n",
    "#classifieur avec les hyperparamètres optimaux\n",
    "params=trial.params\n",
    "# bst = xgb.XGBClassifier(max_depth=5, learning_rate=0.1802910551017453, n_estimators=132, \n",
    "#                         min_child_weight=9, gamma=1.0039068601817166e-05, subsample=0.6290480238027396, \n",
    "#                         colsample_bytree=0.603299870101957, reg_alpha=1.5582521124885588e-06, reg_lambda=0.00113833286567642).fit(X_train_split,Y_train_split) \n",
    "bst = xgb.XGBClassifier(**params).fit(X_train_split,Y_train_split) \n",
    "Yhat_train = bst.predict(X_train_split)\n",
    "Yhat_val=bst.predict(X_val)\n",
    "print(\"modele XG: accuraccy sur train set:\", accuracy_score(Y_train_split, Yhat_train))\n",
    "print(\"modele XG: accuraccy sur validation set:\", accuracy_score(Y_val, Yhat_val))\n",
    "print(\"\\n modele XG: precision, recall, et f1 scores class 1: sur validation set:\", \"\\n\", \n",
    "      precision_score(Y_val, Yhat_val), \"\\n\", recall_score(Y_val, Yhat_val), \"\\n\", f1_score(Y_val, Yhat_val))\n",
    "print(\"\\n modele XG: precision, recall, et f1 scores class 0: sur validation set\", \"\\n\", \n",
    "       precision_score(Y_val, Yhat_val, pos_label=0), \"\\n\", recall_score(Y_val, Yhat_val, pos_label=0), \n",
    "       \"\\n\", f1_score(Y_val, Yhat_val, pos_label=0))\n",
    "#Analyse de l'importance des features \n",
    "fig, ax = plt.subplots(figsize=(10,10))\n",
    "xgb.plot_importance(bst, ax=ax,importance_type='gain')\n",
    "plt.show()\n",
    "\n",
    "#Prédire l'étiquette du set de test\n",
    "Yhat_realtest=bst.predict(X_test)\n",
    "print(\"% de transported:\", (np.where(Yhat_realtest==1, 1, 0).sum())/len(Yhat_realtest))\n",
    "print(\"prediction des 10 premières étiquettes de X_test\", Yhat_realtest[0:10])\n"
   ]
  },
  {
   "cell_type": "markdown",
   "id": "c7fbb9eb",
   "metadata": {},
   "source": [
    "Avec nos deux classifieurs sélectionnés on prédit 51-52% de personnes \"transported\" dans les données test. On observe que la variable Cryosleep est importante (feature importance) pour la prédiciton dans les  modèles, conformément à ce qu'on avait pu observer précédemment."
   ]
  },
  {
   "cell_type": "code",
   "execution_count": null,
   "id": "f46f5077",
   "metadata": {},
   "outputs": [],
   "source": []
  }
 ],
 "metadata": {
  "kernelspec": {
   "display_name": "Python 3 (ipykernel)",
   "language": "python",
   "name": "python3"
  },
  "language_info": {
   "codemirror_mode": {
    "name": "ipython",
    "version": 3
   },
   "file_extension": ".py",
   "mimetype": "text/x-python",
   "name": "python",
   "nbconvert_exporter": "python",
   "pygments_lexer": "ipython3",
   "version": "3.9.12"
  }
 },
 "nbformat": 4,
 "nbformat_minor": 5
}
