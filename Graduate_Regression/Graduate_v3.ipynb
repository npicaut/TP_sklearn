{
 "cells": [
  {
   "cell_type": "markdown",
   "id": "d4eacba2",
   "metadata": {},
   "source": [
    "# Objectif"
   ]
  },
  {
   "cell_type": "markdown",
   "id": "42143654",
   "metadata": {},
   "source": [
    "Prédire les chances d'admission d'étudiants (y compris entre 0 et 1) en fonction de paramètres (GRE Scores GRE (sur 340), score TOEFL (sur 120), note en université (sur 5), force de la déclaration d'intention (sur 5) et  force de la lettre de recommandation (sur 5), GPA, Experience en recherche (0 ou 1)"
   ]
  },
  {
   "cell_type": "markdown",
   "id": "2239086d",
   "metadata": {},
   "source": [
    "# Chargement des données "
   ]
  },
  {
   "cell_type": "code",
   "execution_count": 1,
   "id": "9ba77abc",
   "metadata": {},
   "outputs": [],
   "source": [
    "import pandas as pd\n",
    "import numpy as np\n",
    "import matplotlib.pyplot as plt\n",
    "\n",
    "data0 = pd.read_csv(\"./Admission_Predict.csv\", sep=',')\n",
    "# realtest= pd.read_csv(\"./Admission_Predict_Ver1.1.csv\", sep=',')\n"
   ]
  },
  {
   "cell_type": "markdown",
   "id": "219e8d9f",
   "metadata": {},
   "source": [
    "# Observation des données"
   ]
  },
  {
   "cell_type": "code",
   "execution_count": 2,
   "id": "9bd3d25a",
   "metadata": {},
   "outputs": [
    {
     "name": "stdout",
     "output_type": "stream",
     "text": [
      "<class 'pandas.core.frame.DataFrame'>\n"
     ]
    },
    {
     "data": {
      "text/html": [
       "<div>\n",
       "<style scoped>\n",
       "    .dataframe tbody tr th:only-of-type {\n",
       "        vertical-align: middle;\n",
       "    }\n",
       "\n",
       "    .dataframe tbody tr th {\n",
       "        vertical-align: top;\n",
       "    }\n",
       "\n",
       "    .dataframe thead th {\n",
       "        text-align: right;\n",
       "    }\n",
       "</style>\n",
       "<table border=\"1\" class=\"dataframe\">\n",
       "  <thead>\n",
       "    <tr style=\"text-align: right;\">\n",
       "      <th></th>\n",
       "      <th>No</th>\n",
       "      <th>GRE</th>\n",
       "      <th>TOEFL</th>\n",
       "      <th>Univ</th>\n",
       "      <th>SOP</th>\n",
       "      <th>LOR</th>\n",
       "      <th>CGPA</th>\n",
       "      <th>Research</th>\n",
       "      <th>Chance_Admit</th>\n",
       "    </tr>\n",
       "  </thead>\n",
       "  <tbody>\n",
       "    <tr>\n",
       "      <th>0</th>\n",
       "      <td>1</td>\n",
       "      <td>337</td>\n",
       "      <td>118</td>\n",
       "      <td>4</td>\n",
       "      <td>4.5</td>\n",
       "      <td>4.5</td>\n",
       "      <td>9.65</td>\n",
       "      <td>1</td>\n",
       "      <td>0.92</td>\n",
       "    </tr>\n",
       "    <tr>\n",
       "      <th>1</th>\n",
       "      <td>2</td>\n",
       "      <td>324</td>\n",
       "      <td>107</td>\n",
       "      <td>4</td>\n",
       "      <td>4.0</td>\n",
       "      <td>4.5</td>\n",
       "      <td>8.87</td>\n",
       "      <td>1</td>\n",
       "      <td>0.76</td>\n",
       "    </tr>\n",
       "    <tr>\n",
       "      <th>2</th>\n",
       "      <td>3</td>\n",
       "      <td>316</td>\n",
       "      <td>104</td>\n",
       "      <td>3</td>\n",
       "      <td>3.0</td>\n",
       "      <td>3.5</td>\n",
       "      <td>8.00</td>\n",
       "      <td>1</td>\n",
       "      <td>0.72</td>\n",
       "    </tr>\n",
       "    <tr>\n",
       "      <th>3</th>\n",
       "      <td>4</td>\n",
       "      <td>322</td>\n",
       "      <td>110</td>\n",
       "      <td>3</td>\n",
       "      <td>3.5</td>\n",
       "      <td>2.5</td>\n",
       "      <td>8.67</td>\n",
       "      <td>1</td>\n",
       "      <td>0.80</td>\n",
       "    </tr>\n",
       "    <tr>\n",
       "      <th>4</th>\n",
       "      <td>5</td>\n",
       "      <td>314</td>\n",
       "      <td>103</td>\n",
       "      <td>2</td>\n",
       "      <td>2.0</td>\n",
       "      <td>3.0</td>\n",
       "      <td>8.21</td>\n",
       "      <td>0</td>\n",
       "      <td>0.65</td>\n",
       "    </tr>\n",
       "  </tbody>\n",
       "</table>\n",
       "</div>"
      ],
      "text/plain": [
       "   No  GRE  TOEFL  Univ  SOP  LOR   CGPA  Research  Chance_Admit\n",
       "0   1  337    118     4  4.5   4.5  9.65         1          0.92\n",
       "1   2  324    107     4  4.0   4.5  8.87         1          0.76\n",
       "2   3  316    104     3  3.0   3.5  8.00         1          0.72\n",
       "3   4  322    110     3  3.5   2.5  8.67         1          0.80\n",
       "4   5  314    103     2  2.0   3.0  8.21         0          0.65"
      ]
     },
     "execution_count": 2,
     "metadata": {},
     "output_type": "execute_result"
    }
   ],
   "source": [
    "print(type(data0))     \n",
    "data0.head()\n",
    "data=data0.rename(columns={\"Serial No.\": \"No\", \"GRE Score\": \"GRE\", \"TOEFL Score\":\"TOEFL\", \"University Rating\": \"Univ\", \"Chance of Admit \": \"Chance_Admit\"})\n",
    "data.head()"
   ]
  },
  {
   "cell_type": "code",
   "execution_count": 3,
   "id": "194fbeb1",
   "metadata": {},
   "outputs": [
    {
     "data": {
      "text/html": [
       "<div>\n",
       "<style scoped>\n",
       "    .dataframe tbody tr th:only-of-type {\n",
       "        vertical-align: middle;\n",
       "    }\n",
       "\n",
       "    .dataframe tbody tr th {\n",
       "        vertical-align: top;\n",
       "    }\n",
       "\n",
       "    .dataframe thead th {\n",
       "        text-align: right;\n",
       "    }\n",
       "</style>\n",
       "<table border=\"1\" class=\"dataframe\">\n",
       "  <thead>\n",
       "    <tr style=\"text-align: right;\">\n",
       "      <th></th>\n",
       "      <th>No</th>\n",
       "      <th>GRE</th>\n",
       "      <th>TOEFL</th>\n",
       "      <th>Univ</th>\n",
       "      <th>SOP</th>\n",
       "      <th>LOR</th>\n",
       "      <th>CGPA</th>\n",
       "      <th>Research</th>\n",
       "      <th>Chance_Admit</th>\n",
       "    </tr>\n",
       "  </thead>\n",
       "  <tbody>\n",
       "    <tr>\n",
       "      <th>count</th>\n",
       "      <td>400.000000</td>\n",
       "      <td>400.000000</td>\n",
       "      <td>400.000000</td>\n",
       "      <td>400.000000</td>\n",
       "      <td>400.000000</td>\n",
       "      <td>400.000000</td>\n",
       "      <td>400.000000</td>\n",
       "      <td>400.000000</td>\n",
       "      <td>400.000000</td>\n",
       "    </tr>\n",
       "    <tr>\n",
       "      <th>mean</th>\n",
       "      <td>200.500000</td>\n",
       "      <td>316.807500</td>\n",
       "      <td>107.410000</td>\n",
       "      <td>3.087500</td>\n",
       "      <td>3.400000</td>\n",
       "      <td>3.452500</td>\n",
       "      <td>8.598925</td>\n",
       "      <td>0.547500</td>\n",
       "      <td>0.724350</td>\n",
       "    </tr>\n",
       "    <tr>\n",
       "      <th>std</th>\n",
       "      <td>115.614301</td>\n",
       "      <td>11.473646</td>\n",
       "      <td>6.069514</td>\n",
       "      <td>1.143728</td>\n",
       "      <td>1.006869</td>\n",
       "      <td>0.898478</td>\n",
       "      <td>0.596317</td>\n",
       "      <td>0.498362</td>\n",
       "      <td>0.142609</td>\n",
       "    </tr>\n",
       "    <tr>\n",
       "      <th>min</th>\n",
       "      <td>1.000000</td>\n",
       "      <td>290.000000</td>\n",
       "      <td>92.000000</td>\n",
       "      <td>1.000000</td>\n",
       "      <td>1.000000</td>\n",
       "      <td>1.000000</td>\n",
       "      <td>6.800000</td>\n",
       "      <td>0.000000</td>\n",
       "      <td>0.340000</td>\n",
       "    </tr>\n",
       "    <tr>\n",
       "      <th>25%</th>\n",
       "      <td>100.750000</td>\n",
       "      <td>308.000000</td>\n",
       "      <td>103.000000</td>\n",
       "      <td>2.000000</td>\n",
       "      <td>2.500000</td>\n",
       "      <td>3.000000</td>\n",
       "      <td>8.170000</td>\n",
       "      <td>0.000000</td>\n",
       "      <td>0.640000</td>\n",
       "    </tr>\n",
       "    <tr>\n",
       "      <th>50%</th>\n",
       "      <td>200.500000</td>\n",
       "      <td>317.000000</td>\n",
       "      <td>107.000000</td>\n",
       "      <td>3.000000</td>\n",
       "      <td>3.500000</td>\n",
       "      <td>3.500000</td>\n",
       "      <td>8.610000</td>\n",
       "      <td>1.000000</td>\n",
       "      <td>0.730000</td>\n",
       "    </tr>\n",
       "    <tr>\n",
       "      <th>75%</th>\n",
       "      <td>300.250000</td>\n",
       "      <td>325.000000</td>\n",
       "      <td>112.000000</td>\n",
       "      <td>4.000000</td>\n",
       "      <td>4.000000</td>\n",
       "      <td>4.000000</td>\n",
       "      <td>9.062500</td>\n",
       "      <td>1.000000</td>\n",
       "      <td>0.830000</td>\n",
       "    </tr>\n",
       "    <tr>\n",
       "      <th>max</th>\n",
       "      <td>400.000000</td>\n",
       "      <td>340.000000</td>\n",
       "      <td>120.000000</td>\n",
       "      <td>5.000000</td>\n",
       "      <td>5.000000</td>\n",
       "      <td>5.000000</td>\n",
       "      <td>9.920000</td>\n",
       "      <td>1.000000</td>\n",
       "      <td>0.970000</td>\n",
       "    </tr>\n",
       "  </tbody>\n",
       "</table>\n",
       "</div>"
      ],
      "text/plain": [
       "               No         GRE       TOEFL        Univ         SOP        LOR   \\\n",
       "count  400.000000  400.000000  400.000000  400.000000  400.000000  400.000000   \n",
       "mean   200.500000  316.807500  107.410000    3.087500    3.400000    3.452500   \n",
       "std    115.614301   11.473646    6.069514    1.143728    1.006869    0.898478   \n",
       "min      1.000000  290.000000   92.000000    1.000000    1.000000    1.000000   \n",
       "25%    100.750000  308.000000  103.000000    2.000000    2.500000    3.000000   \n",
       "50%    200.500000  317.000000  107.000000    3.000000    3.500000    3.500000   \n",
       "75%    300.250000  325.000000  112.000000    4.000000    4.000000    4.000000   \n",
       "max    400.000000  340.000000  120.000000    5.000000    5.000000    5.000000   \n",
       "\n",
       "             CGPA    Research  Chance_Admit  \n",
       "count  400.000000  400.000000    400.000000  \n",
       "mean     8.598925    0.547500      0.724350  \n",
       "std      0.596317    0.498362      0.142609  \n",
       "min      6.800000    0.000000      0.340000  \n",
       "25%      8.170000    0.000000      0.640000  \n",
       "50%      8.610000    1.000000      0.730000  \n",
       "75%      9.062500    1.000000      0.830000  \n",
       "max      9.920000    1.000000      0.970000  "
      ]
     },
     "execution_count": 3,
     "metadata": {},
     "output_type": "execute_result"
    }
   ],
   "source": [
    "data.describe()"
   ]
  },
  {
   "cell_type": "code",
   "execution_count": 4,
   "id": "de6a7c76",
   "metadata": {},
   "outputs": [
    {
     "name": "stdout",
     "output_type": "stream",
     "text": [
      "(400, 9)\n",
      "<class 'pandas.core.frame.DataFrame'>\n",
      "RangeIndex: 400 entries, 0 to 399\n",
      "Data columns (total 9 columns):\n",
      " #   Column        Non-Null Count  Dtype  \n",
      "---  ------        --------------  -----  \n",
      " 0   No            400 non-null    float64\n",
      " 1   GRE           400 non-null    float64\n",
      " 2   TOEFL         400 non-null    float64\n",
      " 3   Univ          400 non-null    float64\n",
      " 4   SOP           400 non-null    float64\n",
      " 5   LOR           400 non-null    float64\n",
      " 6   CGPA          400 non-null    float64\n",
      " 7   Research      400 non-null    float64\n",
      " 8   Chance_Admit  400 non-null    float64\n",
      "dtypes: float64(9)\n",
      "memory usage: 28.2 KB\n"
     ]
    }
   ],
   "source": [
    "print(data.shape)\n",
    "for i in data.columns:\n",
    "    data[i]=data[i].astype(np.float64)\n",
    "data.info()"
   ]
  },
  {
   "cell_type": "code",
   "execution_count": 5,
   "id": "d9cc8feb",
   "metadata": {},
   "outputs": [
    {
     "name": "stdout",
     "output_type": "stream",
     "text": [
      "donnees manquantes dans le train set: No              0\n",
      "GRE             0\n",
      "TOEFL           0\n",
      "Univ            0\n",
      "SOP             0\n",
      "LOR             0\n",
      "CGPA            0\n",
      "Research        0\n",
      "Chance_Admit    0\n",
      "dtype: int64\n"
     ]
    }
   ],
   "source": [
    "#Nombre de valeurs manquantes\n",
    "print(\"donnees manquantes dans le train set:\", data.isnull().sum())"
   ]
  },
  {
   "cell_type": "markdown",
   "id": "2b1e70f1",
   "metadata": {},
   "source": [
    "Il n'y a pas de valeurs manquantes dans le training set. "
   ]
  },
  {
   "cell_type": "code",
   "execution_count": 6,
   "id": "d258c6df",
   "metadata": {},
   "outputs": [
    {
     "data": {
      "image/png": "[encoded data removed]",
      "text/plain": [
       "<Figure size 432x288 with 2 Axes>"
      ]
     },
     "metadata": {
      "needs_background": "light"
     },
     "output_type": "display_data"
    }
   ],
   "source": [
    "data2=data.drop(columns=[\"No\"])\n",
    "corr_matrix=data2.corr()\n",
    "import seaborn as sn\n",
    "import matplotlib.pyplot as plt\n",
    "sn.heatmap(corr_matrix, annot=True)\n",
    "plt.show()"
   ]
  },
  {
   "cell_type": "code",
   "execution_count": 7,
   "id": "af89b25c",
   "metadata": {},
   "outputs": [
    {
     "name": "stdout",
     "output_type": "stream",
     "text": [
      "<class 'pandas.core.frame.DataFrame'>\n",
      "     GRE  TOEFL  Univ  SOP  LOR   CGPA  Research\n",
      "0  337.0  118.0   4.0  4.5   4.5  9.65       1.0\n",
      "1  324.0  107.0   4.0  4.0   4.5  8.87       1.0\n"
     ]
    }
   ],
   "source": [
    "Y_train=data.pop(\"Chance_Admit\")\n",
    "#print(Y_train[0:2])\n",
    "\n",
    "X_train=data.drop(columns=[\"No\"])\n",
    "print(type(X_train))\n",
    "print(X_train[0:2])"
   ]
  },
  {
   "cell_type": "markdown",
   "id": "697692aa",
   "metadata": {},
   "source": [
    "On split les données de training en training set et validation set"
   ]
  },
  {
   "cell_type": "code",
   "execution_count": 8,
   "id": "48481046",
   "metadata": {},
   "outputs": [
    {
     "name": "stdout",
     "output_type": "stream",
     "text": [
      "taille des sets (268, 7) (268,) (132, 7) (132,)\n"
     ]
    }
   ],
   "source": [
    "from sklearn.model_selection import train_test_split\n",
    "X_train_split, X_val, Y_train_split, Y_val = train_test_split(X_train, Y_train, test_size=0.33, random_state=0)\n",
    "print(\"taille des sets\", X_train_split.shape, Y_train_split.shape, X_val.shape, Y_val.shape)"
   ]
  },
  {
   "cell_type": "markdown",
   "id": "26ce899f",
   "metadata": {},
   "source": [
    "# Tests de modèles de régression et performances"
   ]
  },
  {
   "cell_type": "code",
   "execution_count": 9,
   "id": "cdecce44",
   "metadata": {},
   "outputs": [
    {
     "name": "stdout",
     "output_type": "stream",
     "text": [
      "[0.0064675 0.        0.        0.        0.        0.        0.       ]\n",
      "-1.3224272970966244\n",
      "{'alpha': 1.0, 'copy_X': True, 'fit_intercept': True, 'l1_ratio': 0.5, 'max_iter': 1000, 'normalize': 'deprecated', 'positive': False, 'precompute': False, 'random_state': 0, 'selection': 'cyclic', 'tol': 0.0001, 'warm_start': False}\n",
      "R2: 0.5187928215292901\n"
     ]
    },
    {
     "data": {
      "image/png": "[encoded data removed]",
      "text/plain": [
       "<Figure size 432x288 with 1 Axes>"
      ]
     },
     "metadata": {
      "needs_background": "light"
     },
     "output_type": "display_data"
    },
    {
     "data": {
      "text/plain": [
       "(array([ 1.,  0.,  4.,  0.,  1.,  1.,  3.,  2.,  4.,  4.,  9., 14.,  7.,\n",
       "        13., 16., 18., 12., 10.,  9.,  4.]),\n",
       " array([-0.32483616, -0.30109979, -0.27736341, -0.25362704, -0.22989067,\n",
       "        -0.20615429, -0.18241792, -0.15868154, -0.13494517, -0.1112088 ,\n",
       "        -0.08747242, -0.06373605, -0.03999967, -0.0162633 ,  0.00747307,\n",
       "         0.03120945,  0.05494582,  0.0786822 ,  0.10241857,  0.12615494,\n",
       "         0.14989132]),\n",
       " <BarContainer object of 20 artists>)"
      ]
     },
     "execution_count": 9,
     "metadata": {},
     "output_type": "execute_result"
    },
    {
     "data": {
      "image/png": "[encoded data removed]",
      "text/plain": [
       "<Figure size 432x288 with 1 Axes>"
      ]
     },
     "metadata": {
      "needs_background": "light"
     },
     "output_type": "display_data"
    }
   ],
   "source": [
    "# Régression linaire ElasticNet avec penalisation l1 et l2\n",
    "from sklearn.linear_model import ElasticNet\n",
    "regr = ElasticNet(random_state=0)\n",
    "regr.fit(X_train_split, Y_train_split)\n",
    "print(regr.coef_)\n",
    "print(regr.intercept_)\n",
    "\n",
    "#Afficher R2 calulé sur l'ensemble de validation\n",
    "print(regr.get_params(deep=True))\n",
    "print(\"R2:\", regr.score(X_val, Y_val))\n",
    "Y_hat=regr.predict(X_val)\n",
    "#print(Y_hat)\n",
    "\n",
    "\n",
    "fig=plt.plot(Y_hat, (Y_val-Y_hat), \"ob\")\n",
    "plt.xlabel('Y adjusted')\n",
    "plt.ylabel('Residuals')\n",
    "plt.show()\n",
    "plt.hist(Y_val-Y_hat, bins=20)"
   ]
  },
  {
   "cell_type": "raw",
   "id": "258b45db",
   "metadata": {},
   "source": [
    "Ce score R2 n'est pas très bon. \n",
    "On va essayer de faire de l'optimisation des hyperparamètres avec ElasticNetCV pour améliorer R2"
   ]
  },
  {
   "cell_type": "code",
   "execution_count": 10,
   "id": "86a26a4b",
   "metadata": {},
   "outputs": [
    {
     "name": "stdout",
     "output_type": "stream",
     "text": [
      "R2 0.6964660673240395\n",
      "[0.698  0.6313 0.7645 0.6642 0.7151 0.6584 0.7109 0.6687 0.9191 0.923\n",
      " 0.5347 0.9114 0.7006 0.46   0.8455 0.6626 0.6732 0.8098 0.6116 0.7378\n",
      " 0.8397 0.854  0.6444 0.4536 0.8148 0.6461 0.4325 0.6815 0.865  0.6878\n",
      " 0.6553 0.7271 0.7432 0.6472 0.7972 0.7612 0.6568 0.8838 0.6289 0.9418\n",
      " 0.7293 0.6735 0.6754 0.8033 0.825  0.6504 0.5749 0.6793 0.6442 0.6289\n",
      " 0.6702 0.786  0.6472 0.8525 0.6954 0.7278 0.6506 0.7361 0.7459 0.8315\n",
      " 0.7528 0.4841 0.6433 0.5166 0.829  0.8751 0.7192 0.9137 0.7569 0.7298\n",
      " 0.5878 0.8395 0.868  0.6035 0.9202 0.615  0.6693 0.6557 0.9252 0.5579\n",
      " 0.6816 0.7094 0.611  0.8569 0.6072 0.7821 0.7005 0.7132 0.7863 0.8153\n",
      " 0.7594 0.9375 0.5184 0.5683 0.8354 0.6884 0.7521 0.6713 0.7363 0.7703\n",
      " 0.705  0.673  0.7164 0.5775 0.75   0.6819 0.9342 0.6402 0.7018 0.6703\n",
      " 0.6156 0.7507 0.7169 0.6698 0.8186 0.9015 0.9217 0.7339 0.7031 0.6523\n",
      " 0.6278 0.6604 0.9034 0.6812 0.5042 0.9255 0.9144 0.6822 0.7073 0.5026\n",
      " 0.9117 0.6723]\n"
     ]
    },
    {
     "data": {
      "image/png": "[encoded data removed]",
      "text/plain": [
       "<Figure size 432x288 with 1 Axes>"
      ]
     },
     "metadata": {
      "needs_background": "light"
     },
     "output_type": "display_data"
    },
    {
     "data": {
      "text/plain": [
       "(array([ 1.,  1.,  1.,  1.,  3.,  1.,  1.,  3.,  1.,  0.,  6.,  7., 14.,\n",
       "        20., 26., 22., 12.,  5.,  4.,  3.]),\n",
       " array([-0.2878 , -0.26654, -0.24528, -0.22402, -0.20276, -0.1815 ,\n",
       "        -0.16024, -0.13898, -0.11772, -0.09646, -0.0752 , -0.05394,\n",
       "        -0.03268, -0.01142,  0.00984,  0.0311 ,  0.05236,  0.07362,\n",
       "         0.09488,  0.11614,  0.1374 ]),\n",
       " <BarContainer object of 20 artists>)"
      ]
     },
     "execution_count": 10,
     "metadata": {},
     "output_type": "execute_result"
    },
    {
     "data": {
      "image/png": "[encoded data removed]",
      "text/plain": [
       "<Figure size 432x288 with 1 Axes>"
      ]
     },
     "metadata": {
      "needs_background": "light"
     },
     "output_type": "display_data"
    }
   ],
   "source": [
    "from sklearn.ensemble import RandomForestRegressor\n",
    "regr = RandomForestRegressor(max_depth=100, random_state=0)\n",
    "regr.fit(X_train_split, Y_train_split)\n",
    "\n",
    "#Afficher R2 calulé sur l'ensemble de validation\n",
    "print(\"R2\", regr.score(X_val, Y_val))\n",
    "Y_hat=regr.predict(X_val)\n",
    "print(Y_hat)\n",
    "\n",
    "fig=plt.plot(Y_hat, (Y_val-Y_hat), \"ob\")\n",
    "plt.xlabel('Y adjusted')\n",
    "plt.ylabel('Residuals')\n",
    "plt.show()\n",
    "plt.hist(Y_val-Y_hat, bins=20)"
   ]
  },
  {
   "cell_type": "code",
   "execution_count": null,
   "id": "8ce7e00b",
   "metadata": {},
   "outputs": [],
   "source": []
  },
  {
   "cell_type": "code",
   "execution_count": 11,
   "id": "923188f4",
   "metadata": {},
   "outputs": [
    {
     "name": "stdout",
     "output_type": "stream",
     "text": [
      "alpha: 0.002808234573401648\n",
      "l1_ratio 0.5\n",
      "intercept: -1.39302622720056\n",
      "coeff: [0.00247755 0.00259115 0.00268322 0.00137356 0.01916244 0.11246678\n",
      " 0.01273363]\n",
      "R2: 0.7569074724281852\n",
      "[0.698  0.6313 0.7645 0.6642 0.7151 0.6584 0.7109 0.6687 0.9191 0.923\n",
      " 0.5347 0.9114 0.7006 0.46   0.8455 0.6626 0.6732 0.8098 0.6116 0.7378\n",
      " 0.8397 0.854  0.6444 0.4536 0.8148 0.6461 0.4325 0.6815 0.865  0.6878\n",
      " 0.6553 0.7271 0.7432 0.6472 0.7972 0.7612 0.6568 0.8838 0.6289 0.9418\n",
      " 0.7293 0.6735 0.6754 0.8033 0.825  0.6504 0.5749 0.6793 0.6442 0.6289\n",
      " 0.6702 0.786  0.6472 0.8525 0.6954 0.7278 0.6506 0.7361 0.7459 0.8315\n",
      " 0.7528 0.4841 0.6433 0.5166 0.829  0.8751 0.7192 0.9137 0.7569 0.7298\n",
      " 0.5878 0.8395 0.868  0.6035 0.9202 0.615  0.6693 0.6557 0.9252 0.5579\n",
      " 0.6816 0.7094 0.611  0.8569 0.6072 0.7821 0.7005 0.7132 0.7863 0.8153\n",
      " 0.7594 0.9375 0.5184 0.5683 0.8354 0.6884 0.7521 0.6713 0.7363 0.7703\n",
      " 0.705  0.673  0.7164 0.5775 0.75   0.6819 0.9342 0.6402 0.7018 0.6703\n",
      " 0.6156 0.7507 0.7169 0.6698 0.8186 0.9015 0.9217 0.7339 0.7031 0.6523\n",
      " 0.6278 0.6604 0.9034 0.6812 0.5042 0.9255 0.9144 0.6822 0.7073 0.5026\n",
      " 0.9117 0.6723]\n"
     ]
    },
    {
     "data": {
      "image/png": "[encoded data removed]",
      "text/plain": [
       "<Figure size 432x288 with 1 Axes>"
      ]
     },
     "metadata": {
      "needs_background": "light"
     },
     "output_type": "display_data"
    },
    {
     "data": {
      "text/plain": [
       "(array([ 1.,  0.,  0.,  2.,  3.,  4.,  9.,  9.,  8.,  8., 15., 19., 17.,\n",
       "        17.,  7.,  4.,  1.,  3.,  2.,  3.]),\n",
       " array([-0.09053299, -0.08247478, -0.07441658, -0.06635837, -0.05830017,\n",
       "        -0.05024197, -0.04218376, -0.03412556, -0.02606736, -0.01800915,\n",
       "        -0.00995095, -0.00189275,  0.00616546,  0.01422366,  0.02228186,\n",
       "         0.03034007,  0.03839827,  0.04645648,  0.05451468,  0.06257288,\n",
       "         0.07063109]),\n",
       " <BarContainer object of 20 artists>)"
      ]
     },
     "execution_count": 11,
     "metadata": {},
     "output_type": "execute_result"
    },
    {
     "data": {
      "image/png": "[encoded data removed]",
      "text/plain": [
       "<Figure size 432x288 with 1 Axes>"
      ]
     },
     "metadata": {
      "needs_background": "light"
     },
     "output_type": "display_data"
    }
   ],
   "source": [
    "from sklearn.linear_model import ElasticNetCV\n",
    "\n",
    "regr=ElasticNetCV(cv=5, random_state=None)\n",
    "regr.fit(X_train_split, Y_train_split)   \n",
    "print(\"alpha:\", regr.alpha_)\n",
    "print(\"l1_ratio\", regr.l1_ratio_)\n",
    "print(\"intercept:\", regr.intercept_)\n",
    "print(\"coeff:\", regr.coef_)\n",
    "\n",
    "\n",
    "#Afficher R2 sur calculé sur l'ensemble de validation\n",
    "print(\"R2:\", regr.score(X_val, Y_val))\n",
    "Y_val=regr.predict(X_val)\n",
    "print(Y_hat)\n",
    "\n",
    "\n",
    "fig=plt.plot(Y_hat, (Y_val-Y_hat), \"ob\")\n",
    "plt.xlabel('Y adjusted')\n",
    "plt.ylabel('Residuals')\n",
    "plt.show()\n",
    "plt.hist(Y_val-Y_hat, bins=20)"
   ]
  },
  {
   "cell_type": "code",
   "execution_count": 12,
   "id": "d3b81157",
   "metadata": {},
   "outputs": [
    {
     "name": "stdout",
     "output_type": "stream",
     "text": [
      "Requirement already satisfied: glmnet_py in c:\\users\\jacqueno\\anaconda3\\lib\\site-packages (0.1.0b2)\n",
      "Requirement already satisfied: joblib>=0.10.3 in c:\\users\\jacqueno\\anaconda3\\lib\\site-packages (from glmnet_py) (1.2.0)\n"
     ]
    }
   ],
   "source": [
    "!pip install glmnet_py\n",
    "import glmnet_python\n",
    "import scipy, matplotlib.pyplot as plt\n",
    "from glmnet import glmnet\n",
    "#X_train_split.to_numpy()\n",
    "#Y_train_split.to_numpy()\n",
    "#fit = glmnet(x=X_train_split, y=Y_train_split, family = 'gaussian', alpha = 0.5)\n",
    "#glmnetPlot(fit, xvar = 'lambda', label = True);"
   ]
  },
  {
   "cell_type": "code",
   "execution_count": null,
   "id": "350ca409",
   "metadata": {},
   "outputs": [],
   "source": []
  },
  {
   "cell_type": "code",
   "execution_count": null,
   "id": "d1e6fc74",
   "metadata": {},
   "outputs": [],
   "source": []
  }
 ],
 "metadata": {
  "kernelspec": {
   "display_name": "Python 3 (ipykernel)",
   "language": "python",
   "name": "python3"
  },
  "language_info": {
   "codemirror_mode": {
    "name": "ipython",
    "version": 3
   },
   "file_extension": ".py",
   "mimetype": "text/x-python",
   "name": "python",
   "nbconvert_exporter": "python",
   "pygments_lexer": "ipython3",
   "version": "3.9.12"
  }
 },
 "nbformat": 4,
 "nbformat_minor": 5
}
