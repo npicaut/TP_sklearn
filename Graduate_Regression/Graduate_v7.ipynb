{
 "cells": [
  {
   "cell_type": "markdown",
   "id": "d4eacba2",
   "metadata": {},
   "source": [
    "# Objectif"
   ]
  },
  {
   "cell_type": "markdown",
   "id": "42143654",
   "metadata": {},
   "source": [
    "Prédire les chances d'admission d'étudiants (y compris entre 0 et 1) en fonction de paramètres (GRE Scores GRE (sur 340), score TOEFL (sur 120), note en université (sur 5), force de la déclaration d'intention (sur 5) et  force de la lettre de recommandation (sur 5), GPA, Experience en recherche (0 ou 1)"
   ]
  },
  {
   "cell_type": "markdown",
   "id": "2239086d",
   "metadata": {},
   "source": [
    "# Chargement des données "
   ]
  },
  {
   "cell_type": "code",
   "execution_count": 50,
   "id": "9ba77abc",
   "metadata": {},
   "outputs": [],
   "source": [
    "import pandas as pd\n",
    "import numpy as np\n",
    "import matplotlib.pyplot as plt\n",
    "\n",
    "data0 = pd.read_csv(\"./Admission_Predict.csv\", sep=',')\n",
    "# realtest= pd.read_csv(\"./Admission_Predict_Ver1.1.csv\", sep=',')\n"
   ]
  },
  {
   "cell_type": "markdown",
   "id": "219e8d9f",
   "metadata": {},
   "source": [
    "# Observation des données"
   ]
  },
  {
   "cell_type": "code",
   "execution_count": 51,
   "id": "9bd3d25a",
   "metadata": {},
   "outputs": [
    {
     "name": "stdout",
     "output_type": "stream",
     "text": [
      "<class 'pandas.core.frame.DataFrame'>\n"
     ]
    },
    {
     "data": {
      "text/html": [
       "<div>\n",
       "<style scoped>\n",
       "    .dataframe tbody tr th:only-of-type {\n",
       "        vertical-align: middle;\n",
       "    }\n",
       "\n",
       "    .dataframe tbody tr th {\n",
       "        vertical-align: top;\n",
       "    }\n",
       "\n",
       "    .dataframe thead th {\n",
       "        text-align: right;\n",
       "    }\n",
       "</style>\n",
       "<table border=\"1\" class=\"dataframe\">\n",
       "  <thead>\n",
       "    <tr style=\"text-align: right;\">\n",
       "      <th></th>\n",
       "      <th>No</th>\n",
       "      <th>GRE</th>\n",
       "      <th>TOEFL</th>\n",
       "      <th>Univ</th>\n",
       "      <th>SOP</th>\n",
       "      <th>LOR</th>\n",
       "      <th>CGPA</th>\n",
       "      <th>Research</th>\n",
       "      <th>Chance_Admit</th>\n",
       "    </tr>\n",
       "  </thead>\n",
       "  <tbody>\n",
       "    <tr>\n",
       "      <th>0</th>\n",
       "      <td>1</td>\n",
       "      <td>337</td>\n",
       "      <td>118</td>\n",
       "      <td>4</td>\n",
       "      <td>4.5</td>\n",
       "      <td>4.5</td>\n",
       "      <td>9.65</td>\n",
       "      <td>1</td>\n",
       "      <td>0.92</td>\n",
       "    </tr>\n",
       "    <tr>\n",
       "      <th>1</th>\n",
       "      <td>2</td>\n",
       "      <td>324</td>\n",
       "      <td>107</td>\n",
       "      <td>4</td>\n",
       "      <td>4.0</td>\n",
       "      <td>4.5</td>\n",
       "      <td>8.87</td>\n",
       "      <td>1</td>\n",
       "      <td>0.76</td>\n",
       "    </tr>\n",
       "    <tr>\n",
       "      <th>2</th>\n",
       "      <td>3</td>\n",
       "      <td>316</td>\n",
       "      <td>104</td>\n",
       "      <td>3</td>\n",
       "      <td>3.0</td>\n",
       "      <td>3.5</td>\n",
       "      <td>8.00</td>\n",
       "      <td>1</td>\n",
       "      <td>0.72</td>\n",
       "    </tr>\n",
       "    <tr>\n",
       "      <th>3</th>\n",
       "      <td>4</td>\n",
       "      <td>322</td>\n",
       "      <td>110</td>\n",
       "      <td>3</td>\n",
       "      <td>3.5</td>\n",
       "      <td>2.5</td>\n",
       "      <td>8.67</td>\n",
       "      <td>1</td>\n",
       "      <td>0.80</td>\n",
       "    </tr>\n",
       "    <tr>\n",
       "      <th>4</th>\n",
       "      <td>5</td>\n",
       "      <td>314</td>\n",
       "      <td>103</td>\n",
       "      <td>2</td>\n",
       "      <td>2.0</td>\n",
       "      <td>3.0</td>\n",
       "      <td>8.21</td>\n",
       "      <td>0</td>\n",
       "      <td>0.65</td>\n",
       "    </tr>\n",
       "  </tbody>\n",
       "</table>\n",
       "</div>"
      ],
      "text/plain": [
       "   No  GRE  TOEFL  Univ  SOP  LOR   CGPA  Research  Chance_Admit\n",
       "0   1  337    118     4  4.5   4.5  9.65         1          0.92\n",
       "1   2  324    107     4  4.0   4.5  8.87         1          0.76\n",
       "2   3  316    104     3  3.0   3.5  8.00         1          0.72\n",
       "3   4  322    110     3  3.5   2.5  8.67         1          0.80\n",
       "4   5  314    103     2  2.0   3.0  8.21         0          0.65"
      ]
     },
     "execution_count": 51,
     "metadata": {},
     "output_type": "execute_result"
    }
   ],
   "source": [
    "print(type(data0))     \n",
    "data0.head()\n",
    "data=data0.rename(columns={\"Serial No.\": \"No\", \"GRE Score\": \"GRE\", \"TOEFL Score\":\"TOEFL\", \"University Rating\": \"Univ\", \"Chance of Admit \": \"Chance_Admit\"})\n",
    "data.head()"
   ]
  },
  {
   "cell_type": "code",
   "execution_count": 52,
   "id": "194fbeb1",
   "metadata": {},
   "outputs": [
    {
     "data": {
      "text/html": [
       "<div>\n",
       "<style scoped>\n",
       "    .dataframe tbody tr th:only-of-type {\n",
       "        vertical-align: middle;\n",
       "    }\n",
       "\n",
       "    .dataframe tbody tr th {\n",
       "        vertical-align: top;\n",
       "    }\n",
       "\n",
       "    .dataframe thead th {\n",
       "        text-align: right;\n",
       "    }\n",
       "</style>\n",
       "<table border=\"1\" class=\"dataframe\">\n",
       "  <thead>\n",
       "    <tr style=\"text-align: right;\">\n",
       "      <th></th>\n",
       "      <th>No</th>\n",
       "      <th>GRE</th>\n",
       "      <th>TOEFL</th>\n",
       "      <th>Univ</th>\n",
       "      <th>SOP</th>\n",
       "      <th>LOR</th>\n",
       "      <th>CGPA</th>\n",
       "      <th>Research</th>\n",
       "      <th>Chance_Admit</th>\n",
       "    </tr>\n",
       "  </thead>\n",
       "  <tbody>\n",
       "    <tr>\n",
       "      <th>count</th>\n",
       "      <td>400.000000</td>\n",
       "      <td>400.000000</td>\n",
       "      <td>400.000000</td>\n",
       "      <td>400.000000</td>\n",
       "      <td>400.000000</td>\n",
       "      <td>400.000000</td>\n",
       "      <td>400.000000</td>\n",
       "      <td>400.000000</td>\n",
       "      <td>400.000000</td>\n",
       "    </tr>\n",
       "    <tr>\n",
       "      <th>mean</th>\n",
       "      <td>200.500000</td>\n",
       "      <td>316.807500</td>\n",
       "      <td>107.410000</td>\n",
       "      <td>3.087500</td>\n",
       "      <td>3.400000</td>\n",
       "      <td>3.452500</td>\n",
       "      <td>8.598925</td>\n",
       "      <td>0.547500</td>\n",
       "      <td>0.724350</td>\n",
       "    </tr>\n",
       "    <tr>\n",
       "      <th>std</th>\n",
       "      <td>115.614301</td>\n",
       "      <td>11.473646</td>\n",
       "      <td>6.069514</td>\n",
       "      <td>1.143728</td>\n",
       "      <td>1.006869</td>\n",
       "      <td>0.898478</td>\n",
       "      <td>0.596317</td>\n",
       "      <td>0.498362</td>\n",
       "      <td>0.142609</td>\n",
       "    </tr>\n",
       "    <tr>\n",
       "      <th>min</th>\n",
       "      <td>1.000000</td>\n",
       "      <td>290.000000</td>\n",
       "      <td>92.000000</td>\n",
       "      <td>1.000000</td>\n",
       "      <td>1.000000</td>\n",
       "      <td>1.000000</td>\n",
       "      <td>6.800000</td>\n",
       "      <td>0.000000</td>\n",
       "      <td>0.340000</td>\n",
       "    </tr>\n",
       "    <tr>\n",
       "      <th>25%</th>\n",
       "      <td>100.750000</td>\n",
       "      <td>308.000000</td>\n",
       "      <td>103.000000</td>\n",
       "      <td>2.000000</td>\n",
       "      <td>2.500000</td>\n",
       "      <td>3.000000</td>\n",
       "      <td>8.170000</td>\n",
       "      <td>0.000000</td>\n",
       "      <td>0.640000</td>\n",
       "    </tr>\n",
       "    <tr>\n",
       "      <th>50%</th>\n",
       "      <td>200.500000</td>\n",
       "      <td>317.000000</td>\n",
       "      <td>107.000000</td>\n",
       "      <td>3.000000</td>\n",
       "      <td>3.500000</td>\n",
       "      <td>3.500000</td>\n",
       "      <td>8.610000</td>\n",
       "      <td>1.000000</td>\n",
       "      <td>0.730000</td>\n",
       "    </tr>\n",
       "    <tr>\n",
       "      <th>75%</th>\n",
       "      <td>300.250000</td>\n",
       "      <td>325.000000</td>\n",
       "      <td>112.000000</td>\n",
       "      <td>4.000000</td>\n",
       "      <td>4.000000</td>\n",
       "      <td>4.000000</td>\n",
       "      <td>9.062500</td>\n",
       "      <td>1.000000</td>\n",
       "      <td>0.830000</td>\n",
       "    </tr>\n",
       "    <tr>\n",
       "      <th>max</th>\n",
       "      <td>400.000000</td>\n",
       "      <td>340.000000</td>\n",
       "      <td>120.000000</td>\n",
       "      <td>5.000000</td>\n",
       "      <td>5.000000</td>\n",
       "      <td>5.000000</td>\n",
       "      <td>9.920000</td>\n",
       "      <td>1.000000</td>\n",
       "      <td>0.970000</td>\n",
       "    </tr>\n",
       "  </tbody>\n",
       "</table>\n",
       "</div>"
      ],
      "text/plain": [
       "               No         GRE       TOEFL        Univ         SOP        LOR   \\\n",
       "count  400.000000  400.000000  400.000000  400.000000  400.000000  400.000000   \n",
       "mean   200.500000  316.807500  107.410000    3.087500    3.400000    3.452500   \n",
       "std    115.614301   11.473646    6.069514    1.143728    1.006869    0.898478   \n",
       "min      1.000000  290.000000   92.000000    1.000000    1.000000    1.000000   \n",
       "25%    100.750000  308.000000  103.000000    2.000000    2.500000    3.000000   \n",
       "50%    200.500000  317.000000  107.000000    3.000000    3.500000    3.500000   \n",
       "75%    300.250000  325.000000  112.000000    4.000000    4.000000    4.000000   \n",
       "max    400.000000  340.000000  120.000000    5.000000    5.000000    5.000000   \n",
       "\n",
       "             CGPA    Research  Chance_Admit  \n",
       "count  400.000000  400.000000    400.000000  \n",
       "mean     8.598925    0.547500      0.724350  \n",
       "std      0.596317    0.498362      0.142609  \n",
       "min      6.800000    0.000000      0.340000  \n",
       "25%      8.170000    0.000000      0.640000  \n",
       "50%      8.610000    1.000000      0.730000  \n",
       "75%      9.062500    1.000000      0.830000  \n",
       "max      9.920000    1.000000      0.970000  "
      ]
     },
     "execution_count": 52,
     "metadata": {},
     "output_type": "execute_result"
    }
   ],
   "source": [
    "data.describe()"
   ]
  },
  {
   "cell_type": "code",
   "execution_count": 53,
   "id": "de6a7c76",
   "metadata": {},
   "outputs": [
    {
     "name": "stdout",
     "output_type": "stream",
     "text": [
      "(400, 9)\n",
      "<class 'pandas.core.frame.DataFrame'>\n",
      "RangeIndex: 400 entries, 0 to 399\n",
      "Data columns (total 9 columns):\n",
      " #   Column        Non-Null Count  Dtype  \n",
      "---  ------        --------------  -----  \n",
      " 0   No            400 non-null    float64\n",
      " 1   GRE           400 non-null    float64\n",
      " 2   TOEFL         400 non-null    float64\n",
      " 3   Univ          400 non-null    float64\n",
      " 4   SOP           400 non-null    float64\n",
      " 5   LOR           400 non-null    float64\n",
      " 6   CGPA          400 non-null    float64\n",
      " 7   Research      400 non-null    float64\n",
      " 8   Chance_Admit  400 non-null    float64\n",
      "dtypes: float64(9)\n",
      "memory usage: 28.2 KB\n"
     ]
    }
   ],
   "source": [
    "#on passe toutes les variables en float, pour faire une régression linéaire multivariée par la suite \n",
    "print(data.shape)\n",
    "for i in data.columns:\n",
    "    data[i]=data[i].astype(np.float64)\n",
    "data.info()"
   ]
  },
  {
   "cell_type": "code",
   "execution_count": 54,
   "id": "d9cc8feb",
   "metadata": {},
   "outputs": [
    {
     "name": "stdout",
     "output_type": "stream",
     "text": [
      "donnees manquantes dans le train set: No              0\n",
      "GRE             0\n",
      "TOEFL           0\n",
      "Univ            0\n",
      "SOP             0\n",
      "LOR             0\n",
      "CGPA            0\n",
      "Research        0\n",
      "Chance_Admit    0\n",
      "dtype: int64\n"
     ]
    }
   ],
   "source": [
    "#Nombre de valeurs manquantes\n",
    "print(\"donnees manquantes dans le train set:\", data.isnull().sum())"
   ]
  },
  {
   "cell_type": "markdown",
   "id": "2b1e70f1",
   "metadata": {},
   "source": [
    "Il n'y a pas de valeurs manquantes dans le training set. "
   ]
  },
  {
   "cell_type": "code",
   "execution_count": 55,
   "id": "d258c6df",
   "metadata": {},
   "outputs": [
    {
     "data": {
      "image/png": "[encoded data removed]",
      "text/plain": [
       "<Figure size 432x288 with 2 Axes>"
      ]
     },
     "metadata": {
      "needs_background": "light"
     },
     "output_type": "display_data"
    }
   ],
   "source": [
    "data2=data.drop(columns=[\"No\"])\n",
    "corr_matrix=data2.corr()\n",
    "import seaborn as sn\n",
    "import matplotlib.pyplot as plt\n",
    "sn.heatmap(corr_matrix, annot=True)\n",
    "plt.show()"
   ]
  },
  {
   "cell_type": "raw",
   "id": "e19436ee",
   "metadata": {},
   "source": [
    "On observe que certaines variables explicatives sont corrélées entre elles (TOEFL/ GRE/ CGPA). La probabilité d'étre admis (variable à expliquer) est fortement corrélée à CGPA. "
   ]
  },
  {
   "cell_type": "code",
   "execution_count": 56,
   "id": "af89b25c",
   "metadata": {},
   "outputs": [
    {
     "name": "stdout",
     "output_type": "stream",
     "text": [
      "<class 'pandas.core.frame.DataFrame'>\n",
      "     GRE  TOEFL  Univ  SOP  LOR   CGPA  Research\n",
      "0  337.0  118.0   4.0  4.5   4.5  9.65       1.0\n",
      "1  324.0  107.0   4.0  4.0   4.5  8.87       1.0\n"
     ]
    }
   ],
   "source": [
    "Y_train=data.pop(\"Chance_Admit\")\n",
    "#print(Y_train[0:2])\n",
    "\n",
    "X_train=data.drop(columns=[\"No\"])\n",
    "print(type(X_train))\n",
    "print(X_train[0:2])"
   ]
  },
  {
   "cell_type": "markdown",
   "id": "697692aa",
   "metadata": {},
   "source": [
    "On split les données de training en training set et validation set"
   ]
  },
  {
   "cell_type": "code",
   "execution_count": 57,
   "id": "48481046",
   "metadata": {},
   "outputs": [
    {
     "name": "stdout",
     "output_type": "stream",
     "text": [
      "taille des sets (268, 7) (268,) (132, 7) (132,)\n"
     ]
    }
   ],
   "source": [
    "from sklearn.model_selection import train_test_split\n",
    "X_train_split, X_val, Y_train_split, Y_val = train_test_split(X_train, Y_train, test_size=0.33, random_state=0)\n",
    "print(\"taille des sets\", X_train_split.shape, Y_train_split.shape, X_val.shape, Y_val.shape)"
   ]
  },
  {
   "cell_type": "markdown",
   "id": "26ce899f",
   "metadata": {},
   "source": [
    "# Tests de modèles de régression et performances"
   ]
  },
  {
   "cell_type": "markdown",
   "id": "a6f7d0b3",
   "metadata": {},
   "source": [
    "## Régression pénalisée Elastic Net"
   ]
  },
  {
   "cell_type": "code",
   "execution_count": null,
   "id": "cdecce44",
   "metadata": {},
   "outputs": [],
   "source": [
    "# Régression linaire ElasticNet avec penalisation l1 et l2\n",
    "from sklearn.linear_model import ElasticNet\n",
    "regr = ElasticNet(random_state=0)\n",
    "regr.fit(X_train_split, Y_train_split)\n",
    "print(\"coefficients:\", regr.coef_)\n",
    "print(\"intercept:\", regr.intercept_)\n",
    "\n",
    "#Afficher la valeur de R2 calulé sur l'ensemble de validation\n",
    "print(regr.get_params(deep=True))\n",
    "print(\"R2:\", regr.score(X_val, Y_val))\n",
    "Y_hat=regr.predict(X_val)\n",
    "#print(Y_hat)\n",
    "\n",
    "#Calculer la MAE sur sur l'ensemble de validation\n",
    "from sklearn.metrics import mean_absolute_error\n",
    "mae = mean_absolute_error(Y_val, Y_hat)\n",
    "print('Mean Absolute Error:', round(mae, 3))\n",
    "\n",
    "# On regarde si les hypothèses de régression linéaire sont vérifiées (homosedasticité et normalité des résidus \n",
    "# par représentation graphique, et normalité des résidus par test de Shapiro)\n",
    "fig=plt.plot(Y_hat, (Y_val-Y_hat), \"ob\")\n",
    "plt.xlabel('Y adjusted')\n",
    "plt.ylabel('Residuals')\n",
    "plt.show()\n",
    "plt.hist(Y_val-Y_hat, bins=20)\n",
    "\n",
    "import numpy as np\n",
    "from scipy import stats\n",
    "shapiro_test = stats.shapiro(Y_val-Y_hat)\n",
    "shapiro_test"
   ]
  },
  {
   "cell_type": "raw",
   "id": "258b45db",
   "metadata": {},
   "source": [
    "Ce score R2 n'est pas très bon. On va essayer de faire de l'optimisation des hyperparamètres avec ElasticNetCV pour améliorer R2. \n",
    "Et la p-value du test de Shapiro indique que l'on rejette l'hypothèse de normalité des résidus, qui est une hypothèse de départ du modèle. "
   ]
  },
  {
   "cell_type": "code",
   "execution_count": null,
   "id": "508b8014",
   "metadata": {},
   "outputs": [],
   "source": [
    "#Optimisation des hyperparamètres du modèle ElasticNet par cross validation\n",
    "from sklearn.linear_model import ElasticNetCV\n",
    "\n",
    "regr_2=ElasticNetCV(cv=5, random_state=None)\n",
    "regr_2.fit(X_train_split, Y_train_split)   \n",
    "print(\"alpha:\", regr_2.alpha_)\n",
    "print(\"l1_ratio\", regr_2.l1_ratio_)\n",
    "print(\"intercept:\", regr_2.intercept_)\n",
    "print(\"coeff:\", regr_2.coef_)\n",
    "\n",
    "\n",
    "#Afficher R2 sur calculé sur l'ensemble de validation\n",
    "print(\"R2:\", regr_2.score(X_val, Y_val))\n",
    "Y_hat2=regr_2.predict(X_val)\n",
    "#print(Y_hat2)\n",
    "\n",
    "#Calculer la MAE sur sur l'ensemble de validation\n",
    "mae_2 = mean_absolute_error(Y_val, Y_hat2)\n",
    "print('Mean Absolute Error:', round(mae_2, 3))\n",
    "\n",
    "\n",
    "# On regarde si les hypothèses de régression linéaire sont vérifiées (homosedasticité et normalité des résidus \n",
    "# par représentation graphique, et normalité des résidus par test de Shapiro)\n",
    "fig=plt.plot(Y_hat2, (Y_val-Y_hat2), \"ob\")\n",
    "plt.xlabel('Y adjusted')\n",
    "plt.ylabel('Residuals')\n",
    "plt.show()\n",
    "plt.hist(Y_val-Y_hat2, bins=20)\n",
    "\n",
    "shapiro_test = stats.shapiro(Y_val-Y_hat2)\n",
    "shapiro_test"
   ]
  },
  {
   "cell_type": "raw",
   "id": "d2542cef",
   "metadata": {},
   "source": [
    "Après optimisation des hyperparamètres avec ElasticNetCV, Ce score R2 est meilleur et la MAE a diminué. La MAE est faible (comparée à la valeur moyenne des chances d'admission). \n",
    "Cependant la p-value du test de Shapiro indique que l'on rejette encore l'hypothèse de normalité des résidus, qui est une hypothèse de départ du modèle de régression linéaire. "
   ]
  },
  {
   "cell_type": "markdown",
   "id": "6c185068",
   "metadata": {},
   "source": [
    "## Régression Random Forest (non linéaire)"
   ]
  },
  {
   "cell_type": "code",
   "execution_count": null,
   "id": "86a26a4b",
   "metadata": {},
   "outputs": [],
   "source": [
    "#test de RF regressor\n",
    "from sklearn.ensemble import RandomForestRegressor\n",
    "regrrf = RandomForestRegressor(max_depth=100, random_state=0)\n",
    "regrrf.fit(X_train_split, Y_train_split)\n",
    "\n",
    "#Afficher R2 calulé sur l'ensemble de validation\n",
    "print(\"R2\", regrrf.score(X_val, Y_val))\n",
    "Y_hatrf=regrrf.predict(X_val)\n",
    "#print(Y_hatrf)\n",
    "\n",
    "#Calculer la MAE sur sur l'ensemble de validation\n",
    "mae_rf = mean_absolute_error(Y_val, Y_hatrf)\n",
    "print('Mean Absolute Error:', round(mae_rf, 3))"
   ]
  },
  {
   "cell_type": "raw",
   "id": "598638fb",
   "metadata": {},
   "source": [
    "Le R2 n'est pas très bon, On va essayer de faire de l'optimisation des hyperparamètres pour améliorer R2. La MAE est faible (si comparée à la valeur moyenne des chances d'admission). "
   ]
  },
  {
   "cell_type": "code",
   "execution_count": null,
   "id": "350ca409",
   "metadata": {},
   "outputs": [],
   "source": [
    "#Optimisation des hyperparamètres du RF regressor par cross-validation\n",
    "from sklearn.ensemble import RandomForestRegressor\n",
    "from pprint import pprint \n",
    "\n",
    "from sklearn.model_selection import RandomizedSearchCV\n",
    "# Number of trees in random forest\n",
    "n_estimators = [int(x) for x in np.linspace(start = 200, stop = 2000, num = 10)]\n",
    "# Number of features to consider at every split\n",
    "max_features = ['auto', 'sqrt']\n",
    "# Maximum number of levels in tree\n",
    "max_depth = [int(x) for x in np.linspace(10, 110, num = 11)]\n",
    "max_depth.append(None)\n",
    "# Minimum number of samples required to split a node\n",
    "min_samples_split = [2, 5, 10]\n",
    "# Minimum number of samples required at each leaf node\n",
    "min_samples_leaf = [1, 2, 4]\n",
    "# Method of selecting samples for training each tree\n",
    "bootstrap = [True, False]\n",
    "# Create the random grid\n",
    "random_grid = {'n_estimators': n_estimators,\n",
    "               'max_features': max_features,\n",
    "               'max_depth': max_depth,\n",
    "               'min_samples_split': min_samples_split,\n",
    "               'min_samples_leaf': min_samples_leaf,\n",
    "               'bootstrap': bootstrap}\n",
    "pprint(random_grid)\n",
    "{'bootstrap': [True, False],\n",
    " 'max_depth': [10, 20, 30, 40, 50, 60, 70, 80, 90, 100, None],\n",
    " 'max_features': ['auto', 'sqrt'],\n",
    " 'min_samples_leaf': [1, 2, 4],\n",
    " 'min_samples_split': [2, 5, 10],\n",
    " 'n_estimators': [200, 400, 600, 800, 1000, 1200, 1400, 1600, 1800, 2000]}\n",
    "\n",
    "\n",
    "# Use the random grid to search for best hyperparameters\n",
    "# First create the base model to tune\n",
    "rf = RandomForestRegressor()\n",
    "# Random search of parameters, using 3 fold cross validation, \n",
    "# search across 100 different combinations, and use all available cores\n",
    "rf_random = RandomizedSearchCV(estimator = rf, param_distributions = random_grid, n_iter = 100, cv = 3, verbose=2, random_state=42, n_jobs = -1)\n",
    "# Fit the random search model\n",
    "rf_random.fit(X_train_split, Y_train_split)\n",
    "\n"
   ]
  },
  {
   "cell_type": "code",
   "execution_count": null,
   "id": "9eb5214f",
   "metadata": {},
   "outputs": [],
   "source": [
    "dico=rf_random.best_params_\n",
    "print(dico.values())"
   ]
  },
  {
   "cell_type": "code",
   "execution_count": null,
   "id": "8125925f",
   "metadata": {},
   "outputs": [],
   "source": [
    "#RF regressor avec hyperparamètres optimaux\n",
    "rf_new=RandomForestRegressor(n_estimators=dico.get('n_estimators'), min_samples_split=dico.get('min_samples_split'), min_samples_leaf=dico.get('min_samples_leaf'), max_features=dico.get('max_features'), max_depth=dico.get('max_depth'), bootstrap=dico.get('bootstrap'))\n",
    "rf_new.fit(X_train_split, Y_train_split)\n",
    "#Afficher R2 calulé sur l'ensemble de validation\n",
    "print(\"R2\", rf_new.score(X_val, Y_val))\n",
    "Y_hatrf_new=rf_new.predict(X_val)\n",
    "#print(Y_hatrf_new)\n",
    "\n",
    "#Calculer la MAE sur sur l'ensemble de validation\n",
    "mae_rf_new = mean_absolute_error(Y_val, Y_hatrf_new)\n",
    "print('Mean Absolute Error:', round(mae_rf_new, 3))"
   ]
  },
  {
   "cell_type": "raw",
   "id": "a0fb2581",
   "metadata": {},
   "source": [
    "Après optimisation des hyperparamètres du modèle RandomForest Regressor, le R2 est meilleur (0.75) et la MAE est légèrement inférieure. La MAE est faible (comparée à la valeur moyenne des chances d'admission). "
   ]
  },
  {
   "cell_type": "markdown",
   "id": "c134c96d",
   "metadata": {},
   "source": [
    "# Tester un réseau de neurones pour la régression"
   ]
  },
  {
   "cell_type": "code",
   "execution_count": 58,
   "id": "7cea358e",
   "metadata": {},
   "outputs": [
    {
     "name": "stdout",
     "output_type": "stream",
     "text": [
      "taille des sets (66, 7) (66, 7) (66,) (66,)\n"
     ]
    }
   ],
   "source": [
    "#On divise l'ensemble de validation en 2 pour avoir un ensemble de training (X_train_split, Y_train_split déjà existant), ainsi \n",
    "# qu'un ensmble de validation (pour observer l'évolution de la loss et comment se passe l'apprentissage), puis un ensemble de test \n",
    "# pour évaluer la performance du modèle final\n",
    "X_valnew, X_test, Y_valnew, Y_test = train_test_split(X_val, Y_val, test_size=0.5, random_state=0)\n",
    "print(\"taille des sets\", X_valnew.shape, X_test.shape, Y_valnew.shape, Y_test.shape)"
   ]
  },
  {
   "cell_type": "code",
   "execution_count": 59,
   "id": "5fa43b96",
   "metadata": {
    "scrolled": true
   },
   "outputs": [
    {
     "data": {
      "text/plain": [
       "Reusing TensorBoard on port 6006 (pid 61736), started 0:03:21 ago. (Use '!kill 61736' to kill it.)"
      ]
     },
     "metadata": {},
     "output_type": "display_data"
    },
    {
     "data": {
      "text/html": [
       "\n",
       "      <iframe id=\"tensorboard-frame-687328349344e3bb\" width=\"100%\" height=\"800\" frameborder=\"0\">\n",
       "      </iframe>\n",
       "      <script>\n",
       "        (function() {\n",
       "          const frame = document.getElementById(\"tensorboard-frame-687328349344e3bb\");\n",
       "          const url = new URL(\"/\", window.location);\n",
       "          const port = 6006;\n",
       "          if (port) {\n",
       "            url.port = port;\n",
       "          }\n",
       "          frame.src = url;\n",
       "        })();\n",
       "      </script>\n",
       "    "
      ],
      "text/plain": [
       "<IPython.core.display.HTML object>"
      ]
     },
     "metadata": {},
     "output_type": "display_data"
    },
    {
     "name": "stdout",
     "output_type": "stream",
     "text": [
      "Selecting TensorBoard with logdir /tmp/logs/module3 (started 0:03:21 ago; port 6006, pid 61736).\n"
     ]
    },
    {
     "data": {
      "text/html": [
       "\n",
       "      <iframe id=\"tensorboard-frame-8b4bc7de21d5f356\" width=\"100%\" height=\"800\" frameborder=\"0\">\n",
       "      </iframe>\n",
       "      <script>\n",
       "        (function() {\n",
       "          const frame = document.getElementById(\"tensorboard-frame-8b4bc7de21d5f356\");\n",
       "          const url = new URL(\"/\", window.location);\n",
       "          const port = 6006;\n",
       "          if (port) {\n",
       "            url.port = port;\n",
       "          }\n",
       "          frame.src = url;\n",
       "        })();\n",
       "      </script>\n",
       "    "
      ],
      "text/plain": [
       "<IPython.core.display.HTML object>"
      ]
     },
     "metadata": {},
     "output_type": "display_data"
    },
    {
     "name": "stdout",
     "output_type": "stream",
     "text": [
      "7\n"
     ]
    }
   ],
   "source": [
    "import torch\n",
    "import torch.optim as optim\n",
    "from torch.utils.data import TensorDataset, DataLoader\n",
    "from torch.utils.tensorboard import SummaryWriter\n",
    "import time\n",
    "import os\n",
    "from tensorboard import notebook\n",
    "%reload_ext tensorboard\n",
    "%tensorboard --logdir /tmp/logs/module3\n",
    "\n",
    "notebook.display()\n",
    "\n",
    "use_cuda = torch.cuda.is_available()\n",
    "device = torch.device(\"cuda\" if use_cuda else \"cpu\")\n",
    "\n",
    "def save_state(epoch,model,optim,fichier):\n",
    "    state = {'epoch' : epoch, 'model_state': model.state_dict(), 'optim_state': optim.state_dict()}\n",
    "    torch.save(state,fichier)\n",
    "\n",
    "\n",
    "def load_state(fichier,model,optim):\n",
    "    epoch = 0\n",
    "    if os.path.isfile(fichier):\n",
    "        state = torch.load(fichier)\n",
    "        model.load_state_dict(state['model_state'])\n",
    "        optim.load_state_dict(state['optim_state'])\n",
    "        epoch = state['epoch']\n",
    "    else:\n",
    "        print(f\"{fichier} does not exist, starting from epoch 0\")\n",
    "    return epoch\n",
    "\n",
    "X_tr = torch.tensor(X_train_split.values, dtype=torch.float)\n",
    "num_features=X_tr.shape[1]\n",
    "print(num_features)\n",
    "Y_tr = torch.tensor(Y_train_split.values, dtype=torch.float)\n",
    "X_v=torch.tensor(X_valnew.values, dtype=torch.float)\n",
    "Y_v=torch.tensor(Y_valnew.values, dtype=torch.float)\n",
    "\n",
    "# Datasets\n",
    "\n",
    "train_dataset = TensorDataset(X_tr, Y_tr)\n",
    "val_dataset = TensorDataset(X_v, Y_v)\n",
    "\n",
    "EPOCHS = 1000\n",
    "BATCH_SIZE = 10\n",
    "\n",
    "train_loader = DataLoader(train_dataset, batch_size=BATCH_SIZE, shuffle=True)\n",
    "valid_loader = DataLoader(val_dataset, batch_size=BATCH_SIZE)\n",
    "    \n",
    "\n",
    "\n",
    "net = torch.nn.Sequential(torch.nn.Linear(X_tr.size(1),5),torch.nn.Tanh(),torch.nn.Linear(5,1))\n",
    "net.name = \"mon_premier_reseau\"\n",
    "CHECK_FILE = \"/tmp/mon_premier_reseau.chk\"\n",
    "net = net.to(device)\n",
    "MyLoss = torch.nn.MSELoss()\n",
    "optim = torch.optim.SGD(params=net.parameters(),lr=1e-5)\n",
    "\n",
    "start_epoch = load_state(CHECK_FILE,net,optim)\n",
    "\n",
    "\n",
    "# On créé un writer avec la date du modèle pour s'y retrouver\n",
    "summary = SummaryWriter(f\"/tmp/logs/module3/model--{time.time_ns()}\")\n",
    "for epoch in range(EPOCHS):\n",
    "    # Apprentissage\n",
    "    net.train()\n",
    "    cumloss = 0\n",
    "    for xbatch, ybatch in train_loader:\n",
    "        xbatch, ybatch = xbatch.to(device), ybatch.to(device)\n",
    "        outputs = net(xbatch)\n",
    "        loss = MyLoss(outputs.view(-1),ybatch)\n",
    "        optim.zero_grad()\n",
    "        loss.backward()\n",
    "        optim.step()\n",
    "        cumloss += loss.item()\n",
    "    summary.add_scalar(\"loss/train loss\",  cumloss/len(train_loader),epoch)\n",
    "     \n",
    "    if epoch % 10 == 0: \n",
    "        save_state(epoch,net,optim,CHECK_FILE)\n",
    "        # Validation\n",
    "        net.eval()\n",
    "        with torch.no_grad():\n",
    "            cumloss = 0\n",
    "            for xbatch, ybatch in valid_loader:\n",
    "                xbatch, ybatch = xbatch.to(device), ybatch.to(device)\n",
    "                outputs = net(xbatch)\n",
    "            cumloss += MyLoss(outputs.view(-1),ybatch).item()\n",
    "        summary.add_scalar(\"loss/validation loss\", cumloss/len(valid_loader) ,epoch)\n",
    "        \n",
    "        \n",
    "\n"
   ]
  },
  {
   "cell_type": "code",
   "execution_count": null,
   "id": "bd60674b",
   "metadata": {},
   "outputs": [],
   "source": []
  },
  {
   "cell_type": "code",
   "execution_count": null,
   "id": "4db4b57a",
   "metadata": {},
   "outputs": [],
   "source": []
  }
 ],
 "metadata": {
  "kernelspec": {
   "display_name": "Python 3 (ipykernel)",
   "language": "python",
   "name": "python3"
  },
  "language_info": {
   "codemirror_mode": {
    "name": "ipython",
    "version": 3
   },
   "file_extension": ".py",
   "mimetype": "text/x-python",
   "name": "python",
   "nbconvert_exporter": "python",
   "pygments_lexer": "ipython3",
   "version": "3.9.13"
  }
 },
 "nbformat": 4,
 "nbformat_minor": 5
}
