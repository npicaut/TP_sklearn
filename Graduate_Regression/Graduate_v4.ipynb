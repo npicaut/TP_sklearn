{
 "cells": [
  {
   "cell_type": "markdown",
   "id": "d4eacba2",
   "metadata": {},
   "source": [
    "# Objectif"
   ]
  },
  {
   "cell_type": "markdown",
   "id": "42143654",
   "metadata": {},
   "source": [
    "Prédire les chances d'admission d'étudiants (y compris entre 0 et 1) en fonction de paramètres (GRE Scores GRE (sur 340), score TOEFL (sur 120), note en université (sur 5), force de la déclaration d'intention (sur 5) et  force de la lettre de recommandation (sur 5), GPA, Experience en recherche (0 ou 1)"
   ]
  },
  {
   "cell_type": "markdown",
   "id": "2239086d",
   "metadata": {},
   "source": [
    "# Chargement des données "
   ]
  },
  {
   "cell_type": "code",
   "execution_count": 1,
   "id": "9ba77abc",
   "metadata": {},
   "outputs": [],
   "source": [
    "import pandas as pd\n",
    "import numpy as np\n",
    "import matplotlib.pyplot as plt\n",
    "\n",
    "data0 = pd.read_csv(\"./Admission_Predict.csv\", sep=',')\n",
    "# realtest= pd.read_csv(\"./Admission_Predict_Ver1.1.csv\", sep=',')\n"
   ]
  },
  {
   "cell_type": "markdown",
   "id": "219e8d9f",
   "metadata": {},
   "source": [
    "# Observation des données"
   ]
  },
  {
   "cell_type": "code",
   "execution_count": 2,
   "id": "9bd3d25a",
   "metadata": {},
   "outputs": [
    {
     "name": "stdout",
     "output_type": "stream",
     "text": [
      "<class 'pandas.core.frame.DataFrame'>\n"
     ]
    },
    {
     "data": {
      "text/html": [
       "<div>\n",
       "<style scoped>\n",
       "    .dataframe tbody tr th:only-of-type {\n",
       "        vertical-align: middle;\n",
       "    }\n",
       "\n",
       "    .dataframe tbody tr th {\n",
       "        vertical-align: top;\n",
       "    }\n",
       "\n",
       "    .dataframe thead th {\n",
       "        text-align: right;\n",
       "    }\n",
       "</style>\n",
       "<table border=\"1\" class=\"dataframe\">\n",
       "  <thead>\n",
       "    <tr style=\"text-align: right;\">\n",
       "      <th></th>\n",
       "      <th>No</th>\n",
       "      <th>GRE</th>\n",
       "      <th>TOEFL</th>\n",
       "      <th>Univ</th>\n",
       "      <th>SOP</th>\n",
       "      <th>LOR</th>\n",
       "      <th>CGPA</th>\n",
       "      <th>Research</th>\n",
       "      <th>Chance_Admit</th>\n",
       "    </tr>\n",
       "  </thead>\n",
       "  <tbody>\n",
       "    <tr>\n",
       "      <th>0</th>\n",
       "      <td>1</td>\n",
       "      <td>337</td>\n",
       "      <td>118</td>\n",
       "      <td>4</td>\n",
       "      <td>4.5</td>\n",
       "      <td>4.5</td>\n",
       "      <td>9.65</td>\n",
       "      <td>1</td>\n",
       "      <td>0.92</td>\n",
       "    </tr>\n",
       "    <tr>\n",
       "      <th>1</th>\n",
       "      <td>2</td>\n",
       "      <td>324</td>\n",
       "      <td>107</td>\n",
       "      <td>4</td>\n",
       "      <td>4.0</td>\n",
       "      <td>4.5</td>\n",
       "      <td>8.87</td>\n",
       "      <td>1</td>\n",
       "      <td>0.76</td>\n",
       "    </tr>\n",
       "    <tr>\n",
       "      <th>2</th>\n",
       "      <td>3</td>\n",
       "      <td>316</td>\n",
       "      <td>104</td>\n",
       "      <td>3</td>\n",
       "      <td>3.0</td>\n",
       "      <td>3.5</td>\n",
       "      <td>8.00</td>\n",
       "      <td>1</td>\n",
       "      <td>0.72</td>\n",
       "    </tr>\n",
       "    <tr>\n",
       "      <th>3</th>\n",
       "      <td>4</td>\n",
       "      <td>322</td>\n",
       "      <td>110</td>\n",
       "      <td>3</td>\n",
       "      <td>3.5</td>\n",
       "      <td>2.5</td>\n",
       "      <td>8.67</td>\n",
       "      <td>1</td>\n",
       "      <td>0.80</td>\n",
       "    </tr>\n",
       "    <tr>\n",
       "      <th>4</th>\n",
       "      <td>5</td>\n",
       "      <td>314</td>\n",
       "      <td>103</td>\n",
       "      <td>2</td>\n",
       "      <td>2.0</td>\n",
       "      <td>3.0</td>\n",
       "      <td>8.21</td>\n",
       "      <td>0</td>\n",
       "      <td>0.65</td>\n",
       "    </tr>\n",
       "  </tbody>\n",
       "</table>\n",
       "</div>"
      ],
      "text/plain": [
       "   No  GRE  TOEFL  Univ  SOP  LOR   CGPA  Research  Chance_Admit\n",
       "0   1  337    118     4  4.5   4.5  9.65         1          0.92\n",
       "1   2  324    107     4  4.0   4.5  8.87         1          0.76\n",
       "2   3  316    104     3  3.0   3.5  8.00         1          0.72\n",
       "3   4  322    110     3  3.5   2.5  8.67         1          0.80\n",
       "4   5  314    103     2  2.0   3.0  8.21         0          0.65"
      ]
     },
     "execution_count": 2,
     "metadata": {},
     "output_type": "execute_result"
    }
   ],
   "source": [
    "print(type(data0))     \n",
    "data0.head()\n",
    "data=data0.rename(columns={\"Serial No.\": \"No\", \"GRE Score\": \"GRE\", \"TOEFL Score\":\"TOEFL\", \"University Rating\": \"Univ\", \"Chance of Admit \": \"Chance_Admit\"})\n",
    "data.head()"
   ]
  },
  {
   "cell_type": "code",
   "execution_count": 3,
   "id": "194fbeb1",
   "metadata": {},
   "outputs": [
    {
     "data": {
      "text/html": [
       "<div>\n",
       "<style scoped>\n",
       "    .dataframe tbody tr th:only-of-type {\n",
       "        vertical-align: middle;\n",
       "    }\n",
       "\n",
       "    .dataframe tbody tr th {\n",
       "        vertical-align: top;\n",
       "    }\n",
       "\n",
       "    .dataframe thead th {\n",
       "        text-align: right;\n",
       "    }\n",
       "</style>\n",
       "<table border=\"1\" class=\"dataframe\">\n",
       "  <thead>\n",
       "    <tr style=\"text-align: right;\">\n",
       "      <th></th>\n",
       "      <th>No</th>\n",
       "      <th>GRE</th>\n",
       "      <th>TOEFL</th>\n",
       "      <th>Univ</th>\n",
       "      <th>SOP</th>\n",
       "      <th>LOR</th>\n",
       "      <th>CGPA</th>\n",
       "      <th>Research</th>\n",
       "      <th>Chance_Admit</th>\n",
       "    </tr>\n",
       "  </thead>\n",
       "  <tbody>\n",
       "    <tr>\n",
       "      <th>count</th>\n",
       "      <td>400.000000</td>\n",
       "      <td>400.000000</td>\n",
       "      <td>400.000000</td>\n",
       "      <td>400.000000</td>\n",
       "      <td>400.000000</td>\n",
       "      <td>400.000000</td>\n",
       "      <td>400.000000</td>\n",
       "      <td>400.000000</td>\n",
       "      <td>400.000000</td>\n",
       "    </tr>\n",
       "    <tr>\n",
       "      <th>mean</th>\n",
       "      <td>200.500000</td>\n",
       "      <td>316.807500</td>\n",
       "      <td>107.410000</td>\n",
       "      <td>3.087500</td>\n",
       "      <td>3.400000</td>\n",
       "      <td>3.452500</td>\n",
       "      <td>8.598925</td>\n",
       "      <td>0.547500</td>\n",
       "      <td>0.724350</td>\n",
       "    </tr>\n",
       "    <tr>\n",
       "      <th>std</th>\n",
       "      <td>115.614301</td>\n",
       "      <td>11.473646</td>\n",
       "      <td>6.069514</td>\n",
       "      <td>1.143728</td>\n",
       "      <td>1.006869</td>\n",
       "      <td>0.898478</td>\n",
       "      <td>0.596317</td>\n",
       "      <td>0.498362</td>\n",
       "      <td>0.142609</td>\n",
       "    </tr>\n",
       "    <tr>\n",
       "      <th>min</th>\n",
       "      <td>1.000000</td>\n",
       "      <td>290.000000</td>\n",
       "      <td>92.000000</td>\n",
       "      <td>1.000000</td>\n",
       "      <td>1.000000</td>\n",
       "      <td>1.000000</td>\n",
       "      <td>6.800000</td>\n",
       "      <td>0.000000</td>\n",
       "      <td>0.340000</td>\n",
       "    </tr>\n",
       "    <tr>\n",
       "      <th>25%</th>\n",
       "      <td>100.750000</td>\n",
       "      <td>308.000000</td>\n",
       "      <td>103.000000</td>\n",
       "      <td>2.000000</td>\n",
       "      <td>2.500000</td>\n",
       "      <td>3.000000</td>\n",
       "      <td>8.170000</td>\n",
       "      <td>0.000000</td>\n",
       "      <td>0.640000</td>\n",
       "    </tr>\n",
       "    <tr>\n",
       "      <th>50%</th>\n",
       "      <td>200.500000</td>\n",
       "      <td>317.000000</td>\n",
       "      <td>107.000000</td>\n",
       "      <td>3.000000</td>\n",
       "      <td>3.500000</td>\n",
       "      <td>3.500000</td>\n",
       "      <td>8.610000</td>\n",
       "      <td>1.000000</td>\n",
       "      <td>0.730000</td>\n",
       "    </tr>\n",
       "    <tr>\n",
       "      <th>75%</th>\n",
       "      <td>300.250000</td>\n",
       "      <td>325.000000</td>\n",
       "      <td>112.000000</td>\n",
       "      <td>4.000000</td>\n",
       "      <td>4.000000</td>\n",
       "      <td>4.000000</td>\n",
       "      <td>9.062500</td>\n",
       "      <td>1.000000</td>\n",
       "      <td>0.830000</td>\n",
       "    </tr>\n",
       "    <tr>\n",
       "      <th>max</th>\n",
       "      <td>400.000000</td>\n",
       "      <td>340.000000</td>\n",
       "      <td>120.000000</td>\n",
       "      <td>5.000000</td>\n",
       "      <td>5.000000</td>\n",
       "      <td>5.000000</td>\n",
       "      <td>9.920000</td>\n",
       "      <td>1.000000</td>\n",
       "      <td>0.970000</td>\n",
       "    </tr>\n",
       "  </tbody>\n",
       "</table>\n",
       "</div>"
      ],
      "text/plain": [
       "               No         GRE       TOEFL        Univ         SOP        LOR   \\\n",
       "count  400.000000  400.000000  400.000000  400.000000  400.000000  400.000000   \n",
       "mean   200.500000  316.807500  107.410000    3.087500    3.400000    3.452500   \n",
       "std    115.614301   11.473646    6.069514    1.143728    1.006869    0.898478   \n",
       "min      1.000000  290.000000   92.000000    1.000000    1.000000    1.000000   \n",
       "25%    100.750000  308.000000  103.000000    2.000000    2.500000    3.000000   \n",
       "50%    200.500000  317.000000  107.000000    3.000000    3.500000    3.500000   \n",
       "75%    300.250000  325.000000  112.000000    4.000000    4.000000    4.000000   \n",
       "max    400.000000  340.000000  120.000000    5.000000    5.000000    5.000000   \n",
       "\n",
       "             CGPA    Research  Chance_Admit  \n",
       "count  400.000000  400.000000    400.000000  \n",
       "mean     8.598925    0.547500      0.724350  \n",
       "std      0.596317    0.498362      0.142609  \n",
       "min      6.800000    0.000000      0.340000  \n",
       "25%      8.170000    0.000000      0.640000  \n",
       "50%      8.610000    1.000000      0.730000  \n",
       "75%      9.062500    1.000000      0.830000  \n",
       "max      9.920000    1.000000      0.970000  "
      ]
     },
     "execution_count": 3,
     "metadata": {},
     "output_type": "execute_result"
    }
   ],
   "source": [
    "data.describe()"
   ]
  },
  {
   "cell_type": "code",
   "execution_count": 4,
   "id": "de6a7c76",
   "metadata": {},
   "outputs": [
    {
     "name": "stdout",
     "output_type": "stream",
     "text": [
      "(400, 9)\n",
      "<class 'pandas.core.frame.DataFrame'>\n",
      "RangeIndex: 400 entries, 0 to 399\n",
      "Data columns (total 9 columns):\n",
      " #   Column        Non-Null Count  Dtype  \n",
      "---  ------        --------------  -----  \n",
      " 0   No            400 non-null    float64\n",
      " 1   GRE           400 non-null    float64\n",
      " 2   TOEFL         400 non-null    float64\n",
      " 3   Univ          400 non-null    float64\n",
      " 4   SOP           400 non-null    float64\n",
      " 5   LOR           400 non-null    float64\n",
      " 6   CGPA          400 non-null    float64\n",
      " 7   Research      400 non-null    float64\n",
      " 8   Chance_Admit  400 non-null    float64\n",
      "dtypes: float64(9)\n",
      "memory usage: 28.2 KB\n"
     ]
    }
   ],
   "source": [
    "#on passe toutes les variables en float, pour faire une régression linéaire multivariée par la suite \n",
    "print(data.shape)\n",
    "for i in data.columns:\n",
    "    data[i]=data[i].astype(np.float64)\n",
    "data.info()"
   ]
  },
  {
   "cell_type": "code",
   "execution_count": 5,
   "id": "d9cc8feb",
   "metadata": {},
   "outputs": [
    {
     "name": "stdout",
     "output_type": "stream",
     "text": [
      "donnees manquantes dans le train set: No              0\n",
      "GRE             0\n",
      "TOEFL           0\n",
      "Univ            0\n",
      "SOP             0\n",
      "LOR             0\n",
      "CGPA            0\n",
      "Research        0\n",
      "Chance_Admit    0\n",
      "dtype: int64\n"
     ]
    }
   ],
   "source": [
    "#Nombre de valeurs manquantes\n",
    "print(\"donnees manquantes dans le train set:\", data.isnull().sum())"
   ]
  },
  {
   "cell_type": "markdown",
   "id": "2b1e70f1",
   "metadata": {},
   "source": [
    "Il n'y a pas de valeurs manquantes dans le training set. "
   ]
  },
  {
   "cell_type": "code",
   "execution_count": 6,
   "id": "d258c6df",
   "metadata": {},
   "outputs": [
    {
     "data": {
      "image/png": "[encoded data removed]",
      "text/plain": [
       "<Figure size 432x288 with 2 Axes>"
      ]
     },
     "metadata": {
      "needs_background": "light"
     },
     "output_type": "display_data"
    }
   ],
   "source": [
    "data2=data.drop(columns=[\"No\"])\n",
    "corr_matrix=data2.corr()\n",
    "import seaborn as sn\n",
    "import matplotlib.pyplot as plt\n",
    "sn.heatmap(corr_matrix, annot=True)\n",
    "plt.show()"
   ]
  },
  {
   "cell_type": "code",
   "execution_count": 7,
   "id": "af89b25c",
   "metadata": {},
   "outputs": [
    {
     "name": "stdout",
     "output_type": "stream",
     "text": [
      "<class 'pandas.core.frame.DataFrame'>\n",
      "     GRE  TOEFL  Univ  SOP  LOR   CGPA  Research\n",
      "0  337.0  118.0   4.0  4.5   4.5  9.65       1.0\n",
      "1  324.0  107.0   4.0  4.0   4.5  8.87       1.0\n"
     ]
    }
   ],
   "source": [
    "Y_train=data.pop(\"Chance_Admit\")\n",
    "#print(Y_train[0:2])\n",
    "\n",
    "X_train=data.drop(columns=[\"No\"])\n",
    "print(type(X_train))\n",
    "print(X_train[0:2])"
   ]
  },
  {
   "cell_type": "markdown",
   "id": "697692aa",
   "metadata": {},
   "source": [
    "On split les données de training en training set et validation set"
   ]
  },
  {
   "cell_type": "code",
   "execution_count": 8,
   "id": "48481046",
   "metadata": {},
   "outputs": [
    {
     "name": "stdout",
     "output_type": "stream",
     "text": [
      "taille des sets (268, 7) (268,) (132, 7) (132,)\n"
     ]
    }
   ],
   "source": [
    "from sklearn.model_selection import train_test_split\n",
    "X_train_split, X_val, Y_train_split, Y_val = train_test_split(X_train, Y_train, test_size=0.33, random_state=0)\n",
    "print(\"taille des sets\", X_train_split.shape, Y_train_split.shape, X_val.shape, Y_val.shape)"
   ]
  },
  {
   "cell_type": "markdown",
   "id": "26ce899f",
   "metadata": {},
   "source": [
    "# Tests de modèles de régression et performances"
   ]
  },
  {
   "cell_type": "markdown",
   "id": "a6f7d0b3",
   "metadata": {},
   "source": [
    "## Régression pénalisée Elastic Net"
   ]
  },
  {
   "cell_type": "code",
   "execution_count": 9,
   "id": "cdecce44",
   "metadata": {},
   "outputs": [
    {
     "name": "stdout",
     "output_type": "stream",
     "text": [
      "[0.0064675 0.        0.        0.        0.        0.        0.       ]\n",
      "-1.3224272970966244\n",
      "{'alpha': 1.0, 'copy_X': True, 'fit_intercept': True, 'l1_ratio': 0.5, 'max_iter': 1000, 'normalize': 'deprecated', 'positive': False, 'precompute': False, 'random_state': 0, 'selection': 'cyclic', 'tol': 0.0001, 'warm_start': False}\n",
      "R2: 0.5187928215292901\n"
     ]
    },
    {
     "data": {
      "image/png": "[encoded data removed]",
      "text/plain": [
       "<Figure size 432x288 with 1 Axes>"
      ]
     },
     "metadata": {
      "needs_background": "light"
     },
     "output_type": "display_data"
    },
    {
     "data": {
      "text/plain": [
       "(array([ 1.,  0.,  4.,  0.,  1.,  1.,  3.,  2.,  4.,  4.,  9., 14.,  7.,\n",
       "        13., 16., 18., 12., 10.,  9.,  4.]),\n",
       " array([-0.32483616, -0.30109979, -0.27736341, -0.25362704, -0.22989067,\n",
       "        -0.20615429, -0.18241792, -0.15868154, -0.13494517, -0.1112088 ,\n",
       "        -0.08747242, -0.06373605, -0.03999967, -0.0162633 ,  0.00747307,\n",
       "         0.03120945,  0.05494582,  0.0786822 ,  0.10241857,  0.12615494,\n",
       "         0.14989132]),\n",
       " <BarContainer object of 20 artists>)"
      ]
     },
     "execution_count": 9,
     "metadata": {},
     "output_type": "execute_result"
    },
    {
     "data": {
      "image/png": "[encoded data removed]",
      "text/plain": [
       "<Figure size 432x288 with 1 Axes>"
      ]
     },
     "metadata": {
      "needs_background": "light"
     },
     "output_type": "display_data"
    }
   ],
   "source": [
    "# Régression linaire ElasticNet avec penalisation l1 et l2\n",
    "from sklearn.linear_model import ElasticNet\n",
    "regr = ElasticNet(random_state=0)\n",
    "regr.fit(X_train_split, Y_train_split)\n",
    "print(regr.coef_)\n",
    "print(regr.intercept_)\n",
    "\n",
    "#Afficher R2 calulé sur l'ensemble de validation\n",
    "print(regr.get_params(deep=True))\n",
    "print(\"R2:\", regr.score(X_val, Y_val))\n",
    "Y_hat=regr.predict(X_val)\n",
    "#print(Y_hat)\n",
    "\n",
    "\n",
    "fig=plt.plot(Y_hat, (Y_val-Y_hat), \"ob\")\n",
    "plt.xlabel('Y adjusted')\n",
    "plt.ylabel('Residuals')\n",
    "plt.show()\n",
    "plt.hist(Y_val-Y_hat, bins=20)"
   ]
  },
  {
   "cell_type": "raw",
   "id": "258b45db",
   "metadata": {},
   "source": [
    "Ce score R2 n'est pas très bon. \n",
    "On va essayer de faire de l'optimisation des hyperparamètres avec ElasticNetCV pour améliorer R2"
   ]
  },
  {
   "cell_type": "code",
   "execution_count": 10,
   "id": "508b8014",
   "metadata": {},
   "outputs": [
    {
     "name": "stdout",
     "output_type": "stream",
     "text": [
      "alpha: 0.002808234573401648\n",
      "l1_ratio 0.5\n",
      "intercept: -1.39302622720056\n",
      "coeff: [0.00247755 0.00259115 0.00268322 0.00137356 0.01916244 0.11246678\n",
      " 0.01273363]\n",
      "R2: 0.7569074724281852\n",
      "[0.69261511 0.69532756 0.77754975 0.62354356 0.72302409 0.60960697\n",
      " 0.70939862 0.648812   0.87931468 0.91510408 0.541932   0.87678321\n",
      " 0.72546104 0.470857   0.84845829 0.62688404 0.63159184 0.81726679\n",
      " 0.59894986 0.73681107 0.87650871 0.85060494 0.65162587 0.45785915\n",
      " 0.78170374 0.58640857 0.49503287 0.65123262 0.88773639 0.66536643\n",
      " 0.63451083 0.73872562 0.73635726 0.55666701 0.78819878 0.77044294\n",
      " 0.66047743 0.85328239 0.63163675 0.92857554 0.72612606 0.6777278\n",
      " 0.7084839  0.79972497 0.83507496 0.66874439 0.5758632  0.69641309\n",
      " 0.61126514 0.60273966 0.6765585  0.79937787 0.64716807 0.87558857\n",
      " 0.71711606 0.74956727 0.72123109 0.73380076 0.76355344 0.82288625\n",
      " 0.76852315 0.47426605 0.64076596 0.52564659 0.82965666 0.81474816\n",
      " 0.73305591 0.86280522 0.77356772 0.74420142 0.60638966 0.82388448\n",
      " 0.81645415 0.60893875 0.92599081 0.63311455 0.63850237 0.65232891\n",
      " 0.90401115 0.51646332 0.73099807 0.75749494 0.60232997 0.85802881\n",
      " 0.60363922 0.79571772 0.65059768 0.72756017 0.80408535 0.84541527\n",
      " 0.7706712  0.93949211 0.55471503 0.55339933 0.83649373 0.67189385\n",
      " 0.75861712 0.63196759 0.75253977 0.74993896 0.70591963 0.70170424\n",
      " 0.7828243  0.53347704 0.77254373 0.69108258 0.9548596  0.61735675\n",
      " 0.75467503 0.67270553 0.59092765 0.75423989 0.70727988 0.70546793\n",
      " 0.8384115  0.85227447 0.9023946  0.75370807 0.66370604 0.61973868\n",
      " 0.57067252 0.68897561 0.87409813 0.66319148 0.4778955  0.88542389\n",
      " 0.91744762 0.70301836 0.6941604  0.5589752  0.89603871 0.71402005]\n"
     ]
    },
    {
     "data": {
      "image/png": "[encoded data removed]",
      "text/plain": [
       "<Figure size 432x288 with 1 Axes>"
      ]
     },
     "metadata": {
      "needs_background": "light"
     },
     "output_type": "display_data"
    },
    {
     "data": {
      "text/plain": [
       "(array([ 3.,  2.,  0.,  1.,  0.,  2.,  1.,  2.,  1.,  3.,  2.,  6., 10.,\n",
       "        16., 19., 29., 12., 12.,  7.,  4.]),\n",
       " array([-0.23819878, -0.22096602, -0.20373326, -0.1865005 , -0.16926774,\n",
       "        -0.15203498, -0.13480222, -0.11756946, -0.10033669, -0.08310393,\n",
       "        -0.06587117, -0.04863841, -0.03140565, -0.01417289,  0.00305987,\n",
       "         0.02029263,  0.03752539,  0.05475816,  0.07199092,  0.08922368,\n",
       "         0.10645644]),\n",
       " <BarContainer object of 20 artists>)"
      ]
     },
     "execution_count": 10,
     "metadata": {},
     "output_type": "execute_result"
    },
    {
     "data": {
      "image/png": "[encoded data removed]",
      "text/plain": [
       "<Figure size 432x288 with 1 Axes>"
      ]
     },
     "metadata": {
      "needs_background": "light"
     },
     "output_type": "display_data"
    }
   ],
   "source": [
    "#Optimisation des hyperpamramètres du modèle ElasticNet\n",
    "from sklearn.linear_model import ElasticNetCV\n",
    "\n",
    "regr_2=ElasticNetCV(cv=5, random_state=None)\n",
    "regr_2.fit(X_train_split, Y_train_split)   \n",
    "print(\"alpha:\", regr_2.alpha_)\n",
    "print(\"l1_ratio\", regr_2.l1_ratio_)\n",
    "print(\"intercept:\", regr_2.intercept_)\n",
    "print(\"coeff:\", regr_2.coef_)\n",
    "\n",
    "\n",
    "#Afficher R2 sur calculé sur l'ensemble de validation\n",
    "print(\"R2:\", regr_2.score(X_val, Y_val))\n",
    "Y_hat2=regr_2.predict(X_val)\n",
    "print(Y_hat2)\n",
    "\n",
    "\n",
    "fig=plt.plot(Y_hat2, (Y_val-Y_hat2), \"ob\")\n",
    "plt.xlabel('Y adjusted')\n",
    "plt.ylabel('Residuals')\n",
    "plt.show()\n",
    "plt.hist(Y_val-Y_hat2, bins=20)"
   ]
  },
  {
   "cell_type": "markdown",
   "id": "6c185068",
   "metadata": {},
   "source": [
    "## Régression Random Forest"
   ]
  },
  {
   "cell_type": "code",
   "execution_count": 11,
   "id": "86a26a4b",
   "metadata": {},
   "outputs": [
    {
     "name": "stdout",
     "output_type": "stream",
     "text": [
      "R2 0.6964660673240395\n",
      "[0.698  0.6313 0.7645 0.6642 0.7151 0.6584 0.7109 0.6687 0.9191 0.923\n",
      " 0.5347 0.9114 0.7006 0.46   0.8455 0.6626 0.6732 0.8098 0.6116 0.7378\n",
      " 0.8397 0.854  0.6444 0.4536 0.8148 0.6461 0.4325 0.6815 0.865  0.6878\n",
      " 0.6553 0.7271 0.7432 0.6472 0.7972 0.7612 0.6568 0.8838 0.6289 0.9418\n",
      " 0.7293 0.6735 0.6754 0.8033 0.825  0.6504 0.5749 0.6793 0.6442 0.6289\n",
      " 0.6702 0.786  0.6472 0.8525 0.6954 0.7278 0.6506 0.7361 0.7459 0.8315\n",
      " 0.7528 0.4841 0.6433 0.5166 0.829  0.8751 0.7192 0.9137 0.7569 0.7298\n",
      " 0.5878 0.8395 0.868  0.6035 0.9202 0.615  0.6693 0.6557 0.9252 0.5579\n",
      " 0.6816 0.7094 0.611  0.8569 0.6072 0.7821 0.7005 0.7132 0.7863 0.8153\n",
      " 0.7594 0.9375 0.5184 0.5683 0.8354 0.6884 0.7521 0.6713 0.7363 0.7703\n",
      " 0.705  0.673  0.7164 0.5775 0.75   0.6819 0.9342 0.6402 0.7018 0.6703\n",
      " 0.6156 0.7507 0.7169 0.6698 0.8186 0.9015 0.9217 0.7339 0.7031 0.6523\n",
      " 0.6278 0.6604 0.9034 0.6812 0.5042 0.9255 0.9144 0.6822 0.7073 0.5026\n",
      " 0.9117 0.6723]\n"
     ]
    },
    {
     "data": {
      "image/png": "[encoded data removed]",
      "text/plain": [
       "<Figure size 432x288 with 1 Axes>"
      ]
     },
     "metadata": {
      "needs_background": "light"
     },
     "output_type": "display_data"
    },
    {
     "data": {
      "text/plain": [
       "(array([ 1.,  1.,  1.,  1.,  3.,  1.,  1.,  3.,  1.,  0.,  6.,  7., 14.,\n",
       "        20., 26., 22., 12.,  5.,  4.,  3.]),\n",
       " array([-0.2878 , -0.26654, -0.24528, -0.22402, -0.20276, -0.1815 ,\n",
       "        -0.16024, -0.13898, -0.11772, -0.09646, -0.0752 , -0.05394,\n",
       "        -0.03268, -0.01142,  0.00984,  0.0311 ,  0.05236,  0.07362,\n",
       "         0.09488,  0.11614,  0.1374 ]),\n",
       " <BarContainer object of 20 artists>)"
      ]
     },
     "execution_count": 11,
     "metadata": {},
     "output_type": "execute_result"
    },
    {
     "data": {
      "image/png": "[encoded data removed]",
      "text/plain": [
       "<Figure size 432x288 with 1 Axes>"
      ]
     },
     "metadata": {
      "needs_background": "light"
     },
     "output_type": "display_data"
    }
   ],
   "source": [
    "#test de RF regressor\n",
    "from sklearn.ensemble import RandomForestRegressor\n",
    "regrrf = RandomForestRegressor(max_depth=100, random_state=0)\n",
    "regrrf.fit(X_train_split, Y_train_split)\n",
    "\n",
    "#Afficher R2 calulé sur l'ensemble de validation\n",
    "print(\"R2\", regrrf.score(X_val, Y_val))\n",
    "Y_hatrf=regrrf.predict(X_val)\n",
    "print(Y_hatrf)\n",
    "\n",
    "fig=plt.plot(Y_hatrf, (Y_val-Y_hatrf), \"ob\")\n",
    "plt.xlabel('Y adjusted')\n",
    "plt.ylabel('Residuals')\n",
    "plt.show()\n",
    "plt.hist(Y_val-Y_hatrf, bins=20)"
   ]
  },
  {
   "cell_type": "code",
   "execution_count": 12,
   "id": "350ca409",
   "metadata": {},
   "outputs": [
    {
     "name": "stdout",
     "output_type": "stream",
     "text": [
      "{'bootstrap': [True, False],\n",
      " 'max_depth': [10, 20, 30, 40, 50, 60, 70, 80, 90, 100, 110, None],\n",
      " 'max_features': ['auto', 'sqrt'],\n",
      " 'min_samples_leaf': [1, 2, 4],\n",
      " 'min_samples_split': [2, 5, 10],\n",
      " 'n_estimators': [200, 400, 600, 800, 1000, 1200, 1400, 1600, 1800, 2000]}\n",
      "Fitting 3 folds for each of 100 candidates, totalling 300 fits\n"
     ]
    },
    {
     "data": {
      "text/plain": [
       "RandomizedSearchCV(cv=3, estimator=RandomForestRegressor(), n_iter=100,\n",
       "                   n_jobs=-1,\n",
       "                   param_distributions={'bootstrap': [True, False],\n",
       "                                        'max_depth': [10, 20, 30, 40, 50, 60,\n",
       "                                                      70, 80, 90, 100, 110,\n",
       "                                                      None],\n",
       "                                        'max_features': ['auto', 'sqrt'],\n",
       "                                        'min_samples_leaf': [1, 2, 4],\n",
       "                                        'min_samples_split': [2, 5, 10],\n",
       "                                        'n_estimators': [200, 400, 600, 800,\n",
       "                                                         1000, 1200, 1400, 1600,\n",
       "                                                         1800, 2000]},\n",
       "                   random_state=42, verbose=2)"
      ]
     },
     "execution_count": 12,
     "metadata": {},
     "output_type": "execute_result"
    }
   ],
   "source": [
    "#Optimisation des hyperparamètres du RF regressor\n",
    "from sklearn.ensemble import RandomForestRegressor\n",
    "from pprint import pprint \n",
    "\n",
    "from sklearn.model_selection import RandomizedSearchCV\n",
    "# Number of trees in random forest\n",
    "n_estimators = [int(x) for x in np.linspace(start = 200, stop = 2000, num = 10)]\n",
    "# Number of features to consider at every split\n",
    "max_features = ['auto', 'sqrt']\n",
    "# Maximum number of levels in tree\n",
    "max_depth = [int(x) for x in np.linspace(10, 110, num = 11)]\n",
    "max_depth.append(None)\n",
    "# Minimum number of samples required to split a node\n",
    "min_samples_split = [2, 5, 10]\n",
    "# Minimum number of samples required at each leaf node\n",
    "min_samples_leaf = [1, 2, 4]\n",
    "# Method of selecting samples for training each tree\n",
    "bootstrap = [True, False]\n",
    "# Create the random grid\n",
    "random_grid = {'n_estimators': n_estimators,\n",
    "               'max_features': max_features,\n",
    "               'max_depth': max_depth,\n",
    "               'min_samples_split': min_samples_split,\n",
    "               'min_samples_leaf': min_samples_leaf,\n",
    "               'bootstrap': bootstrap}\n",
    "pprint(random_grid)\n",
    "{'bootstrap': [True, False],\n",
    " 'max_depth': [10, 20, 30, 40, 50, 60, 70, 80, 90, 100, None],\n",
    " 'max_features': ['auto', 'sqrt'],\n",
    " 'min_samples_leaf': [1, 2, 4],\n",
    " 'min_samples_split': [2, 5, 10],\n",
    " 'n_estimators': [200, 400, 600, 800, 1000, 1200, 1400, 1600, 1800, 2000]}\n",
    "\n",
    "\n",
    "# Use the random grid to search for best hyperparameters\n",
    "# First create the base model to tune\n",
    "rf = RandomForestRegressor()\n",
    "# Random search of parameters, using 3 fold cross validation, \n",
    "# search across 100 different combinations, and use all available cores\n",
    "rf_random = RandomizedSearchCV(estimator = rf, param_distributions = random_grid, n_iter = 100, cv = 3, verbose=2, random_state=42, n_jobs = -1)\n",
    "# Fit the random search model\n",
    "rf_random.fit(X_train_split, Y_train_split)\n",
    "\n"
   ]
  },
  {
   "cell_type": "code",
   "execution_count": 13,
   "id": "9eb5214f",
   "metadata": {},
   "outputs": [
    {
     "name": "stdout",
     "output_type": "stream",
     "text": [
      "dict_values([1000, 5, 2, 'sqrt', 10, True])\n"
     ]
    }
   ],
   "source": [
    "dico=rf_random.best_params_\n",
    "print(dico.values())"
   ]
  },
  {
   "cell_type": "code",
   "execution_count": 14,
   "id": "8125925f",
   "metadata": {},
   "outputs": [
    {
     "name": "stdout",
     "output_type": "stream",
     "text": [
      "R2 0.7502608903732435\n",
      "[0.69274064 0.67406679 0.76750473 0.66032268 0.70982588 0.64380983\n",
      " 0.69849417 0.68166128 0.88518606 0.92301878 0.5437921  0.91299769\n",
      " 0.70637345 0.47591649 0.84410557 0.66712167 0.64659685 0.8057857\n",
      " 0.60319721 0.7301384  0.86067516 0.84194564 0.63929839 0.45962521\n",
      " 0.80943595 0.61173159 0.45964879 0.68631077 0.89283189 0.67271498\n",
      " 0.64103229 0.71957335 0.7398499  0.58978733 0.78479102 0.75170127\n",
      " 0.65150377 0.87621044 0.63172304 0.93004794 0.71991316 0.67634512\n",
      " 0.72229696 0.79668255 0.81554173 0.68007596 0.58335842 0.7084925\n",
      " 0.64054096 0.60970813 0.67647323 0.77162887 0.65288109 0.88705588\n",
      " 0.71268584 0.73320333 0.76818595 0.73473535 0.76593032 0.84759972\n",
      " 0.73793021 0.47411347 0.65757296 0.51784735 0.83623995 0.82174836\n",
      " 0.72571027 0.90573166 0.73624791 0.73578722 0.6081731  0.83048088\n",
      " 0.80680001 0.61924061 0.91079688 0.66844135 0.66452416 0.67734042\n",
      " 0.92773272 0.52523676 0.71018422 0.72329286 0.62503624 0.8550176\n",
      " 0.63031335 0.78565513 0.6704048  0.70833405 0.79056814 0.81830342\n",
      " 0.75646773 0.93445593 0.56991804 0.57512319 0.8480937  0.68061043\n",
      " 0.75500961 0.6609783  0.73198025 0.74575402 0.70045088 0.67466153\n",
      " 0.76462153 0.56229044 0.75910882 0.68208855 0.94064663 0.63771621\n",
      " 0.7188358  0.66261585 0.60022385 0.75889058 0.70876366 0.71310302\n",
      " 0.85338549 0.88231845 0.9215242  0.75009405 0.67955444 0.64370806\n",
      " 0.58094099 0.66911117 0.90630997 0.67706943 0.50825989 0.92203268\n",
      " 0.90874631 0.68293684 0.71450448 0.53750852 0.91414021 0.68445926]\n"
     ]
    },
    {
     "data": {
      "image/png": "[encoded data removed]",
      "text/plain": [
       "<Figure size 432x288 with 1 Axes>"
      ]
     },
     "metadata": {
      "needs_background": "light"
     },
     "output_type": "display_data"
    },
    {
     "data": {
      "text/plain": [
       "(array([ 3.,  1.,  1.,  1.,  1.,  1.,  1.,  2.,  2.,  1.,  4.,  5.,  6.,\n",
       "        17., 18., 32., 14.,  6., 12.,  4.]),\n",
       " array([-0.24712167, -0.22964101, -0.21216035, -0.1946797 , -0.17719904,\n",
       "        -0.15971838, -0.14223772, -0.12475707, -0.10727641, -0.08979575,\n",
       "        -0.0723151 , -0.05483444, -0.03735378, -0.01987312, -0.00239247,\n",
       "         0.01508819,  0.03256885,  0.05004951,  0.06753016,  0.08501082,\n",
       "         0.10249148]),\n",
       " <BarContainer object of 20 artists>)"
      ]
     },
     "execution_count": 14,
     "metadata": {},
     "output_type": "execute_result"
    },
    {
     "data": {
      "image/png": "[encoded data removed]",
      "text/plain": [
       "<Figure size 432x288 with 1 Axes>"
      ]
     },
     "metadata": {
      "needs_background": "light"
     },
     "output_type": "display_data"
    }
   ],
   "source": [
    "#RF regressor avec hyperparamètres optimaux\n",
    "rf_new=RandomForestRegressor(n_estimators=dico.get('n_estimators'), min_samples_split=dico.get('min_samples_split'), min_samples_leaf=dico.get('min_samples_leaf'), max_features=dico.get('max_features'), max_depth=dico.get('max_depth'), bootstrap=dico.get('bootstrap'))\n",
    "rf_new.fit(X_train_split, Y_train_split)\n",
    "#Afficher R2 calulé sur l'ensemble de validation\n",
    "print(\"R2\", rf_new.score(X_val, Y_val))\n",
    "Y_hatrf_new=rf_new.predict(X_val)\n",
    "print(Y_hatrf_new)\n",
    "\n",
    "\n",
    "fig=plt.plot(Y_hatrf_new, (Y_val-Y_hatrf_new), \"ob\")\n",
    "plt.xlabel('Y adjusted')\n",
    "plt.ylabel('Residuals')\n",
    "plt.show()\n",
    "plt.hist(Y_val-Y_hatrf_new, bins=20)"
   ]
  },
  {
   "cell_type": "markdown",
   "id": "c134c96d",
   "metadata": {},
   "source": [
    "# Tester un réseau de neurones pour la régression"
   ]
  },
  {
   "cell_type": "code",
   "execution_count": 31,
   "id": "5fa43b96",
   "metadata": {},
   "outputs": [
    {
     "name": "stdout",
     "output_type": "stream",
     "text": [
      "Selecting TensorBoard with logdir /tmp/logs (started 0:38:06 ago; port 6006, pid 5992).\n"
     ]
    },
    {
     "data": {
      "text/html": [
       "\n",
       "      <iframe id=\"tensorboard-frame-a0b58f88663500e2\" width=\"100%\" height=\"800\" frameborder=\"0\">\n",
       "      </iframe>\n",
       "      <script>\n",
       "        (function() {\n",
       "          const frame = document.getElementById(\"tensorboard-frame-a0b58f88663500e2\");\n",
       "          const url = new URL(\"/\", window.location);\n",
       "          const port = 6006;\n",
       "          if (port) {\n",
       "            url.port = port;\n",
       "          }\n",
       "          frame.src = url;\n",
       "        })();\n",
       "      </script>\n",
       "    "
      ],
      "text/plain": [
       "<IPython.core.display.HTML object>"
      ]
     },
     "metadata": {},
     "output_type": "display_data"
    },
    {
     "name": "stdout",
     "output_type": "stream",
     "text": [
      "The tensorboard extension is already loaded. To reload it, use:\n",
      "  %reload_ext tensorboard\n"
     ]
    },
    {
     "data": {
      "text/plain": [
       "Reusing TensorBoard on port 6006 (pid 5992), started 0:38:06 ago. (Use '!kill 5992' to kill it.)"
      ]
     },
     "metadata": {},
     "output_type": "display_data"
    },
    {
     "data": {
      "text/html": [
       "\n",
       "      <iframe id=\"tensorboard-frame-d2bac2faf42ab78f\" width=\"100%\" height=\"800\" frameborder=\"0\">\n",
       "      </iframe>\n",
       "      <script>\n",
       "        (function() {\n",
       "          const frame = document.getElementById(\"tensorboard-frame-d2bac2faf42ab78f\");\n",
       "          const url = new URL(\"/\", window.location);\n",
       "          const port = 6006;\n",
       "          if (port) {\n",
       "            url.port = port;\n",
       "          }\n",
       "          frame.src = url;\n",
       "        })();\n",
       "      </script>\n",
       "    "
      ],
      "text/plain": [
       "<IPython.core.display.HTML object>"
      ]
     },
     "metadata": {},
     "output_type": "display_data"
    },
    {
     "name": "stdout",
     "output_type": "stream",
     "text": [
      "Selecting TensorBoard with logdir /tmp/logs (started 0:38:06 ago; port 6006, pid 5992).\n"
     ]
    },
    {
     "data": {
      "text/html": [
       "\n",
       "      <iframe id=\"tensorboard-frame-839f83d6f4321605\" width=\"100%\" height=\"800\" frameborder=\"0\">\n",
       "      </iframe>\n",
       "      <script>\n",
       "        (function() {\n",
       "          const frame = document.getElementById(\"tensorboard-frame-839f83d6f4321605\");\n",
       "          const url = new URL(\"/\", window.location);\n",
       "          const port = 6006;\n",
       "          if (port) {\n",
       "            url.port = port;\n",
       "          }\n",
       "          frame.src = url;\n",
       "        })();\n",
       "      </script>\n",
       "    "
      ],
      "text/plain": [
       "<IPython.core.display.HTML object>"
      ]
     },
     "metadata": {},
     "output_type": "display_data"
    },
    {
     "name": "stdout",
     "output_type": "stream",
     "text": [
      "7\n"
     ]
    }
   ],
   "source": [
    "import torch\n",
    "from torch.utils.data import TensorDataset, DataLoader\n",
    "from torch.utils.tensorboard import SummaryWriter\n",
    "import time\n",
    "import os\n",
    "from tensorboard import notebook\n",
    "notebook.display()\n",
    "%load_ext tensorboard\n",
    "%tensorboard --logdir /tmp/logs\n",
    "\n",
    "notebook.display()\n",
    "\n",
    "use_cuda = torch.cuda.is_available()\n",
    "device = torch.device(\"cuda\" if use_cuda else \"cpu\")\n",
    "\n",
    "def save_state(epoch,model,optim,fichier):\n",
    "    state = {'epoch' : epoch, 'model_state': model.state_dict(), 'optim_state': optim.state_dict()}\n",
    "    torch.save(state,fichier)\n",
    "\n",
    "def load_state(fichier,model,optim):\n",
    "    epoch = 0\n",
    "    if os.path.isfile(fichier):\n",
    "        state = torch.load(fichier)\n",
    "        model.load_state_dict(state['model_state'])\n",
    "        optim.load_state_dict(state['optim_state'])\n",
    "        epoch = state['epoch']\n",
    "    return epoch\n",
    "\n",
    "X_tr = torch.tensor(X_train_split.values, dtype=torch.float)\n",
    "num_features=X_tr.shape[1]\n",
    "print(num_features)\n",
    "Y_tr = torch.tensor(Y_train_split.values, dtype=torch.float)\n",
    "X_v=torch.tensor(X_val.values, dtype=torch.float)\n",
    "Y_v=torch.tensor(Y_val.values, dtype=torch.float)\n",
    "\n",
    "# Datasets\n",
    "\n",
    "train_dataset = TensorDataset(X_tr, Y_tr)\n",
    "val_dataset = TensorDataset(X_v, Y_v)\n",
    "\n",
    "train_loader = DataLoader(train_dataset, batch_size=10, shuffle=True)\n",
    "valid_loader = DataLoader(val_dataset, batch_size=10, shuffle=False)\n",
    "    \n",
    "\n",
    "\n",
    "EPOCHS = 1000\n",
    "BATCH_SIZE = 16\n",
    "\n",
    "net = torch.nn.Sequential(torch.nn.Linear(X_tr.size(1),5),torch.nn.Tanh(),torch.nn.Linear(5,1))\n",
    "net.name = \"mon_premier_reseau\"\n",
    "CHECK_FILE = \"/tmp/mon_premier_reseau.chk\"\n",
    "net = net.to(device)\n",
    "MyLoss = torch.nn.MSELoss()\n",
    "optim = torch.optim.SGD(params=net.parameters(),lr=1e-5)\n",
    "\n",
    "#start_epoch = load_state(CHECK_FILE,net,optim)\n",
    "start_epoch=0\n",
    "\n",
    "# On créé un writer avec la date du modèle pour s'y retrouver\n",
    "summary = SummaryWriter(f\"/tmp/logs/model--{time.time_ns()}\")\n",
    "for epoch in range(EPOCHS):\n",
    "    # Apprentissage\n",
    "    net.train()\n",
    "    cumloss = 0\n",
    "    for xbatch, ybatch in train_loader:\n",
    "        xbatch, ybatch = xbatch.to(device), ybatch.to(device)\n",
    "        outputs = net(xbatch)\n",
    "        loss = MyLoss(outputs.view(-1),ybatch)\n",
    "        optim.zero_grad()\n",
    "        loss.backward()\n",
    "        optim.step()\n",
    "        cumloss += loss.item()\n",
    "    summary.add_scalar(\"loss/train loss\",  cumloss/len(train_loader),epoch)\n",
    "     \n",
    "    if epoch % 10 == 0: \n",
    "        save_state(epoch,net,optim,CHECK_FILE)\n",
    "        # Validation\n",
    "        # .eval() inutile tant qu'on utilise pas de normalisation ou de récurrent\n",
    "        net.eval()\n",
    "        with torch.no_grad():\n",
    "            cumloss = 0\n",
    "            for xbatch, ybatch in valid_loader:\n",
    "                xbatch, ybatch = xbatch.to(device), ybatch.to(device)\n",
    "                outputs = net(xbatch)\n",
    "            cumloss += MyLoss(outputs.view(-1),ybatch).item()\n",
    "        summary.add_scalar(\"loss/validation loss\", cumloss/len(valid_loader) ,epoch)\n",
    "        \n",
    "        \n",
    "\n"
   ]
  },
  {
   "cell_type": "code",
   "execution_count": null,
   "id": "d1f13e36",
   "metadata": {},
   "outputs": [],
   "source": []
  }
 ],
 "metadata": {
  "kernelspec": {
   "display_name": "Python 3 (ipykernel)",
   "language": "python",
   "name": "python3"
  },
  "language_info": {
   "codemirror_mode": {
    "name": "ipython",
    "version": 3
   },
   "file_extension": ".py",
   "mimetype": "text/x-python",
   "name": "python",
   "nbconvert_exporter": "python",
   "pygments_lexer": "ipython3",
   "version": "3.9.12"
  }
 },
 "nbformat": 4,
 "nbformat_minor": 5
}
